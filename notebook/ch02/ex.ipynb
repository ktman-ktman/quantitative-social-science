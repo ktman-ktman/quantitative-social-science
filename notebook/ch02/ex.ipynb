{
 "cells": [
  {
   "cell_type": "markdown",
   "metadata": {},
   "source": [
    "# 演習問題"
   ]
  },
  {
   "cell_type": "code",
   "execution_count": 27,
   "metadata": {},
   "outputs": [],
   "source": [
    "ENV[\"LINES\"] = 10\n",
    "ENV[\"COLUMNS\"] = 1000\n",
    "using DataFrames, DataFramesMeta, CSV, CategoricalArrays, Statistics, FreqTables"
   ]
  },
  {
   "cell_type": "markdown",
   "metadata": {},
   "source": [
    "## 2.8.1 初期教育における少人数クラスの有効性"
   ]
  },
  {
   "cell_type": "code",
   "execution_count": 11,
   "metadata": {},
   "outputs": [
    {
     "data": {
      "text/html": [
       "<div class=\"data-frame\"><p>6,325 rows × 6 columns</p><table class=\"data-frame\"><thead><tr><th></th><th>race</th><th>classtype</th><th>yearssmall</th><th>hsgrad</th><th>g4math</th><th>g4reading</th></tr><tr><th></th><th title=\"Union{Missing, Int64}\">Int64?</th><th title=\"Int64\">Int64</th><th title=\"Int64\">Int64</th><th title=\"Union{Missing, Int64}\">Int64?</th><th title=\"Union{Missing, Int64}\">Int64?</th><th title=\"Union{Missing, Int64}\">Int64?</th></tr></thead><tbody><tr><th>1</th><td>1</td><td>3</td><td>0</td><td><em>missing</em></td><td><em>missing</em></td><td><em>missing</em></td></tr><tr><th>2</th><td>2</td><td>3</td><td>0</td><td><em>missing</em></td><td>706</td><td>661</td></tr><tr><th>3</th><td>1</td><td>3</td><td>0</td><td>1</td><td>711</td><td>750</td></tr><tr><th>4</th><td>2</td><td>1</td><td>4</td><td><em>missing</em></td><td>672</td><td>659</td></tr><tr><th>5</th><td>1</td><td>2</td><td>0</td><td><em>missing</em></td><td><em>missing</em></td><td><em>missing</em></td></tr><tr><th>6</th><td>1</td><td>3</td><td>0</td><td><em>missing</em></td><td><em>missing</em></td><td><em>missing</em></td></tr><tr><th>7</th><td>1</td><td>1</td><td>4</td><td><em>missing</em></td><td>668</td><td>657</td></tr><tr><th>8</th><td>1</td><td>3</td><td>0</td><td><em>missing</em></td><td><em>missing</em></td><td><em>missing</em></td></tr><tr><th>9</th><td>1</td><td>1</td><td>4</td><td>1</td><td>709</td><td>725</td></tr><tr><th>10</th><td>1</td><td>2</td><td>0</td><td>1</td><td>698</td><td>692</td></tr><tr><th>&vellip;</th><td>&vellip;</td><td>&vellip;</td><td>&vellip;</td><td>&vellip;</td><td>&vellip;</td><td>&vellip;</td></tr></tbody></table></div>"
      ],
      "text/latex": [
       "\\begin{tabular}{r|cccccc}\n",
       "\t& race & classtype & yearssmall & hsgrad & g4math & g4reading\\\\\n",
       "\t\\hline\n",
       "\t& Int64? & Int64 & Int64 & Int64? & Int64? & Int64?\\\\\n",
       "\t\\hline\n",
       "\t1 & 1 & 3 & 0 & \\emph{missing} & \\emph{missing} & \\emph{missing} \\\\\n",
       "\t2 & 2 & 3 & 0 & \\emph{missing} & 706 & 661 \\\\\n",
       "\t3 & 1 & 3 & 0 & 1 & 711 & 750 \\\\\n",
       "\t4 & 2 & 1 & 4 & \\emph{missing} & 672 & 659 \\\\\n",
       "\t5 & 1 & 2 & 0 & \\emph{missing} & \\emph{missing} & \\emph{missing} \\\\\n",
       "\t6 & 1 & 3 & 0 & \\emph{missing} & \\emph{missing} & \\emph{missing} \\\\\n",
       "\t7 & 1 & 1 & 4 & \\emph{missing} & 668 & 657 \\\\\n",
       "\t8 & 1 & 3 & 0 & \\emph{missing} & \\emph{missing} & \\emph{missing} \\\\\n",
       "\t9 & 1 & 1 & 4 & 1 & 709 & 725 \\\\\n",
       "\t10 & 1 & 2 & 0 & 1 & 698 & 692 \\\\\n",
       "\t$\\dots$ & $\\dots$ & $\\dots$ & $\\dots$ & $\\dots$ & $\\dots$ & $\\dots$ \\\\\n",
       "\\end{tabular}\n"
      ],
      "text/plain": [
       "\u001b[1m6325×6 DataFrame\u001b[0m\n",
       "\u001b[1m  Row \u001b[0m│\u001b[1m race   \u001b[0m\u001b[1m classtype \u001b[0m\u001b[1m yearssmall \u001b[0m\u001b[1m hsgrad  \u001b[0m\u001b[1m g4math  \u001b[0m\u001b[1m g4reading \u001b[0m\n",
       "\u001b[1m      \u001b[0m│\u001b[90m Int64? \u001b[0m\u001b[90m Int64     \u001b[0m\u001b[90m Int64      \u001b[0m\u001b[90m Int64?  \u001b[0m\u001b[90m Int64?  \u001b[0m\u001b[90m Int64?    \u001b[0m\n",
       "──────┼────────────────────────────────────────────────────────────\n",
       "    1 │      1          3           0 \u001b[90m missing \u001b[0m\u001b[90m missing \u001b[0m\u001b[90m   missing \u001b[0m\n",
       "  ⋮   │   ⋮         ⋮          ⋮          ⋮        ⋮         ⋮\n",
       "\u001b[36m                                                  6324 rows omitted\u001b[0m"
      ]
     },
     "metadata": {},
     "output_type": "display_data"
    }
   ],
   "source": [
    "star_df = CSV.read(\"../../data/CAUSALITY/small-class-size/data/STAR.csv\", DataFrame, missingstring=[\"NA\"])"
   ]
  },
  {
   "cell_type": "code",
   "execution_count": 12,
   "metadata": {},
   "outputs": [
    {
     "data": {
      "text/html": [
       "<div class=\"data-frame\"><p>6,325 rows × 7 columns</p><table class=\"data-frame\"><thead><tr><th></th><th>race</th><th>classtype</th><th>yearssmall</th><th>hsgrad</th><th>g4math</th><th>g4reading</th><th>kinder</th></tr><tr><th></th><th title=\"Union{Missing, String}\">String?</th><th title=\"Int64\">Int64</th><th title=\"Int64\">Int64</th><th title=\"Union{Missing, Int64}\">Int64?</th><th title=\"Union{Missing, Int64}\">Int64?</th><th title=\"Union{Missing, Int64}\">Int64?</th><th title=\"String\">String</th></tr></thead><tbody><tr><th>1</th><td>white</td><td>3</td><td>0</td><td><em>missing</em></td><td><em>missing</em></td><td><em>missing</em></td><td>large</td></tr><tr><th>2</th><td>black</td><td>3</td><td>0</td><td><em>missing</em></td><td>706</td><td>661</td><td>large</td></tr><tr><th>3</th><td>white</td><td>3</td><td>0</td><td>1</td><td>711</td><td>750</td><td>large</td></tr><tr><th>4</th><td>black</td><td>1</td><td>4</td><td><em>missing</em></td><td>672</td><td>659</td><td>small</td></tr><tr><th>5</th><td>white</td><td>2</td><td>0</td><td><em>missing</em></td><td><em>missing</em></td><td><em>missing</em></td><td>normal</td></tr><tr><th>6</th><td>white</td><td>3</td><td>0</td><td><em>missing</em></td><td><em>missing</em></td><td><em>missing</em></td><td>large</td></tr><tr><th>7</th><td>white</td><td>1</td><td>4</td><td><em>missing</em></td><td>668</td><td>657</td><td>small</td></tr><tr><th>8</th><td>white</td><td>3</td><td>0</td><td><em>missing</em></td><td><em>missing</em></td><td><em>missing</em></td><td>large</td></tr><tr><th>9</th><td>white</td><td>1</td><td>4</td><td>1</td><td>709</td><td>725</td><td>small</td></tr><tr><th>10</th><td>white</td><td>2</td><td>0</td><td>1</td><td>698</td><td>692</td><td>normal</td></tr><tr><th>&vellip;</th><td>&vellip;</td><td>&vellip;</td><td>&vellip;</td><td>&vellip;</td><td>&vellip;</td><td>&vellip;</td><td>&vellip;</td></tr></tbody></table></div>"
      ],
      "text/latex": [
       "\\begin{tabular}{r|ccccccc}\n",
       "\t& race & classtype & yearssmall & hsgrad & g4math & g4reading & kinder\\\\\n",
       "\t\\hline\n",
       "\t& String? & Int64 & Int64 & Int64? & Int64? & Int64? & String\\\\\n",
       "\t\\hline\n",
       "\t1 & white & 3 & 0 & \\emph{missing} & \\emph{missing} & \\emph{missing} & large \\\\\n",
       "\t2 & black & 3 & 0 & \\emph{missing} & 706 & 661 & large \\\\\n",
       "\t3 & white & 3 & 0 & 1 & 711 & 750 & large \\\\\n",
       "\t4 & black & 1 & 4 & \\emph{missing} & 672 & 659 & small \\\\\n",
       "\t5 & white & 2 & 0 & \\emph{missing} & \\emph{missing} & \\emph{missing} & normal \\\\\n",
       "\t6 & white & 3 & 0 & \\emph{missing} & \\emph{missing} & \\emph{missing} & large \\\\\n",
       "\t7 & white & 1 & 4 & \\emph{missing} & 668 & 657 & small \\\\\n",
       "\t8 & white & 3 & 0 & \\emph{missing} & \\emph{missing} & \\emph{missing} & large \\\\\n",
       "\t9 & white & 1 & 4 & 1 & 709 & 725 & small \\\\\n",
       "\t10 & white & 2 & 0 & 1 & 698 & 692 & normal \\\\\n",
       "\t$\\dots$ & $\\dots$ & $\\dots$ & $\\dots$ & $\\dots$ & $\\dots$ & $\\dots$ & $\\dots$ \\\\\n",
       "\\end{tabular}\n"
      ],
      "text/plain": [
       "\u001b[1m6325×7 DataFrame\u001b[0m\n",
       "\u001b[1m  Row \u001b[0m│\u001b[1m race    \u001b[0m\u001b[1m classtype \u001b[0m\u001b[1m yearssmall \u001b[0m\u001b[1m hsgrad  \u001b[0m\u001b[1m g4math  \u001b[0m\u001b[1m g4reading \u001b[0m\u001b[1m kinder \u001b[0m\n",
       "\u001b[1m      \u001b[0m│\u001b[90m String? \u001b[0m\u001b[90m Int64     \u001b[0m\u001b[90m Int64      \u001b[0m\u001b[90m Int64?  \u001b[0m\u001b[90m Int64?  \u001b[0m\u001b[90m Int64?    \u001b[0m\u001b[90m String \u001b[0m\n",
       "──────┼─────────────────────────────────────────────────────────────────────\n",
       "    1 │ white            3           0 \u001b[90m missing \u001b[0m\u001b[90m missing \u001b[0m\u001b[90m   missing \u001b[0m large\n",
       "  ⋮   │    ⋮         ⋮          ⋮          ⋮        ⋮         ⋮        ⋮\n",
       "\u001b[36m                                                           6324 rows omitted\u001b[0m"
      ]
     },
     "metadata": {},
     "output_type": "display_data"
    }
   ],
   "source": [
    "race_d = Dict(\n",
    "    1 => \"white\",\n",
    "    2 => \"black\",\n",
    "    3 => \"others\",\n",
    "    4 => \"hipanic\",\n",
    "    5 => \"others\",\n",
    "    6 => \"others\",\n",
    ")\n",
    "classtype_d = Dict(\n",
    "    1 => \"small\",\n",
    "    2 => \"normal\",\n",
    "    3 => \"large\",\n",
    ")\n",
    "star_df = @chain star_df begin\n",
    "    @rtransform begin\n",
    "        :race = ismissing(:race) ? missing : race_d[:race]\n",
    "        :kinder = ismissing(:classtype) ? missing : classtype_d[:classtype]\n",
    "    end\n",
    "end"
   ]
  },
  {
   "cell_type": "code",
   "execution_count": 20,
   "metadata": {},
   "outputs": [
    {
     "data": {
      "text/html": [
       "<div class=\"data-frame\"><p>7 rows × 7 columns</p><table class=\"data-frame\"><thead><tr><th></th><th>variable</th><th>mean</th><th>min</th><th>median</th><th>max</th><th>nmissing</th><th>eltype</th></tr><tr><th></th><th title=\"Symbol\">Symbol</th><th title=\"Union{Nothing, Float64}\">Union…</th><th title=\"Any\">Any</th><th title=\"Union{Nothing, Float64}\">Union…</th><th title=\"Any\">Any</th><th title=\"Int64\">Int64</th><th title=\"Type\">Type</th></tr></thead><tbody><tr><th>1</th><td>race</td><td></td><td>black</td><td></td><td>white</td><td>1</td><td>Union{Missing, String}</td></tr><tr><th>2</th><td>classtype</td><td>1.0</td><td>1</td><td>1.0</td><td>1</td><td>0</td><td>Int64</td></tr><tr><th>3</th><td>yearssmall</td><td>2.70158</td><td>1</td><td>3.0</td><td>4</td><td>0</td><td>Int64</td></tr><tr><th>4</th><td>hsgrad</td><td>0.83592</td><td>0</td><td>1.0</td><td>1</td><td>998</td><td>Union{Missing, Int64}</td></tr><tr><th>5</th><td>g4math</td><td>709.185</td><td>487</td><td>710.0</td><td>821</td><td>1160</td><td>Union{Missing, Int64}</td></tr><tr><th>6</th><td>g4reading</td><td>723.391</td><td>528</td><td>724.0</td><td>836</td><td>1174</td><td>Union{Missing, Int64}</td></tr><tr><th>7</th><td>kinder</td><td></td><td>small</td><td></td><td>small</td><td>0</td><td>String</td></tr></tbody></table></div>"
      ],
      "text/latex": [
       "\\begin{tabular}{r|ccccccc}\n",
       "\t& variable & mean & min & median & max & nmissing & eltype\\\\\n",
       "\t\\hline\n",
       "\t& Symbol & Union… & Any & Union… & Any & Int64 & Type\\\\\n",
       "\t\\hline\n",
       "\t1 & race &  & black &  & white & 1 & Union\\{Missing, String\\} \\\\\n",
       "\t2 & classtype & 1.0 & 1 & 1.0 & 1 & 0 & Int64 \\\\\n",
       "\t3 & yearssmall & 2.70158 & 1 & 3.0 & 4 & 0 & Int64 \\\\\n",
       "\t4 & hsgrad & 0.83592 & 0 & 1.0 & 1 & 998 & Union\\{Missing, Int64\\} \\\\\n",
       "\t5 & g4math & 709.185 & 487 & 710.0 & 821 & 1160 & Union\\{Missing, Int64\\} \\\\\n",
       "\t6 & g4reading & 723.391 & 528 & 724.0 & 836 & 1174 & Union\\{Missing, Int64\\} \\\\\n",
       "\t7 & kinder &  & small &  & small & 0 & String \\\\\n",
       "\\end{tabular}\n"
      ],
      "text/plain": [
       "\u001b[1m7×7 DataFrame\u001b[0m\n",
       "\u001b[1m Row \u001b[0m│\u001b[1m variable   \u001b[0m\u001b[1m mean    \u001b[0m\u001b[1m min   \u001b[0m\u001b[1m median \u001b[0m\u001b[1m max   \u001b[0m\u001b[1m nmissing \u001b[0m\u001b[1m eltype                 \u001b[0m\n",
       "\u001b[1m     \u001b[0m│\u001b[90m Symbol     \u001b[0m\u001b[90m Union…  \u001b[0m\u001b[90m Any   \u001b[0m\u001b[90m Union… \u001b[0m\u001b[90m Any   \u001b[0m\u001b[90m Int64    \u001b[0m\u001b[90m Type                   \u001b[0m\n",
       "─────┼─────────────────────────────────────────────────────────────────────────────\n",
       "   1 │ race       \u001b[90m         \u001b[0m black \u001b[90m        \u001b[0m white         1  Union{Missing, String}\n",
       "  ⋮  │     ⋮          ⋮       ⋮      ⋮       ⋮       ⋮                ⋮\n",
       "\u001b[36m                                                                     6 rows omitted\u001b[0m"
      ]
     },
     "metadata": {},
     "output_type": "display_data"
    }
   ],
   "source": [
    "@rsubset(star_df, :kinder == \"small\") |> describe"
   ]
  },
  {
   "cell_type": "code",
   "execution_count": 21,
   "metadata": {},
   "outputs": [
    {
     "data": {
      "text/html": [
       "<div class=\"data-frame\"><p>7 rows × 7 columns</p><table class=\"data-frame\"><thead><tr><th></th><th>variable</th><th>mean</th><th>min</th><th>median</th><th>max</th><th>nmissing</th><th>eltype</th></tr><tr><th></th><th title=\"Symbol\">Symbol</th><th title=\"Union{Nothing, Float64}\">Union…</th><th title=\"Any\">Any</th><th title=\"Union{Nothing, Float64}\">Union…</th><th title=\"Any\">Any</th><th title=\"Int64\">Int64</th><th title=\"Type\">Type</th></tr></thead><tbody><tr><th>1</th><td>race</td><td></td><td>black</td><td></td><td>white</td><td>2</td><td>Union{Missing, String}</td></tr><tr><th>2</th><td>classtype</td><td>2.0</td><td>2</td><td>2.0</td><td>2</td><td>0</td><td>Int64</td></tr><tr><th>3</th><td>yearssmall</td><td>0.205561</td><td>0</td><td>0.0</td><td>3</td><td>0</td><td>Int64</td></tr><tr><th>4</th><td>hsgrad</td><td>0.825162</td><td>0</td><td>1.0</td><td>1</td><td>1113</td><td>Union{Missing, Int64}</td></tr><tr><th>5</th><td>g4math</td><td>709.521</td><td>487</td><td>710.0</td><td>821</td><td>1352</td><td>Union{Missing, Int64}</td></tr><tr><th>6</th><td>g4reading</td><td>719.89</td><td>528</td><td>723.0</td><td>836</td><td>1358</td><td>Union{Missing, Int64}</td></tr><tr><th>7</th><td>kinder</td><td></td><td>normal</td><td></td><td>normal</td><td>0</td><td>String</td></tr></tbody></table></div>"
      ],
      "text/latex": [
       "\\begin{tabular}{r|ccccccc}\n",
       "\t& variable & mean & min & median & max & nmissing & eltype\\\\\n",
       "\t\\hline\n",
       "\t& Symbol & Union… & Any & Union… & Any & Int64 & Type\\\\\n",
       "\t\\hline\n",
       "\t1 & race &  & black &  & white & 2 & Union\\{Missing, String\\} \\\\\n",
       "\t2 & classtype & 2.0 & 2 & 2.0 & 2 & 0 & Int64 \\\\\n",
       "\t3 & yearssmall & 0.205561 & 0 & 0.0 & 3 & 0 & Int64 \\\\\n",
       "\t4 & hsgrad & 0.825162 & 0 & 1.0 & 1 & 1113 & Union\\{Missing, Int64\\} \\\\\n",
       "\t5 & g4math & 709.521 & 487 & 710.0 & 821 & 1352 & Union\\{Missing, Int64\\} \\\\\n",
       "\t6 & g4reading & 719.89 & 528 & 723.0 & 836 & 1358 & Union\\{Missing, Int64\\} \\\\\n",
       "\t7 & kinder &  & normal &  & normal & 0 & String \\\\\n",
       "\\end{tabular}\n"
      ],
      "text/plain": [
       "\u001b[1m7×7 DataFrame\u001b[0m\n",
       "\u001b[1m Row \u001b[0m│\u001b[1m variable   \u001b[0m\u001b[1m mean     \u001b[0m\u001b[1m min    \u001b[0m\u001b[1m median \u001b[0m\u001b[1m max    \u001b[0m\u001b[1m nmissing \u001b[0m\u001b[1m eltype                 \u001b[0m\n",
       "\u001b[1m     \u001b[0m│\u001b[90m Symbol     \u001b[0m\u001b[90m Union…   \u001b[0m\u001b[90m Any    \u001b[0m\u001b[90m Union… \u001b[0m\u001b[90m Any    \u001b[0m\u001b[90m Int64    \u001b[0m\u001b[90m Type                   \u001b[0m\n",
       "─────┼────────────────────────────────────────────────────────────────────────────────\n",
       "   1 │ race       \u001b[90m          \u001b[0m black  \u001b[90m        \u001b[0m white          2  Union{Missing, String}\n",
       "  ⋮  │     ⋮          ⋮        ⋮       ⋮       ⋮        ⋮                ⋮\n",
       "\u001b[36m                                                                        6 rows omitted\u001b[0m"
      ]
     },
     "metadata": {},
     "output_type": "display_data"
    }
   ],
   "source": [
    "@rsubset(star_df, :kinder == \"normal\") |> describe"
   ]
  },
  {
   "cell_type": "code",
   "execution_count": 26,
   "metadata": {},
   "outputs": [
    {
     "data": {
      "text/html": [
       "<div class=\"data-frame\"><p>2 rows × 5 columns</p><table class=\"data-frame\"><thead><tr><th></th><th>kinder</th><th>math_33</th><th>math_66</th><th>reading_33</th><th>reading_66</th></tr><tr><th></th><th title=\"String\">String</th><th title=\"Float64\">Float64</th><th title=\"Float64\">Float64</th><th title=\"Float64\">Float64</th><th title=\"Float64\">Float64</th></tr></thead><tbody><tr><th>1</th><td>small</td><td>694.0</td><td>726.0</td><td>705.0</td><td>741.0</td></tr><tr><th>2</th><td>normal</td><td>696.0</td><td>724.0</td><td>705.0</td><td>740.0</td></tr></tbody></table></div>"
      ],
      "text/latex": [
       "\\begin{tabular}{r|ccccc}\n",
       "\t& kinder & math\\_33 & math\\_66 & reading\\_33 & reading\\_66\\\\\n",
       "\t\\hline\n",
       "\t& String & Float64 & Float64 & Float64 & Float64\\\\\n",
       "\t\\hline\n",
       "\t1 & small & 694.0 & 726.0 & 705.0 & 741.0 \\\\\n",
       "\t2 & normal & 696.0 & 724.0 & 705.0 & 740.0 \\\\\n",
       "\\end{tabular}\n"
      ],
      "text/plain": [
       "\u001b[1m2×5 DataFrame\u001b[0m\n",
       "\u001b[1m Row \u001b[0m│\u001b[1m kinder \u001b[0m\u001b[1m math_33 \u001b[0m\u001b[1m math_66 \u001b[0m\u001b[1m reading_33 \u001b[0m\u001b[1m reading_66 \u001b[0m\n",
       "\u001b[1m     \u001b[0m│\u001b[90m String \u001b[0m\u001b[90m Float64 \u001b[0m\u001b[90m Float64 \u001b[0m\u001b[90m Float64    \u001b[0m\u001b[90m Float64    \u001b[0m\n",
       "─────┼──────────────────────────────────────────────────\n",
       "   1 │ small     694.0    726.0       705.0       741.0\n",
       "   2 │ normal    696.0    724.0       705.0       740.0"
      ]
     },
     "metadata": {},
     "output_type": "display_data"
    }
   ],
   "source": [
    "@chain star_df begin\n",
    "    @rsubset(:kinder in [\"small\", \"normal\"])\n",
    "    groupby(:kinder)\n",
    "    @combine begin\n",
    "        :math_33 = quantile(skipmissing(:g4math), [.33])\n",
    "        :math_66 = quantile(skipmissing(:g4math), [.66])\n",
    "        :reading_33 = quantile(skipmissing(:g4reading), [.33])\n",
    "        :reading_66 = quantile(skipmissing(:g4reading), [.66])\n",
    "    end\n",
    "end"
   ]
  },
  {
   "cell_type": "code",
   "execution_count": 28,
   "metadata": {},
   "outputs": [
    {
     "data": {
      "text/plain": [
       "3×5 Named Matrix{Float64}\n",
       "kinder ╲ yearssmall │          0           1           2           3           4\n",
       "────────────────────┼───────────────────────────────────────────────────────────\n",
       "large               │   0.315573    0.015336  0.00948617    0.012332         0.0\n",
       "normal              │    0.31004   0.0150198  0.00916996   0.0126482         0.0\n",
       "small               │        0.0   0.0910672    0.043004     0.03083    0.135494"
      ]
     },
     "metadata": {},
     "output_type": "display_data"
    }
   ],
   "source": [
    "prop(freqtable(star_df, :kinder, :yearssmall))"
   ]
  },
  {
   "cell_type": "code",
   "execution_count": 29,
   "metadata": {},
   "outputs": [
    {
     "data": {
      "text/html": [
       "<div class=\"data-frame\"><p>5 rows × 5 columns</p><table class=\"data-frame\"><thead><tr><th></th><th>yearssmall</th><th>math_mean</th><th>math_median</th><th>reading_mean</th><th>reading_median</th></tr><tr><th></th><th title=\"Int64\">Int64</th><th title=\"Float64\">Float64</th><th title=\"Float64\">Float64</th><th title=\"Float64\">Float64</th><th title=\"Float64\">Float64</th></tr></thead><tbody><tr><th>1</th><td>0</td><td>707.979</td><td>710.0</td><td>719.875</td><td>722.0</td></tr><tr><th>2</th><td>1</td><td>707.552</td><td>709.0</td><td>723.147</td><td>724.5</td></tr><tr><th>3</th><td>2</td><td>711.914</td><td>714.0</td><td>717.868</td><td>720.0</td></tr><tr><th>4</th><td>3</td><td>709.617</td><td>712.0</td><td>719.899</td><td>721.0</td></tr><tr><th>5</th><td>4</td><td>710.052</td><td>711.0</td><td>724.665</td><td>726.0</td></tr></tbody></table></div>"
      ],
      "text/latex": [
       "\\begin{tabular}{r|ccccc}\n",
       "\t& yearssmall & math\\_mean & math\\_median & reading\\_mean & reading\\_median\\\\\n",
       "\t\\hline\n",
       "\t& Int64 & Float64 & Float64 & Float64 & Float64\\\\\n",
       "\t\\hline\n",
       "\t1 & 0 & 707.979 & 710.0 & 719.875 & 722.0 \\\\\n",
       "\t2 & 1 & 707.552 & 709.0 & 723.147 & 724.5 \\\\\n",
       "\t3 & 2 & 711.914 & 714.0 & 717.868 & 720.0 \\\\\n",
       "\t4 & 3 & 709.617 & 712.0 & 719.899 & 721.0 \\\\\n",
       "\t5 & 4 & 710.052 & 711.0 & 724.665 & 726.0 \\\\\n",
       "\\end{tabular}\n"
      ],
      "text/plain": [
       "\u001b[1m5×5 DataFrame\u001b[0m\n",
       "\u001b[1m Row \u001b[0m│\u001b[1m yearssmall \u001b[0m\u001b[1m math_mean \u001b[0m\u001b[1m math_median \u001b[0m\u001b[1m reading_mean \u001b[0m\u001b[1m reading_median \u001b[0m\n",
       "\u001b[1m     \u001b[0m│\u001b[90m Int64      \u001b[0m\u001b[90m Float64   \u001b[0m\u001b[90m Float64     \u001b[0m\u001b[90m Float64      \u001b[0m\u001b[90m Float64        \u001b[0m\n",
       "─────┼──────────────────────────────────────────────────────────────────\n",
       "   1 │          0    707.979        710.0       719.875           722.0\n",
       "  ⋮  │     ⋮           ⋮           ⋮            ⋮              ⋮\n",
       "\u001b[36m                                                          4 rows omitted\u001b[0m"
      ]
     },
     "metadata": {},
     "output_type": "display_data"
    }
   ],
   "source": [
    "@chain star_df begin\n",
    "    groupby(:yearssmall)\n",
    "    @combine begin\n",
    "        :math_mean = mean(skipmissing(:g4math))\n",
    "        :math_median = median(skipmissing(:g4math))\n",
    "        :reading_mean = mean(skipmissing(:g4reading))\n",
    "        :reading_median = median(skipmissing(:g4reading))\n",
    "    end\n",
    "end"
   ]
  },
  {
   "cell_type": "code",
   "execution_count": 30,
   "metadata": {},
   "outputs": [
    {
     "data": {
      "text/html": [
       "<div class=\"data-frame\"><p>12 rows × 6 columns</p><table class=\"data-frame\"><thead><tr><th></th><th>kinder</th><th>yearssmall</th><th>math_mean</th><th>math_median</th><th>reading_mean</th><th>reading_median</th></tr><tr><th></th><th title=\"String\">String</th><th title=\"Int64\">Int64</th><th title=\"Float64\">Float64</th><th title=\"Float64\">Float64</th><th title=\"Float64\">Float64</th><th title=\"Float64\">Float64</th></tr></thead><tbody><tr><th>1</th><td>large</td><td>0</td><td>707.169</td><td>710.0</td><td>720.835</td><td>722.0</td></tr><tr><th>2</th><td>small</td><td>4</td><td>710.052</td><td>711.0</td><td>724.665</td><td>726.0</td></tr><tr><th>3</th><td>normal</td><td>0</td><td>708.768</td><td>710.0</td><td>718.959</td><td>722.0</td></tr><tr><th>4</th><td>small</td><td>1</td><td>703.0</td><td>706.0</td><td>724.667</td><td>724.5</td></tr><tr><th>5</th><td>normal</td><td>2</td><td>716.974</td><td>714.0</td><td>715.778</td><td>723.0</td></tr><tr><th>6</th><td>normal</td><td>1</td><td>706.182</td><td>696.0</td><td>726.879</td><td>730.0</td></tr><tr><th>7</th><td>small</td><td>2</td><td>699.143</td><td>712.0</td><td>700.571</td><td>711.0</td></tr><tr><th>8</th><td>large</td><td>3</td><td>705.481</td><td>710.0</td><td>714.22</td><td>720.5</td></tr><tr><th>9</th><td>small</td><td>3</td><td>704.5</td><td>707.0</td><td>709.148</td><td>707.0</td></tr><tr><th>10</th><td>large</td><td>1</td><td>713.971</td><td>715.0</td><td>717.758</td><td>715.0</td></tr><tr><th>&vellip;</th><td>&vellip;</td><td>&vellip;</td><td>&vellip;</td><td>&vellip;</td><td>&vellip;</td><td>&vellip;</td></tr></tbody></table></div>"
      ],
      "text/latex": [
       "\\begin{tabular}{r|cccccc}\n",
       "\t& kinder & yearssmall & math\\_mean & math\\_median & reading\\_mean & reading\\_median\\\\\n",
       "\t\\hline\n",
       "\t& String & Int64 & Float64 & Float64 & Float64 & Float64\\\\\n",
       "\t\\hline\n",
       "\t1 & large & 0 & 707.169 & 710.0 & 720.835 & 722.0 \\\\\n",
       "\t2 & small & 4 & 710.052 & 711.0 & 724.665 & 726.0 \\\\\n",
       "\t3 & normal & 0 & 708.768 & 710.0 & 718.959 & 722.0 \\\\\n",
       "\t4 & small & 1 & 703.0 & 706.0 & 724.667 & 724.5 \\\\\n",
       "\t5 & normal & 2 & 716.974 & 714.0 & 715.778 & 723.0 \\\\\n",
       "\t6 & normal & 1 & 706.182 & 696.0 & 726.879 & 730.0 \\\\\n",
       "\t7 & small & 2 & 699.143 & 712.0 & 700.571 & 711.0 \\\\\n",
       "\t8 & large & 3 & 705.481 & 710.0 & 714.22 & 720.5 \\\\\n",
       "\t9 & small & 3 & 704.5 & 707.0 & 709.148 & 707.0 \\\\\n",
       "\t10 & large & 1 & 713.971 & 715.0 & 717.758 & 715.0 \\\\\n",
       "\t$\\dots$ & $\\dots$ & $\\dots$ & $\\dots$ & $\\dots$ & $\\dots$ & $\\dots$ \\\\\n",
       "\\end{tabular}\n"
      ],
      "text/plain": [
       "\u001b[1m12×6 DataFrame\u001b[0m\n",
       "\u001b[1m Row \u001b[0m│\u001b[1m kinder \u001b[0m\u001b[1m yearssmall \u001b[0m\u001b[1m math_mean \u001b[0m\u001b[1m math_median \u001b[0m\u001b[1m reading_mean \u001b[0m\u001b[1m reading_median \u001b[0m\n",
       "\u001b[1m     \u001b[0m│\u001b[90m String \u001b[0m\u001b[90m Int64      \u001b[0m\u001b[90m Float64   \u001b[0m\u001b[90m Float64     \u001b[0m\u001b[90m Float64      \u001b[0m\u001b[90m Float64        \u001b[0m\n",
       "─────┼──────────────────────────────────────────────────────────────────────────\n",
       "   1 │ large            0    707.169        710.0       720.835           722.0\n",
       "  ⋮  │   ⋮         ⋮           ⋮           ⋮            ⋮              ⋮\n",
       "\u001b[36m                                                                 11 rows omitted\u001b[0m"
      ]
     },
     "metadata": {},
     "output_type": "display_data"
    }
   ],
   "source": [
    "@chain star_df begin\n",
    "    groupby([:kinder, :yearssmall])\n",
    "    @combine begin\n",
    "        :math_mean = mean(skipmissing(:g4math))\n",
    "        :math_median = median(skipmissing(:g4math))\n",
    "        :reading_mean = mean(skipmissing(:g4reading))\n",
    "        :reading_median = median(skipmissing(:g4reading))\n",
    "    end\n",
    "end"
   ]
  },
  {
   "cell_type": "code",
   "execution_count": 37,
   "metadata": {},
   "outputs": [
    {
     "data": {
      "text/html": [
       "<div class=\"data-frame\"><p>4 rows × 4 columns</p><table class=\"data-frame\"><thead><tr><th></th><th>kinder</th><th>isMinority</th><th>math_mean</th><th>reading_mean</th></tr><tr><th></th><th title=\"String\">String</th><th title=\"Int64\">Int64</th><th title=\"Float64\">Float64</th><th title=\"Float64\">Float64</th></tr></thead><tbody><tr><th>1</th><td>normal</td><td>0</td><td>711.41</td><td>725.116</td></tr><tr><th>2</th><td>normal</td><td>1</td><td>698.984</td><td>690.984</td></tr><tr><th>3</th><td>small</td><td>0</td><td>711.19</td><td>727.839</td></tr><tr><th>4</th><td>small</td><td>1</td><td>698.723</td><td>700.475</td></tr></tbody></table></div>"
      ],
      "text/latex": [
       "\\begin{tabular}{r|cccc}\n",
       "\t& kinder & isMinority & math\\_mean & reading\\_mean\\\\\n",
       "\t\\hline\n",
       "\t& String & Int64 & Float64 & Float64\\\\\n",
       "\t\\hline\n",
       "\t1 & normal & 0 & 711.41 & 725.116 \\\\\n",
       "\t2 & normal & 1 & 698.984 & 690.984 \\\\\n",
       "\t3 & small & 0 & 711.19 & 727.839 \\\\\n",
       "\t4 & small & 1 & 698.723 & 700.475 \\\\\n",
       "\\end{tabular}\n"
      ],
      "text/plain": [
       "\u001b[1m4×4 DataFrame\u001b[0m\n",
       "\u001b[1m Row \u001b[0m│\u001b[1m kinder \u001b[0m\u001b[1m isMinority \u001b[0m\u001b[1m math_mean \u001b[0m\u001b[1m reading_mean \u001b[0m\n",
       "\u001b[1m     \u001b[0m│\u001b[90m String \u001b[0m\u001b[90m Int64      \u001b[0m\u001b[90m Float64   \u001b[0m\u001b[90m Float64      \u001b[0m\n",
       "─────┼─────────────────────────────────────────────\n",
       "   1 │ normal           0    711.41        725.116\n",
       "  ⋮  │   ⋮         ⋮           ⋮           ⋮\n",
       "\u001b[36m                                     3 rows omitted\u001b[0m"
      ]
     },
     "metadata": {},
     "output_type": "display_data"
    }
   ],
   "source": [
    "@chain star_df begin\n",
    "    @rsubset(:kinder in [\"small\", \"normal\"], !ismissing(:race))\n",
    "    @rtransform(:isMinority = :race == \"white\" ? 0 : 1)\n",
    "    groupby([:kinder, :isMinority])\n",
    "    @combine begin\n",
    "        :math_mean = mean(skipmissing(:g4math))\n",
    "        :reading_mean = mean(skipmissing(:g4reading))\n",
    "    end\n",
    "    @orderby(:kinder, :isMinority)\n",
    "end"
   ]
  },
  {
   "cell_type": "code",
   "execution_count": 33,
   "metadata": {},
   "outputs": [
    {
     "data": {
      "text/html": [
       "<div class=\"data-frame\"><p>2 rows × 3 columns</p><table class=\"data-frame\"><thead><tr><th></th><th>isMinority</th><th>math_mean</th><th>reading_mean</th></tr><tr><th></th><th title=\"Int64\">Int64</th><th title=\"Float64\">Float64</th><th title=\"Float64\">Float64</th></tr></thead><tbody><tr><th>1</th><td>0</td><td>711.41</td><td>725.116</td></tr><tr><th>2</th><td>1</td><td>698.984</td><td>690.984</td></tr></tbody></table></div>"
      ],
      "text/latex": [
       "\\begin{tabular}{r|ccc}\n",
       "\t& isMinority & math\\_mean & reading\\_mean\\\\\n",
       "\t\\hline\n",
       "\t& Int64 & Float64 & Float64\\\\\n",
       "\t\\hline\n",
       "\t1 & 0 & 711.41 & 725.116 \\\\\n",
       "\t2 & 1 & 698.984 & 690.984 \\\\\n",
       "\\end{tabular}\n"
      ],
      "text/plain": [
       "\u001b[1m2×3 DataFrame\u001b[0m\n",
       "\u001b[1m Row \u001b[0m│\u001b[1m isMinority \u001b[0m\u001b[1m math_mean \u001b[0m\u001b[1m reading_mean \u001b[0m\n",
       "\u001b[1m     \u001b[0m│\u001b[90m Int64      \u001b[0m\u001b[90m Float64   \u001b[0m\u001b[90m Float64      \u001b[0m\n",
       "─────┼─────────────────────────────────────\n",
       "   1 │          0    711.41        725.116\n",
       "   2 │          1    698.984       690.984"
      ]
     },
     "metadata": {},
     "output_type": "display_data"
    }
   ],
   "source": [
    "@chain star_df begin\n",
    "    @rsubset(:kinder == \"normal\", !ismissing(:race))\n",
    "    @rtransform(:isMinority = :race == \"white\" ? 0 : 1)\n",
    "    groupby(:isMinority)\n",
    "    @combine begin\n",
    "        :math_mean = mean(skipmissing(:g4math))\n",
    "        :reading_mean = mean(skipmissing(:g4reading))\n",
    "    end\n",
    "end"
   ]
  },
  {
   "cell_type": "code",
   "execution_count": 38,
   "metadata": {},
   "outputs": [
    {
     "data": {
      "text/html": [
       "<div class=\"data-frame\"><p>3 rows × 2 columns</p><table class=\"data-frame\"><thead><tr><th></th><th>kinder</th><th>math_hsgrad</th></tr><tr><th></th><th title=\"String\">String</th><th title=\"Float64\">Float64</th></tr></thead><tbody><tr><th>1</th><td>large</td><td>0.839286</td></tr><tr><th>2</th><td>small</td><td>0.83592</td></tr><tr><th>3</th><td>normal</td><td>0.825162</td></tr></tbody></table></div>"
      ],
      "text/latex": [
       "\\begin{tabular}{r|cc}\n",
       "\t& kinder & math\\_hsgrad\\\\\n",
       "\t\\hline\n",
       "\t& String & Float64\\\\\n",
       "\t\\hline\n",
       "\t1 & large & 0.839286 \\\\\n",
       "\t2 & small & 0.83592 \\\\\n",
       "\t3 & normal & 0.825162 \\\\\n",
       "\\end{tabular}\n"
      ],
      "text/plain": [
       "\u001b[1m3×2 DataFrame\u001b[0m\n",
       "\u001b[1m Row \u001b[0m│\u001b[1m kinder \u001b[0m\u001b[1m math_hsgrad \u001b[0m\n",
       "\u001b[1m     \u001b[0m│\u001b[90m String \u001b[0m\u001b[90m Float64     \u001b[0m\n",
       "─────┼─────────────────────\n",
       "   1 │ large      0.839286\n",
       "   2 │ small      0.83592\n",
       "   3 │ normal     0.825162"
      ]
     },
     "metadata": {},
     "output_type": "display_data"
    }
   ],
   "source": [
    "@chain star_df begin\n",
    "    groupby(:kinder)\n",
    "    @combine begin\n",
    "        :math_hsgrad = mean(skipmissing(:hsgrad))\n",
    "    end\n",
    "end"
   ]
  },
  {
   "cell_type": "code",
   "execution_count": 39,
   "metadata": {},
   "outputs": [
    {
     "data": {
      "text/html": [
       "<div class=\"data-frame\"><p>5 rows × 2 columns</p><table class=\"data-frame\"><thead><tr><th></th><th>yearssmall</th><th>math_hsgrad</th></tr><tr><th></th><th title=\"Int64\">Int64</th><th title=\"Float64\">Float64</th></tr></thead><tbody><tr><th>1</th><td>0</td><td>0.828602</td></tr><tr><th>2</th><td>1</td><td>0.791045</td></tr><tr><th>3</th><td>2</td><td>0.813187</td></tr><tr><th>4</th><td>3</td><td>0.832461</td></tr><tr><th>5</th><td>4</td><td>0.877551</td></tr></tbody></table></div>"
      ],
      "text/latex": [
       "\\begin{tabular}{r|cc}\n",
       "\t& yearssmall & math\\_hsgrad\\\\\n",
       "\t\\hline\n",
       "\t& Int64 & Float64\\\\\n",
       "\t\\hline\n",
       "\t1 & 0 & 0.828602 \\\\\n",
       "\t2 & 1 & 0.791045 \\\\\n",
       "\t3 & 2 & 0.813187 \\\\\n",
       "\t4 & 3 & 0.832461 \\\\\n",
       "\t5 & 4 & 0.877551 \\\\\n",
       "\\end{tabular}\n"
      ],
      "text/plain": [
       "\u001b[1m5×2 DataFrame\u001b[0m\n",
       "\u001b[1m Row \u001b[0m│\u001b[1m yearssmall \u001b[0m\u001b[1m math_hsgrad \u001b[0m\n",
       "\u001b[1m     \u001b[0m│\u001b[90m Int64      \u001b[0m\u001b[90m Float64     \u001b[0m\n",
       "─────┼─────────────────────────\n",
       "   1 │          0     0.828602\n",
       "  ⋮  │     ⋮            ⋮\n",
       "\u001b[36m                 4 rows omitted\u001b[0m"
      ]
     },
     "metadata": {},
     "output_type": "display_data"
    }
   ],
   "source": [
    "@chain star_df begin\n",
    "    groupby(:yearssmall)\n",
    "    @combine begin\n",
    "        :math_hsgrad = mean(skipmissing(:hsgrad))\n",
    "    end\n",
    "end"
   ]
  },
  {
   "cell_type": "code",
   "execution_count": 44,
   "metadata": {},
   "outputs": [
    {
     "data": {
      "text/html": [
       "<div class=\"data-frame\"><p>6 rows × 3 columns</p><table class=\"data-frame\"><thead><tr><th></th><th>isMinority</th><th>kinder</th><th>math_hsgrad</th></tr><tr><th></th><th title=\"Int64\">Int64</th><th title=\"String\">String</th><th title=\"Float64\">Float64</th></tr></thead><tbody><tr><th>1</th><td>0</td><td>large</td><td>0.878748</td></tr><tr><th>2</th><td>1</td><td>large</td><td>0.737374</td></tr><tr><th>3</th><td>0</td><td>normal</td><td>0.856962</td></tr><tr><th>4</th><td>1</td><td>normal</td><td>0.738832</td></tr><tr><th>5</th><td>0</td><td>small</td><td>0.86747</td></tr><tr><th>6</th><td>1</td><td>small</td><td>0.747899</td></tr></tbody></table></div>"
      ],
      "text/latex": [
       "\\begin{tabular}{r|ccc}\n",
       "\t& isMinority & kinder & math\\_hsgrad\\\\\n",
       "\t\\hline\n",
       "\t& Int64 & String & Float64\\\\\n",
       "\t\\hline\n",
       "\t1 & 0 & large & 0.878748 \\\\\n",
       "\t2 & 1 & large & 0.737374 \\\\\n",
       "\t3 & 0 & normal & 0.856962 \\\\\n",
       "\t4 & 1 & normal & 0.738832 \\\\\n",
       "\t5 & 0 & small & 0.86747 \\\\\n",
       "\t6 & 1 & small & 0.747899 \\\\\n",
       "\\end{tabular}\n"
      ],
      "text/plain": [
       "\u001b[1m6×3 DataFrame\u001b[0m\n",
       "\u001b[1m Row \u001b[0m│\u001b[1m isMinority \u001b[0m\u001b[1m kinder \u001b[0m\u001b[1m math_hsgrad \u001b[0m\n",
       "\u001b[1m     \u001b[0m│\u001b[90m Int64      \u001b[0m\u001b[90m String \u001b[0m\u001b[90m Float64     \u001b[0m\n",
       "─────┼─────────────────────────────────\n",
       "   1 │          0  large      0.878748\n",
       "  ⋮  │     ⋮         ⋮          ⋮\n",
       "\u001b[36m                         5 rows omitted\u001b[0m"
      ]
     },
     "metadata": {},
     "output_type": "display_data"
    }
   ],
   "source": [
    "@chain star_df begin\n",
    "    @rsubset(!ismissing(:race))\n",
    "    @rtransform(:isMinority = :race == \"white\" ? 0 : 1)\n",
    "    groupby([:isMinority, :kinder])\n",
    "    @combine begin\n",
    "        :math_hsgrad = mean(skipmissing(:hsgrad))\n",
    "    end\n",
    "    @orderby(:kinder, :isMinority)\n",
    "end"
   ]
  },
  {
   "cell_type": "markdown",
   "metadata": {},
   "source": [
    "## 2.8.1 同性婚に関する意見の変化"
   ]
  },
  {
   "cell_type": "code",
   "execution_count": 45,
   "metadata": {},
   "outputs": [
    {
     "data": {
      "text/html": [
       "<div class=\"data-frame\"><p>69,592 rows × 4 columns</p><table class=\"data-frame\"><thead><tr><th></th><th>study</th><th>treatment</th><th>wave</th><th>ssm</th></tr><tr><th></th><th title=\"Int64\">Int64</th><th title=\"String\">String</th><th title=\"Int64\">Int64</th><th title=\"Int64\">Int64</th></tr></thead><tbody><tr><th>1</th><td>1</td><td>No Contact</td><td>3</td><td>5</td></tr><tr><th>2</th><td>1</td><td>No Contact</td><td>4</td><td>5</td></tr><tr><th>3</th><td>1</td><td>No Contact</td><td>1</td><td>5</td></tr><tr><th>4</th><td>1</td><td>No Contact</td><td>6</td><td>5</td></tr><tr><th>5</th><td>1</td><td>No Contact</td><td>2</td><td>5</td></tr><tr><th>6</th><td>1</td><td>No Contact</td><td>7</td><td>5</td></tr><tr><th>7</th><td>1</td><td>No Contact</td><td>7</td><td>5</td></tr><tr><th>8</th><td>1</td><td>No Contact</td><td>6</td><td>4</td></tr><tr><th>9</th><td>1</td><td>No Contact</td><td>1</td><td>4</td></tr><tr><th>10</th><td>1</td><td>No Contact</td><td>2</td><td>4</td></tr><tr><th>&vellip;</th><td>&vellip;</td><td>&vellip;</td><td>&vellip;</td><td>&vellip;</td></tr></tbody></table></div>"
      ],
      "text/latex": [
       "\\begin{tabular}{r|cccc}\n",
       "\t& study & treatment & wave & ssm\\\\\n",
       "\t\\hline\n",
       "\t& Int64 & String & Int64 & Int64\\\\\n",
       "\t\\hline\n",
       "\t1 & 1 & No Contact & 3 & 5 \\\\\n",
       "\t2 & 1 & No Contact & 4 & 5 \\\\\n",
       "\t3 & 1 & No Contact & 1 & 5 \\\\\n",
       "\t4 & 1 & No Contact & 6 & 5 \\\\\n",
       "\t5 & 1 & No Contact & 2 & 5 \\\\\n",
       "\t6 & 1 & No Contact & 7 & 5 \\\\\n",
       "\t7 & 1 & No Contact & 7 & 5 \\\\\n",
       "\t8 & 1 & No Contact & 6 & 4 \\\\\n",
       "\t9 & 1 & No Contact & 1 & 4 \\\\\n",
       "\t10 & 1 & No Contact & 2 & 4 \\\\\n",
       "\t$\\dots$ & $\\dots$ & $\\dots$ & $\\dots$ & $\\dots$ \\\\\n",
       "\\end{tabular}\n"
      ],
      "text/plain": [
       "\u001b[1m69592×4 DataFrame\u001b[0m\n",
       "\u001b[1m   Row \u001b[0m│\u001b[1m study \u001b[0m\u001b[1m treatment                         \u001b[0m\u001b[1m wave  \u001b[0m\u001b[1m ssm   \u001b[0m\n",
       "\u001b[1m       \u001b[0m│\u001b[90m Int64 \u001b[0m\u001b[90m String                            \u001b[0m\u001b[90m Int64 \u001b[0m\u001b[90m Int64 \u001b[0m\n",
       "───────┼────────────────────────────────────────────────────────\n",
       "     1 │     1  No Contact                             3      5\n",
       "   ⋮   │   ⋮                    ⋮                    ⋮      ⋮\n",
       "\u001b[36m                                              69591 rows omitted\u001b[0m"
      ]
     },
     "metadata": {},
     "output_type": "display_data"
    }
   ],
   "source": [
    "gay_df = CSV.read(\"../../data/CAUSALITY/gay-marriage/data/gay.csv\", DataFrame, missingstring=[\"NA\"])"
   ]
  },
  {
   "cell_type": "code",
   "execution_count": 47,
   "metadata": {},
   "outputs": [
    {
     "data": {
      "text/html": [
       "<div class=\"data-frame\"><p>4 rows × 13 columns</p><table class=\"data-frame\"><thead><tr><th></th><th>variable</th><th>mean</th><th>std</th><th>min</th><th>q25</th><th>median</th><th>q75</th><th>max</th><th>nunique</th><th>nmissing</th><th>first</th><th>last</th><th>eltype</th></tr><tr><th></th><th title=\"Symbol\">Symbol</th><th title=\"Union{Nothing, Float64}\">Union…</th><th title=\"Union{Nothing, Float64}\">Union…</th><th title=\"Any\">Any</th><th title=\"Union{Nothing, Float64}\">Union…</th><th title=\"Union{Nothing, Float64}\">Union…</th><th title=\"Union{Nothing, Float64}\">Union…</th><th title=\"Any\">Any</th><th title=\"Union{Nothing, Int64}\">Union…</th><th title=\"Int64\">Int64</th><th title=\"Any\">Any</th><th title=\"Any\">Any</th><th title=\"DataType\">DataType</th></tr></thead><tbody><tr><th>1</th><td>study</td><td>1.14923</td><td>0.356315</td><td>1</td><td>1.0</td><td>1.0</td><td>1.0</td><td>2</td><td></td><td>0</td><td>1</td><td>2</td><td>Int64</td></tr><tr><th>2</th><td>treatment</td><td></td><td></td><td>No Contact</td><td></td><td></td><td></td><td>Same-Sex Marriage Script by Straight Canvasser</td><td>5</td><td>0</td><td>No Contact</td><td>Same-Sex Marriage Script by Gay Canvasser</td><td>String</td></tr><tr><th>3</th><td>wave</td><td>3.75323</td><td>1.98292</td><td>1</td><td>2.0</td><td>4.0</td><td>5.0</td><td>7</td><td></td><td>0</td><td>3</td><td>4</td><td>Int64</td></tr><tr><th>4</th><td>ssm</td><td>3.10672</td><td>1.62366</td><td>1</td><td>1.0</td><td>3.0</td><td>5.0</td><td>5</td><td></td><td>0</td><td>5</td><td>5</td><td>Int64</td></tr></tbody></table></div>"
      ],
      "text/latex": [
       "\\begin{tabular}{r|ccccccccccccc}\n",
       "\t& variable & mean & std & min & q25 & median & q75 & max & nunique & nmissing & first & last & eltype\\\\\n",
       "\t\\hline\n",
       "\t& Symbol & Union… & Union… & Any & Union… & Union… & Union… & Any & Union… & Int64 & Any & Any & DataType\\\\\n",
       "\t\\hline\n",
       "\t1 & study & 1.14923 & 0.356315 & 1 & 1.0 & 1.0 & 1.0 & 2 &  & 0 & 1 & 2 & Int64 \\\\\n",
       "\t2 & treatment &  &  & No Contact &  &  &  & Same-Sex Marriage Script by Straight Canvasser & 5 & 0 & No Contact & Same-Sex Marriage Script by Gay Canvasser & String \\\\\n",
       "\t3 & wave & 3.75323 & 1.98292 & 1 & 2.0 & 4.0 & 5.0 & 7 &  & 0 & 3 & 4 & Int64 \\\\\n",
       "\t4 & ssm & 3.10672 & 1.62366 & 1 & 1.0 & 3.0 & 5.0 & 5 &  & 0 & 5 & 5 & Int64 \\\\\n",
       "\\end{tabular}\n"
      ],
      "text/plain": [
       "\u001b[1m4×13 DataFrame\u001b[0m\n",
       "\u001b[1m Row \u001b[0m│\u001b[1m variable  \u001b[0m\u001b[1m mean    \u001b[0m\u001b[1m std      \u001b[0m\u001b[1m min        \u001b[0m\u001b[1m q25    \u001b[0m\u001b[1m median \u001b[0m\u001b[1m q75    \u001b[0m\u001b[1m max                               \u001b[0m\u001b[1m nunique \u001b[0m\u001b[1m nmissing \u001b[0m\u001b[1m first      \u001b[0m\u001b[1m last                              \u001b[0m\u001b[1m eltype   \u001b[0m\n",
       "\u001b[1m     \u001b[0m│\u001b[90m Symbol    \u001b[0m\u001b[90m Union…  \u001b[0m\u001b[90m Union…   \u001b[0m\u001b[90m Any        \u001b[0m\u001b[90m Union… \u001b[0m\u001b[90m Union… \u001b[0m\u001b[90m Union… \u001b[0m\u001b[90m Any                               \u001b[0m\u001b[90m Union…  \u001b[0m\u001b[90m Int64    \u001b[0m\u001b[90m Any        \u001b[0m\u001b[90m Any                               \u001b[0m\u001b[90m DataType \u001b[0m\n",
       "─────┼─────────────────────────────────────────────────────────────────────────────────────────────────────────────────────────────────────────────────────────────────────────────────\n",
       "   1 │ study      1.14923  0.356315  1           1.0     1.0     1.0     2                                 \u001b[90m         \u001b[0m        0  1           2                                  Int64\n",
       "  ⋮  │     ⋮         ⋮        ⋮          ⋮         ⋮       ⋮       ⋮                     ⋮                     ⋮        ⋮          ⋮                       ⋮                     ⋮\n",
       "\u001b[36m                                                                                                                                                                         3 rows omitted\u001b[0m"
      ]
     },
     "metadata": {},
     "output_type": "display_data"
    }
   ],
   "source": [
    "describe(gay_df, :all)"
   ]
  },
  {
   "cell_type": "code",
   "execution_count": 48,
   "metadata": {},
   "outputs": [
    {
     "data": {
      "text/html": [
       "<div class=\"data-frame\"><p>5 rows × 2 columns</p><table class=\"data-frame\"><thead><tr><th></th><th>treatment</th><th>ssm_mean</th></tr><tr><th></th><th title=\"String\">String</th><th title=\"Float64\">Float64</th></tr></thead><tbody><tr><th>1</th><td>No Contact</td><td>3.04276</td></tr><tr><th>2</th><td>Recycling Script by Gay Canvasser</td><td>3.13098</td></tr><tr><th>3</th><td>Same-Sex Marriage Script by Gay Canvasser</td><td>3.0252</td></tr><tr><th>4</th><td>Recycling Script by Straight Canvasser</td><td>3.01347</td></tr><tr><th>5</th><td>Same-Sex Marriage Script by Straight Canvasser</td><td>3.09971</td></tr></tbody></table></div>"
      ],
      "text/latex": [
       "\\begin{tabular}{r|cc}\n",
       "\t& treatment & ssm\\_mean\\\\\n",
       "\t\\hline\n",
       "\t& String & Float64\\\\\n",
       "\t\\hline\n",
       "\t1 & No Contact & 3.04276 \\\\\n",
       "\t2 & Recycling Script by Gay Canvasser & 3.13098 \\\\\n",
       "\t3 & Same-Sex Marriage Script by Gay Canvasser & 3.0252 \\\\\n",
       "\t4 & Recycling Script by Straight Canvasser & 3.01347 \\\\\n",
       "\t5 & Same-Sex Marriage Script by Straight Canvasser & 3.09971 \\\\\n",
       "\\end{tabular}\n"
      ],
      "text/plain": [
       "\u001b[1m5×2 DataFrame\u001b[0m\n",
       "\u001b[1m Row \u001b[0m│\u001b[1m treatment                         \u001b[0m\u001b[1m ssm_mean \u001b[0m\n",
       "\u001b[1m     \u001b[0m│\u001b[90m String                            \u001b[0m\u001b[90m Float64  \u001b[0m\n",
       "─────┼─────────────────────────────────────────────\n",
       "   1 │ No Contact                          3.04276\n",
       "  ⋮  │                 ⋮                     ⋮\n",
       "\u001b[36m                                     4 rows omitted\u001b[0m"
      ]
     },
     "metadata": {},
     "output_type": "display_data"
    }
   ],
   "source": [
    "@chain gay_df begin\n",
    "    @rsubset(:study == 1, :wave == 1)\n",
    "    groupby(:treatment)\n",
    "    @combine begin\n",
    "        :ssm_mean = mean(skipmissing(:ssm))\n",
    "    end\n",
    "end"
   ]
  },
  {
   "cell_type": "code",
   "execution_count": 55,
   "metadata": {},
   "outputs": [
    {
     "data": {
      "text/html": [
       "<div class=\"data-frame\"><p>5 rows × 3 columns</p><table class=\"data-frame\"><thead><tr><th></th><th>treatment</th><th>1</th><th>2</th></tr><tr><th></th><th title=\"String\">String</th><th title=\"Union{Missing, Float64}\">Float64?</th><th title=\"Union{Missing, Float64}\">Float64?</th></tr></thead><tbody><tr><th>1</th><td>No Contact</td><td>3.04276</td><td>3.03961</td></tr><tr><th>2</th><td>Recycling Script by Gay Canvasser</td><td>3.13098</td><td>3.10745</td></tr><tr><th>3</th><td>Same-Sex Marriage Script by Gay Canvasser</td><td>3.0252</td><td>3.13949</td></tr><tr><th>4</th><td>Recycling Script by Straight Canvasser</td><td>3.01347</td><td>3.00428</td></tr><tr><th>5</th><td>Same-Sex Marriage Script by Straight Canvasser</td><td>3.09971</td><td>3.16186</td></tr></tbody></table></div>"
      ],
      "text/latex": [
       "\\begin{tabular}{r|ccc}\n",
       "\t& treatment & 1 & 2\\\\\n",
       "\t\\hline\n",
       "\t& String & Float64? & Float64?\\\\\n",
       "\t\\hline\n",
       "\t1 & No Contact & 3.04276 & 3.03961 \\\\\n",
       "\t2 & Recycling Script by Gay Canvasser & 3.13098 & 3.10745 \\\\\n",
       "\t3 & Same-Sex Marriage Script by Gay Canvasser & 3.0252 & 3.13949 \\\\\n",
       "\t4 & Recycling Script by Straight Canvasser & 3.01347 & 3.00428 \\\\\n",
       "\t5 & Same-Sex Marriage Script by Straight Canvasser & 3.09971 & 3.16186 \\\\\n",
       "\\end{tabular}\n"
      ],
      "text/plain": [
       "\u001b[1m5×3 DataFrame\u001b[0m\n",
       "\u001b[1m Row \u001b[0m│\u001b[1m treatment                         \u001b[0m\u001b[1m 1        \u001b[0m\u001b[1m 2        \u001b[0m\n",
       "\u001b[1m     \u001b[0m│\u001b[90m String                            \u001b[0m\u001b[90m Float64? \u001b[0m\u001b[90m Float64? \u001b[0m\n",
       "─────┼───────────────────────────────────────────────────────\n",
       "   1 │ No Contact                          3.04276   3.03961\n",
       "  ⋮  │                 ⋮                     ⋮         ⋮\n",
       "\u001b[36m                                               4 rows omitted\u001b[0m"
      ]
     },
     "metadata": {},
     "output_type": "display_data"
    }
   ],
   "source": [
    "@chain gay_df begin\n",
    "    @rsubset(:study == 1, :wave in [1, 2])\n",
    "    groupby([:treatment, :wave])\n",
    "    @combine begin\n",
    "        :ssm_mean = mean(skipmissing(:ssm))\n",
    "    end\n",
    "    unstack(:treatment, :wave, :ssm_mean)\n",
    "end"
   ]
  },
  {
   "cell_type": "code",
   "execution_count": 56,
   "metadata": {},
   "outputs": [
    {
     "data": {
      "text/html": [
       "<div class=\"data-frame\"><p>5 rows × 8 columns</p><table class=\"data-frame\"><thead><tr><th></th><th>treatment</th><th>1</th><th>2</th><th>3</th><th>4</th><th>5</th><th>6</th><th>7</th></tr><tr><th></th><th title=\"String\">String</th><th title=\"Union{Missing, Float64}\">Float64?</th><th title=\"Union{Missing, Float64}\">Float64?</th><th title=\"Union{Missing, Float64}\">Float64?</th><th title=\"Union{Missing, Float64}\">Float64?</th><th title=\"Union{Missing, Float64}\">Float64?</th><th title=\"Union{Missing, Float64}\">Float64?</th><th title=\"Union{Missing, Float64}\">Float64?</th></tr></thead><tbody><tr><th>1</th><td>No Contact</td><td>3.04276</td><td>3.03961</td><td>3.04627</td><td>3.03595</td><td>3.17427</td><td>3.09197</td><td>3.31375</td></tr><tr><th>2</th><td>Recycling Script by Gay Canvasser</td><td>3.13098</td><td>3.10745</td><td>3.13854</td><td>3.13574</td><td>3.25247</td><td>3.20221</td><td>3.43194</td></tr><tr><th>3</th><td>Same-Sex Marriage Script by Gay Canvasser</td><td>3.0252</td><td>3.13949</td><td>3.12764</td><td>3.12857</td><td>3.32217</td><td>3.17841</td><td>3.37312</td></tr><tr><th>4</th><td>Recycling Script by Straight Canvasser</td><td>3.01347</td><td>3.00428</td><td>2.96402</td><td>3.02311</td><td>3.06874</td><td>3.03659</td><td>3.16597</td></tr><tr><th>5</th><td>Same-Sex Marriage Script by Straight Canvasser</td><td>3.09971</td><td>3.16186</td><td>3.10668</td><td>3.12314</td><td>3.27283</td><td>3.15549</td><td>3.27121</td></tr></tbody></table></div>"
      ],
      "text/latex": [
       "\\begin{tabular}{r|cccccccc}\n",
       "\t& treatment & 1 & 2 & 3 & 4 & 5 & 6 & 7\\\\\n",
       "\t\\hline\n",
       "\t& String & Float64? & Float64? & Float64? & Float64? & Float64? & Float64? & Float64?\\\\\n",
       "\t\\hline\n",
       "\t1 & No Contact & 3.04276 & 3.03961 & 3.04627 & 3.03595 & 3.17427 & 3.09197 & 3.31375 \\\\\n",
       "\t2 & Recycling Script by Gay Canvasser & 3.13098 & 3.10745 & 3.13854 & 3.13574 & 3.25247 & 3.20221 & 3.43194 \\\\\n",
       "\t3 & Same-Sex Marriage Script by Gay Canvasser & 3.0252 & 3.13949 & 3.12764 & 3.12857 & 3.32217 & 3.17841 & 3.37312 \\\\\n",
       "\t4 & Recycling Script by Straight Canvasser & 3.01347 & 3.00428 & 2.96402 & 3.02311 & 3.06874 & 3.03659 & 3.16597 \\\\\n",
       "\t5 & Same-Sex Marriage Script by Straight Canvasser & 3.09971 & 3.16186 & 3.10668 & 3.12314 & 3.27283 & 3.15549 & 3.27121 \\\\\n",
       "\\end{tabular}\n"
      ],
      "text/plain": [
       "\u001b[1m5×8 DataFrame\u001b[0m\n",
       "\u001b[1m Row \u001b[0m│\u001b[1m treatment                         \u001b[0m\u001b[1m 1        \u001b[0m\u001b[1m 2        \u001b[0m\u001b[1m 3        \u001b[0m\u001b[1m 4        \u001b[0m\u001b[1m 5        \u001b[0m\u001b[1m 6        \u001b[0m\u001b[1m 7        \u001b[0m\n",
       "\u001b[1m     \u001b[0m│\u001b[90m String                            \u001b[0m\u001b[90m Float64? \u001b[0m\u001b[90m Float64? \u001b[0m\u001b[90m Float64? \u001b[0m\u001b[90m Float64? \u001b[0m\u001b[90m Float64? \u001b[0m\u001b[90m Float64? \u001b[0m\u001b[90m Float64? \u001b[0m\n",
       "─────┼─────────────────────────────────────────────────────────────────────────────────────────────────────────\n",
       "   1 │ No Contact                          3.04276   3.03961   3.04627   3.03595   3.17427   3.09197   3.31375\n",
       "  ⋮  │                 ⋮                     ⋮         ⋮         ⋮         ⋮         ⋮         ⋮         ⋮\n",
       "\u001b[36m                                                                                                 4 rows omitted\u001b[0m"
      ]
     },
     "metadata": {},
     "output_type": "display_data"
    }
   ],
   "source": [
    "@chain gay_df begin\n",
    "    @rsubset(:study == 1)\n",
    "    groupby([:treatment, :wave])\n",
    "    @combine begin\n",
    "        :ssm_mean = mean(skipmissing(:ssm))\n",
    "    end\n",
    "    unstack(:treatment, :wave, :ssm_mean)\n",
    "end"
   ]
  },
  {
   "cell_type": "code",
   "execution_count": 57,
   "metadata": {},
   "outputs": [
    {
     "data": {
      "text/html": [
       "<div class=\"data-frame\"><p>2 rows × 2 columns</p><table class=\"data-frame\"><thead><tr><th></th><th>treatment</th><th>ssm_mean</th></tr><tr><th></th><th title=\"String\">String</th><th title=\"Float64\">Float64</th></tr></thead><tbody><tr><th>1</th><td>No Contact</td><td>2.97007</td></tr><tr><th>2</th><td>Same-Sex Marriage Script by Gay Canvasser</td><td>2.97173</td></tr></tbody></table></div>"
      ],
      "text/latex": [
       "\\begin{tabular}{r|cc}\n",
       "\t& treatment & ssm\\_mean\\\\\n",
       "\t\\hline\n",
       "\t& String & Float64\\\\\n",
       "\t\\hline\n",
       "\t1 & No Contact & 2.97007 \\\\\n",
       "\t2 & Same-Sex Marriage Script by Gay Canvasser & 2.97173 \\\\\n",
       "\\end{tabular}\n"
      ],
      "text/plain": [
       "\u001b[1m2×2 DataFrame\u001b[0m\n",
       "\u001b[1m Row \u001b[0m│\u001b[1m treatment                         \u001b[0m\u001b[1m ssm_mean \u001b[0m\n",
       "\u001b[1m     \u001b[0m│\u001b[90m String                            \u001b[0m\u001b[90m Float64  \u001b[0m\n",
       "─────┼─────────────────────────────────────────────\n",
       "   1 │ No Contact                          2.97007\n",
       "   2 │ Same-Sex Marriage Script by Gay …   2.97173"
      ]
     },
     "metadata": {},
     "output_type": "display_data"
    }
   ],
   "source": [
    "@chain gay_df begin\n",
    "    @rsubset(:study == 2, :wave == 1)\n",
    "    groupby(:treatment)\n",
    "    @combine begin\n",
    "        :ssm_mean = mean(skipmissing(:ssm))\n",
    "    end\n",
    "end"
   ]
  },
  {
   "cell_type": "code",
   "execution_count": 58,
   "metadata": {},
   "outputs": [
    {
     "data": {
      "text/html": [
       "<div class=\"data-frame\"><p>2 rows × 2 columns</p><table class=\"data-frame\"><thead><tr><th></th><th>treatment</th><th>ssm_mean</th></tr><tr><th></th><th title=\"String\">String</th><th title=\"Float64\">Float64</th></tr></thead><tbody><tr><th>1</th><td>No Contact</td><td>2.9923</td></tr><tr><th>2</th><td>Same-Sex Marriage Script by Gay Canvasser</td><td>3.11619</td></tr></tbody></table></div>"
      ],
      "text/latex": [
       "\\begin{tabular}{r|cc}\n",
       "\t& treatment & ssm\\_mean\\\\\n",
       "\t\\hline\n",
       "\t& String & Float64\\\\\n",
       "\t\\hline\n",
       "\t1 & No Contact & 2.9923 \\\\\n",
       "\t2 & Same-Sex Marriage Script by Gay Canvasser & 3.11619 \\\\\n",
       "\\end{tabular}\n"
      ],
      "text/plain": [
       "\u001b[1m2×2 DataFrame\u001b[0m\n",
       "\u001b[1m Row \u001b[0m│\u001b[1m treatment                         \u001b[0m\u001b[1m ssm_mean \u001b[0m\n",
       "\u001b[1m     \u001b[0m│\u001b[90m String                            \u001b[0m\u001b[90m Float64  \u001b[0m\n",
       "─────┼─────────────────────────────────────────────\n",
       "   1 │ No Contact                          2.9923\n",
       "   2 │ Same-Sex Marriage Script by Gay …   3.11619"
      ]
     },
     "metadata": {},
     "output_type": "display_data"
    }
   ],
   "source": [
    "@chain gay_df begin\n",
    "    @rsubset(:study == 2, :wave == 2)\n",
    "    groupby(:treatment)\n",
    "    @combine begin\n",
    "        :ssm_mean = mean(skipmissing(:ssm))\n",
    "    end\n",
    "end"
   ]
  },
  {
   "cell_type": "code",
   "execution_count": 61,
   "metadata": {},
   "outputs": [
    {
     "data": {
      "text/html": [
       "<div class=\"data-frame\"><p>2 rows × 6 columns</p><table class=\"data-frame\"><thead><tr><th></th><th>treatment</th><th>1</th><th>2</th><th>3</th><th>4</th><th>7</th></tr><tr><th></th><th title=\"String\">String</th><th title=\"Union{Missing, Float64}\">Float64?</th><th title=\"Union{Missing, Float64}\">Float64?</th><th title=\"Union{Missing, Float64}\">Float64?</th><th title=\"Union{Missing, Float64}\">Float64?</th><th title=\"Union{Missing, Float64}\">Float64?</th></tr></thead><tbody><tr><th>1</th><td>No Contact</td><td>2.97007</td><td>2.9923</td><td>2.95166</td><td>2.96623</td><td>3.02585</td></tr><tr><th>2</th><td>Same-Sex Marriage Script by Gay Canvasser</td><td>2.97173</td><td>3.11619</td><td>3.10208</td><td>3.0914</td><td>3.33291</td></tr></tbody></table></div>"
      ],
      "text/latex": [
       "\\begin{tabular}{r|cccccc}\n",
       "\t& treatment & 1 & 2 & 3 & 4 & 7\\\\\n",
       "\t\\hline\n",
       "\t& String & Float64? & Float64? & Float64? & Float64? & Float64?\\\\\n",
       "\t\\hline\n",
       "\t1 & No Contact & 2.97007 & 2.9923 & 2.95166 & 2.96623 & 3.02585 \\\\\n",
       "\t2 & Same-Sex Marriage Script by Gay Canvasser & 2.97173 & 3.11619 & 3.10208 & 3.0914 & 3.33291 \\\\\n",
       "\\end{tabular}\n"
      ],
      "text/plain": [
       "\u001b[1m2×6 DataFrame\u001b[0m\n",
       "\u001b[1m Row \u001b[0m│\u001b[1m treatment                         \u001b[0m\u001b[1m 1        \u001b[0m\u001b[1m 2        \u001b[0m\u001b[1m 3        \u001b[0m\u001b[1m 4        \u001b[0m\u001b[1m 7        \u001b[0m\n",
       "\u001b[1m     \u001b[0m│\u001b[90m String                            \u001b[0m\u001b[90m Float64? \u001b[0m\u001b[90m Float64? \u001b[0m\u001b[90m Float64? \u001b[0m\u001b[90m Float64? \u001b[0m\u001b[90m Float64? \u001b[0m\n",
       "─────┼─────────────────────────────────────────────────────────────────────────────────────\n",
       "   1 │ No Contact                          2.97007   2.9923    2.95166   2.96623   3.02585\n",
       "   2 │ Same-Sex Marriage Script by Gay …   2.97173   3.11619   3.10208   3.0914    3.33291"
      ]
     },
     "metadata": {},
     "output_type": "display_data"
    }
   ],
   "source": [
    "@chain gay_df begin\n",
    "    @rsubset(:study == 2)\n",
    "    groupby([:treatment, :wave])\n",
    "    @combine begin\n",
    "        :ssm_mean = mean(skipmissing(:ssm))\n",
    "    end\n",
    "    unstack(:treatment, :wave, :ssm_mean)\n",
    "end"
   ]
  },
  {
   "cell_type": "markdown",
   "metadata": {},
   "source": [
    "## 2.8.3 自然実験としての指導者暗殺の成功"
   ]
  },
  {
   "cell_type": "code",
   "execution_count": 63,
   "metadata": {},
   "outputs": [
    {
     "data": {
      "text/html": [
       "<div class=\"data-frame\"><p>250 rows × 11 columns</p><table class=\"data-frame\"><thead><tr><th></th><th>year</th><th>country</th><th>leadername</th><th>age</th><th>politybefore</th><th>polityafter</th><th>interwarbefore</th><th>interwarafter</th><th>civilwarbefore</th><th>civilwarafter</th><th>result</th></tr><tr><th></th><th title=\"Int64\">Int64</th><th title=\"String31\">String31</th><th title=\"String31\">String31</th><th title=\"Int64\">Int64</th><th title=\"Float64\">Float64</th><th title=\"Float64\">Float64</th><th title=\"Int64\">Int64</th><th title=\"Int64\">Int64</th><th title=\"Int64\">Int64</th><th title=\"Int64\">Int64</th><th title=\"String\">String</th></tr></thead><tbody><tr><th>1</th><td>1929</td><td>Afghanistan</td><td>Habibullah Ghazi</td><td>39</td><td>-6.0</td><td>-6.0</td><td>0</td><td>0</td><td>1</td><td>0</td><td>not wounded</td></tr><tr><th>2</th><td>1933</td><td>Afghanistan</td><td>Nadir Shah</td><td>53</td><td>-6.0</td><td>-7.33333</td><td>0</td><td>0</td><td>0</td><td>0</td><td>dies within a day after the attack</td></tr><tr><th>3</th><td>1934</td><td>Afghanistan</td><td>Hashim Khan</td><td>50</td><td>-6.0</td><td>-8.0</td><td>0</td><td>0</td><td>0</td><td>0</td><td>survives, whether wounded unknown</td></tr><tr><th>4</th><td>1924</td><td>Albania</td><td>Zogu</td><td>29</td><td>0.0</td><td>-9.0</td><td>0</td><td>0</td><td>0</td><td>0</td><td>wounded lightly</td></tr><tr><th>5</th><td>1931</td><td>Albania</td><td>Zogu</td><td>36</td><td>-9.0</td><td>-9.0</td><td>0</td><td>0</td><td>0</td><td>0</td><td>not wounded</td></tr><tr><th>6</th><td>1968</td><td>Algeria</td><td>Boumedienne</td><td>41</td><td>-9.0</td><td>-9.0</td><td>0</td><td>0</td><td>0</td><td>0</td><td>wounded lightly</td></tr><tr><th>7</th><td>1992</td><td>Algeria</td><td>Boudiaf</td><td>73</td><td>-2.0</td><td>-5.66667</td><td>0</td><td>0</td><td>0</td><td>1</td><td>dies within a day after the attack</td></tr><tr><th>8</th><td>1908</td><td>Argentina</td><td>Alcorta</td><td>48</td><td>1.0</td><td>1.0</td><td>0</td><td>0</td><td>0</td><td>0</td><td>plot stopped</td></tr><tr><th>9</th><td>1916</td><td>Argentina</td><td>de la Plaza</td><td>76</td><td>2.0</td><td>2.0</td><td>0</td><td>0</td><td>0</td><td>0</td><td>not wounded</td></tr><tr><th>10</th><td>1929</td><td>Argentina</td><td>Irigoyen</td><td>77</td><td>2.0</td><td>-8.0</td><td>0</td><td>0</td><td>0</td><td>0</td><td>not wounded</td></tr><tr><th>&vellip;</th><td>&vellip;</td><td>&vellip;</td><td>&vellip;</td><td>&vellip;</td><td>&vellip;</td><td>&vellip;</td><td>&vellip;</td><td>&vellip;</td><td>&vellip;</td><td>&vellip;</td><td>&vellip;</td></tr></tbody></table></div>"
      ],
      "text/latex": [
       "\\begin{tabular}{r|ccccccccccc}\n",
       "\t& year & country & leadername & age & politybefore & polityafter & interwarbefore & interwarafter & civilwarbefore & civilwarafter & result\\\\\n",
       "\t\\hline\n",
       "\t& Int64 & String31 & String31 & Int64 & Float64 & Float64 & Int64 & Int64 & Int64 & Int64 & String\\\\\n",
       "\t\\hline\n",
       "\t1 & 1929 & Afghanistan & Habibullah Ghazi & 39 & -6.0 & -6.0 & 0 & 0 & 1 & 0 & not wounded \\\\\n",
       "\t2 & 1933 & Afghanistan & Nadir Shah & 53 & -6.0 & -7.33333 & 0 & 0 & 0 & 0 & dies within a day after the attack \\\\\n",
       "\t3 & 1934 & Afghanistan & Hashim Khan & 50 & -6.0 & -8.0 & 0 & 0 & 0 & 0 & survives, whether wounded unknown \\\\\n",
       "\t4 & 1924 & Albania & Zogu & 29 & 0.0 & -9.0 & 0 & 0 & 0 & 0 & wounded lightly \\\\\n",
       "\t5 & 1931 & Albania & Zogu & 36 & -9.0 & -9.0 & 0 & 0 & 0 & 0 & not wounded \\\\\n",
       "\t6 & 1968 & Algeria & Boumedienne & 41 & -9.0 & -9.0 & 0 & 0 & 0 & 0 & wounded lightly \\\\\n",
       "\t7 & 1992 & Algeria & Boudiaf & 73 & -2.0 & -5.66667 & 0 & 0 & 0 & 1 & dies within a day after the attack \\\\\n",
       "\t8 & 1908 & Argentina & Alcorta & 48 & 1.0 & 1.0 & 0 & 0 & 0 & 0 & plot stopped \\\\\n",
       "\t9 & 1916 & Argentina & de la Plaza & 76 & 2.0 & 2.0 & 0 & 0 & 0 & 0 & not wounded \\\\\n",
       "\t10 & 1929 & Argentina & Irigoyen & 77 & 2.0 & -8.0 & 0 & 0 & 0 & 0 & not wounded \\\\\n",
       "\t$\\dots$ & $\\dots$ & $\\dots$ & $\\dots$ & $\\dots$ & $\\dots$ & $\\dots$ & $\\dots$ & $\\dots$ & $\\dots$ & $\\dots$ & $\\dots$ \\\\\n",
       "\\end{tabular}\n"
      ],
      "text/plain": [
       "\u001b[1m250×11 DataFrame\u001b[0m\n",
       "\u001b[1m Row \u001b[0m│\u001b[1m year  \u001b[0m\u001b[1m country     \u001b[0m\u001b[1m leadername       \u001b[0m\u001b[1m age   \u001b[0m\u001b[1m politybefore \u001b[0m\u001b[1m polityafter \u001b[0m\u001b[1m interwarbefore \u001b[0m\u001b[1m interwarafter \u001b[0m\u001b[1m civilwarbefore \u001b[0m\u001b[1m civilwarafter \u001b[0m\u001b[1m result                            \u001b[0m\n",
       "\u001b[1m     \u001b[0m│\u001b[90m Int64 \u001b[0m\u001b[90m String31    \u001b[0m\u001b[90m String31         \u001b[0m\u001b[90m Int64 \u001b[0m\u001b[90m Float64      \u001b[0m\u001b[90m Float64     \u001b[0m\u001b[90m Int64          \u001b[0m\u001b[90m Int64         \u001b[0m\u001b[90m Int64          \u001b[0m\u001b[90m Int64         \u001b[0m\u001b[90m String                            \u001b[0m\n",
       "─────┼─────────────────────────────────────────────────────────────────────────────────────────────────────────────────────────────────────────────────────────────────────────\n",
       "   1 │  1929  Afghanistan  Habibullah Ghazi     39      -6.0         -6.0                   0              0               1              0  not wounded\n",
       "  ⋮  │   ⋮         ⋮              ⋮            ⋮         ⋮             ⋮             ⋮               ⋮              ⋮               ⋮                        ⋮\n",
       "\u001b[36m                                                                                                                                                               249 rows omitted\u001b[0m"
      ]
     },
     "metadata": {},
     "output_type": "display_data"
    }
   ],
   "source": [
    "leader_df = CSV.read(\"../../data/CAUSALITY/leader-assassination/data/leaders.csv\", DataFrame, missingstring=[\"NA\"])"
   ]
  },
  {
   "cell_type": "code",
   "execution_count": 64,
   "metadata": {},
   "outputs": [
    {
     "data": {
      "text/html": [
       "<div class=\"data-frame\"><p>11 rows × 13 columns</p><table class=\"data-frame\"><thead><tr><th></th><th>variable</th><th>mean</th><th>std</th><th>min</th><th>q25</th><th>median</th><th>q75</th><th>max</th><th>nunique</th><th>nmissing</th><th>first</th><th>last</th><th>eltype</th></tr><tr><th></th><th title=\"Symbol\">Symbol</th><th title=\"Union{Nothing, Float64}\">Union…</th><th title=\"Union{Nothing, Float64}\">Union…</th><th title=\"Any\">Any</th><th title=\"Union{Nothing, Float64}\">Union…</th><th title=\"Union{Nothing, Float64}\">Union…</th><th title=\"Union{Nothing, Float64}\">Union…</th><th title=\"Any\">Any</th><th title=\"Union{Nothing, Int64}\">Union…</th><th title=\"Int64\">Int64</th><th title=\"Any\">Any</th><th title=\"Any\">Any</th><th title=\"DataType\">DataType</th></tr></thead><tbody><tr><th>1</th><td>year</td><td>1944.77</td><td>32.5056</td><td>1878</td><td>1920.25</td><td>1949.0</td><td>1972.0</td><td>2001</td><td></td><td>0</td><td>1929</td><td>1934</td><td>Int64</td></tr><tr><th>2</th><td>country</td><td></td><td></td><td>Afghanistan</td><td></td><td></td><td></td><td>Yugoslavia</td><td>88</td><td>0</td><td>Afghanistan</td><td>Yugoslavia</td><td>String31</td></tr><tr><th>3</th><td>leadername</td><td></td><td></td><td>Abdullah Al-Hussein</td><td></td><td></td><td></td><td>del Castillo</td><td>196</td><td>0</td><td>Habibullah Ghazi</td><td>Alexander</td><td>String31</td></tr><tr><th>4</th><td>age</td><td>53.524</td><td>12.0398</td><td>18</td><td>45.0</td><td>52.5</td><td>61.75</td><td>81</td><td></td><td>0</td><td>39</td><td>46</td><td>Int64</td></tr><tr><th>5</th><td>politybefore</td><td>-1.51867</td><td>6.44552</td><td>-10.0</td><td>-7.0</td><td>-3.0</td><td>4.0</td><td>10.0</td><td></td><td>0</td><td>-6.0</td><td>-10.0</td><td>Float64</td></tr><tr><th>6</th><td>polityafter</td><td>-1.65</td><td>6.52564</td><td>-10.0</td><td>-7.0</td><td>-3.16667</td><td>3.91667</td><td>10.0</td><td></td><td>0</td><td>-6.0</td><td>-7.66667</td><td>Float64</td></tr><tr><th>7</th><td>interwarbefore</td><td>0.188</td><td>0.391496</td><td>0</td><td>0.0</td><td>0.0</td><td>0.0</td><td>1</td><td></td><td>0</td><td>0</td><td>0</td><td>Int64</td></tr><tr><th>8</th><td>interwarafter</td><td>0.148</td><td>0.355812</td><td>0</td><td>0.0</td><td>0.0</td><td>0.0</td><td>1</td><td></td><td>0</td><td>0</td><td>0</td><td>Int64</td></tr><tr><th>9</th><td>civilwarbefore</td><td>0.216</td><td>0.41234</td><td>0</td><td>0.0</td><td>0.0</td><td>0.0</td><td>1</td><td></td><td>0</td><td>1</td><td>0</td><td>Int64</td></tr><tr><th>10</th><td>civilwarafter</td><td>0.184</td><td>0.388261</td><td>0</td><td>0.0</td><td>0.0</td><td>0.0</td><td>1</td><td></td><td>0</td><td>0</td><td>0</td><td>Int64</td></tr><tr><th>&vellip;</th><td>&vellip;</td><td>&vellip;</td><td>&vellip;</td><td>&vellip;</td><td>&vellip;</td><td>&vellip;</td><td>&vellip;</td><td>&vellip;</td><td>&vellip;</td><td>&vellip;</td><td>&vellip;</td><td>&vellip;</td><td>&vellip;</td></tr></tbody></table></div>"
      ],
      "text/latex": [
       "\\begin{tabular}{r|ccccccccccccc}\n",
       "\t& variable & mean & std & min & q25 & median & q75 & max & nunique & nmissing & first & last & eltype\\\\\n",
       "\t\\hline\n",
       "\t& Symbol & Union… & Union… & Any & Union… & Union… & Union… & Any & Union… & Int64 & Any & Any & DataType\\\\\n",
       "\t\\hline\n",
       "\t1 & year & 1944.77 & 32.5056 & 1878 & 1920.25 & 1949.0 & 1972.0 & 2001 &  & 0 & 1929 & 1934 & Int64 \\\\\n",
       "\t2 & country &  &  & Afghanistan &  &  &  & Yugoslavia & 88 & 0 & Afghanistan & Yugoslavia & String31 \\\\\n",
       "\t3 & leadername &  &  & Abdullah Al-Hussein &  &  &  & del Castillo & 196 & 0 & Habibullah Ghazi & Alexander & String31 \\\\\n",
       "\t4 & age & 53.524 & 12.0398 & 18 & 45.0 & 52.5 & 61.75 & 81 &  & 0 & 39 & 46 & Int64 \\\\\n",
       "\t5 & politybefore & -1.51867 & 6.44552 & -10.0 & -7.0 & -3.0 & 4.0 & 10.0 &  & 0 & -6.0 & -10.0 & Float64 \\\\\n",
       "\t6 & polityafter & -1.65 & 6.52564 & -10.0 & -7.0 & -3.16667 & 3.91667 & 10.0 &  & 0 & -6.0 & -7.66667 & Float64 \\\\\n",
       "\t7 & interwarbefore & 0.188 & 0.391496 & 0 & 0.0 & 0.0 & 0.0 & 1 &  & 0 & 0 & 0 & Int64 \\\\\n",
       "\t8 & interwarafter & 0.148 & 0.355812 & 0 & 0.0 & 0.0 & 0.0 & 1 &  & 0 & 0 & 0 & Int64 \\\\\n",
       "\t9 & civilwarbefore & 0.216 & 0.41234 & 0 & 0.0 & 0.0 & 0.0 & 1 &  & 0 & 1 & 0 & Int64 \\\\\n",
       "\t10 & civilwarafter & 0.184 & 0.388261 & 0 & 0.0 & 0.0 & 0.0 & 1 &  & 0 & 0 & 0 & Int64 \\\\\n",
       "\t$\\dots$ & $\\dots$ & $\\dots$ & $\\dots$ & $\\dots$ & $\\dots$ & $\\dots$ & $\\dots$ & $\\dots$ & $\\dots$ & $\\dots$ & $\\dots$ & $\\dots$ & $\\dots$ \\\\\n",
       "\\end{tabular}\n"
      ],
      "text/plain": [
       "\u001b[1m11×13 DataFrame\u001b[0m\n",
       "\u001b[1m Row \u001b[0m│\u001b[1m variable       \u001b[0m\u001b[1m mean    \u001b[0m\u001b[1m std      \u001b[0m\u001b[1m min                           \u001b[0m\u001b[1m q25     \u001b[0m\u001b[1m median \u001b[0m\u001b[1m q75    \u001b[0m\u001b[1m max             \u001b[0m\u001b[1m nunique \u001b[0m\u001b[1m nmissing \u001b[0m\u001b[1m first            \u001b[0m\u001b[1m last                              \u001b[0m\u001b[1m eltype   \u001b[0m\n",
       "\u001b[1m     \u001b[0m│\u001b[90m Symbol         \u001b[0m\u001b[90m Union…  \u001b[0m\u001b[90m Union…   \u001b[0m\u001b[90m Any                           \u001b[0m\u001b[90m Union…  \u001b[0m\u001b[90m Union… \u001b[0m\u001b[90m Union… \u001b[0m\u001b[90m Any             \u001b[0m\u001b[90m Union…  \u001b[0m\u001b[90m Int64    \u001b[0m\u001b[90m Any              \u001b[0m\u001b[90m Any                               \u001b[0m\u001b[90m DataType \u001b[0m\n",
       "─────┼──────────────────────────────────────────────────────────────────────────────────────────────────────────────────────────────────────────────────────────────────────────────────────────────\n",
       "   1 │ year            1944.77  32.5056   1878                           1920.25  1949.0  1972.0  2001            \u001b[90m         \u001b[0m        0  1929              1934                               Int64\n",
       "  ⋮  │       ⋮            ⋮        ⋮                    ⋮                   ⋮       ⋮       ⋮            ⋮            ⋮        ⋮             ⋮                          ⋮                     ⋮\n",
       "\u001b[36m                                                                                                                                                                                     10 rows omitted\u001b[0m"
      ]
     },
     "metadata": {},
     "output_type": "display_data"
    }
   ],
   "source": [
    "describe(leader_df, :all)"
   ]
  },
  {
   "cell_type": "code",
   "execution_count": 66,
   "metadata": {},
   "outputs": [
    {
     "data": {
      "text/html": [
       "<div class=\"data-frame\"><p>250 rows × 12 columns</p><table class=\"data-frame\"><thead><tr><th></th><th>year</th><th>country</th><th>leadername</th><th>age</th><th>politybefore</th><th>polityafter</th><th>interwarbefore</th><th>interwarafter</th><th>civilwarbefore</th><th>civilwarafter</th><th>result</th><th>success</th></tr><tr><th></th><th title=\"Int64\">Int64</th><th title=\"String31\">String31</th><th title=\"String31\">String31</th><th title=\"Int64\">Int64</th><th title=\"Float64\">Float64</th><th title=\"Float64\">Float64</th><th title=\"Int64\">Int64</th><th title=\"Int64\">Int64</th><th title=\"Int64\">Int64</th><th title=\"Int64\">Int64</th><th title=\"String\">String</th><th title=\"Int64\">Int64</th></tr></thead><tbody><tr><th>1</th><td>1929</td><td>Afghanistan</td><td>Habibullah Ghazi</td><td>39</td><td>-6.0</td><td>-6.0</td><td>0</td><td>0</td><td>1</td><td>0</td><td>not wounded</td><td>0</td></tr><tr><th>2</th><td>1933</td><td>Afghanistan</td><td>Nadir Shah</td><td>53</td><td>-6.0</td><td>-7.33333</td><td>0</td><td>0</td><td>0</td><td>0</td><td>dies within a day after the attack</td><td>1</td></tr><tr><th>3</th><td>1934</td><td>Afghanistan</td><td>Hashim Khan</td><td>50</td><td>-6.0</td><td>-8.0</td><td>0</td><td>0</td><td>0</td><td>0</td><td>survives, whether wounded unknown</td><td>0</td></tr><tr><th>4</th><td>1924</td><td>Albania</td><td>Zogu</td><td>29</td><td>0.0</td><td>-9.0</td><td>0</td><td>0</td><td>0</td><td>0</td><td>wounded lightly</td><td>0</td></tr><tr><th>5</th><td>1931</td><td>Albania</td><td>Zogu</td><td>36</td><td>-9.0</td><td>-9.0</td><td>0</td><td>0</td><td>0</td><td>0</td><td>not wounded</td><td>0</td></tr><tr><th>6</th><td>1968</td><td>Algeria</td><td>Boumedienne</td><td>41</td><td>-9.0</td><td>-9.0</td><td>0</td><td>0</td><td>0</td><td>0</td><td>wounded lightly</td><td>0</td></tr><tr><th>7</th><td>1992</td><td>Algeria</td><td>Boudiaf</td><td>73</td><td>-2.0</td><td>-5.66667</td><td>0</td><td>0</td><td>0</td><td>1</td><td>dies within a day after the attack</td><td>1</td></tr><tr><th>8</th><td>1908</td><td>Argentina</td><td>Alcorta</td><td>48</td><td>1.0</td><td>1.0</td><td>0</td><td>0</td><td>0</td><td>0</td><td>plot stopped</td><td>0</td></tr><tr><th>9</th><td>1916</td><td>Argentina</td><td>de la Plaza</td><td>76</td><td>2.0</td><td>2.0</td><td>0</td><td>0</td><td>0</td><td>0</td><td>not wounded</td><td>0</td></tr><tr><th>10</th><td>1929</td><td>Argentina</td><td>Irigoyen</td><td>77</td><td>2.0</td><td>-8.0</td><td>0</td><td>0</td><td>0</td><td>0</td><td>not wounded</td><td>0</td></tr><tr><th>&vellip;</th><td>&vellip;</td><td>&vellip;</td><td>&vellip;</td><td>&vellip;</td><td>&vellip;</td><td>&vellip;</td><td>&vellip;</td><td>&vellip;</td><td>&vellip;</td><td>&vellip;</td><td>&vellip;</td><td>&vellip;</td></tr></tbody></table></div>"
      ],
      "text/latex": [
       "\\begin{tabular}{r|cccccccccccc}\n",
       "\t& year & country & leadername & age & politybefore & polityafter & interwarbefore & interwarafter & civilwarbefore & civilwarafter & result & success\\\\\n",
       "\t\\hline\n",
       "\t& Int64 & String31 & String31 & Int64 & Float64 & Float64 & Int64 & Int64 & Int64 & Int64 & String & Int64\\\\\n",
       "\t\\hline\n",
       "\t1 & 1929 & Afghanistan & Habibullah Ghazi & 39 & -6.0 & -6.0 & 0 & 0 & 1 & 0 & not wounded & 0 \\\\\n",
       "\t2 & 1933 & Afghanistan & Nadir Shah & 53 & -6.0 & -7.33333 & 0 & 0 & 0 & 0 & dies within a day after the attack & 1 \\\\\n",
       "\t3 & 1934 & Afghanistan & Hashim Khan & 50 & -6.0 & -8.0 & 0 & 0 & 0 & 0 & survives, whether wounded unknown & 0 \\\\\n",
       "\t4 & 1924 & Albania & Zogu & 29 & 0.0 & -9.0 & 0 & 0 & 0 & 0 & wounded lightly & 0 \\\\\n",
       "\t5 & 1931 & Albania & Zogu & 36 & -9.0 & -9.0 & 0 & 0 & 0 & 0 & not wounded & 0 \\\\\n",
       "\t6 & 1968 & Algeria & Boumedienne & 41 & -9.0 & -9.0 & 0 & 0 & 0 & 0 & wounded lightly & 0 \\\\\n",
       "\t7 & 1992 & Algeria & Boudiaf & 73 & -2.0 & -5.66667 & 0 & 0 & 0 & 1 & dies within a day after the attack & 1 \\\\\n",
       "\t8 & 1908 & Argentina & Alcorta & 48 & 1.0 & 1.0 & 0 & 0 & 0 & 0 & plot stopped & 0 \\\\\n",
       "\t9 & 1916 & Argentina & de la Plaza & 76 & 2.0 & 2.0 & 0 & 0 & 0 & 0 & not wounded & 0 \\\\\n",
       "\t10 & 1929 & Argentina & Irigoyen & 77 & 2.0 & -8.0 & 0 & 0 & 0 & 0 & not wounded & 0 \\\\\n",
       "\t$\\dots$ & $\\dots$ & $\\dots$ & $\\dots$ & $\\dots$ & $\\dots$ & $\\dots$ & $\\dots$ & $\\dots$ & $\\dots$ & $\\dots$ & $\\dots$ & $\\dots$ \\\\\n",
       "\\end{tabular}\n"
      ],
      "text/plain": [
       "\u001b[1m250×12 DataFrame\u001b[0m\n",
       "\u001b[1m Row \u001b[0m│\u001b[1m year  \u001b[0m\u001b[1m country     \u001b[0m\u001b[1m leadername       \u001b[0m\u001b[1m age   \u001b[0m\u001b[1m politybefore \u001b[0m\u001b[1m polityafter \u001b[0m\u001b[1m interwarbefore \u001b[0m\u001b[1m interwarafter \u001b[0m\u001b[1m civilwarbefore \u001b[0m\u001b[1m civilwarafter \u001b[0m\u001b[1m result                            \u001b[0m\u001b[1m success \u001b[0m\n",
       "\u001b[1m     \u001b[0m│\u001b[90m Int64 \u001b[0m\u001b[90m String31    \u001b[0m\u001b[90m String31         \u001b[0m\u001b[90m Int64 \u001b[0m\u001b[90m Float64      \u001b[0m\u001b[90m Float64     \u001b[0m\u001b[90m Int64          \u001b[0m\u001b[90m Int64         \u001b[0m\u001b[90m Int64          \u001b[0m\u001b[90m Int64         \u001b[0m\u001b[90m String                            \u001b[0m\u001b[90m Int64   \u001b[0m\n",
       "─────┼──────────────────────────────────────────────────────────────────────────────────────────────────────────────────────────────────────────────────────────────────────────────────\n",
       "   1 │  1929  Afghanistan  Habibullah Ghazi     39      -6.0         -6.0                   0              0               1              0  not wounded                              0\n",
       "  ⋮  │   ⋮         ⋮              ⋮            ⋮         ⋮             ⋮             ⋮               ⋮              ⋮               ⋮                        ⋮                     ⋮\n",
       "\u001b[36m                                                                                                                                                                        249 rows omitted\u001b[0m"
      ]
     },
     "metadata": {},
     "output_type": "display_data"
    }
   ],
   "source": [
    "@rtransform!(leader_df, :success = occursin(\"die\", :result) ? 1 : 0)"
   ]
  },
  {
   "cell_type": "code",
   "execution_count": 67,
   "metadata": {},
   "outputs": [
    {
     "data": {
      "text/plain": [
       "0.216"
      ]
     },
     "metadata": {},
     "output_type": "display_data"
    }
   ],
   "source": [
    "mean(leader_df.success)"
   ]
  },
  {
   "cell_type": "code",
   "execution_count": 71,
   "metadata": {},
   "outputs": [
    {
     "data": {
      "text/html": [
       "<div class=\"data-frame\"><p>2 rows × 3 columns</p><table class=\"data-frame\"><thead><tr><th></th><th>success</th><th>polityBefore_mean</th><th>age_mean</th></tr><tr><th></th><th title=\"Int64\">Int64</th><th title=\"Float64\">Float64</th><th title=\"Float64\">Float64</th></tr></thead><tbody><tr><th>1</th><td>0</td><td>-1.7432</td><td>52.7143</td></tr><tr><th>2</th><td>1</td><td>-0.703704</td><td>56.463</td></tr></tbody></table></div>"
      ],
      "text/latex": [
       "\\begin{tabular}{r|ccc}\n",
       "\t& success & polityBefore\\_mean & age\\_mean\\\\\n",
       "\t\\hline\n",
       "\t& Int64 & Float64 & Float64\\\\\n",
       "\t\\hline\n",
       "\t1 & 0 & -1.7432 & 52.7143 \\\\\n",
       "\t2 & 1 & -0.703704 & 56.463 \\\\\n",
       "\\end{tabular}\n"
      ],
      "text/plain": [
       "\u001b[1m2×3 DataFrame\u001b[0m\n",
       "\u001b[1m Row \u001b[0m│\u001b[1m success \u001b[0m\u001b[1m polityBefore_mean \u001b[0m\u001b[1m age_mean \u001b[0m\n",
       "\u001b[1m     \u001b[0m│\u001b[90m Int64   \u001b[0m\u001b[90m Float64           \u001b[0m\u001b[90m Float64  \u001b[0m\n",
       "─────┼──────────────────────────────────────\n",
       "   1 │       0          -1.7432     52.7143\n",
       "   2 │       1          -0.703704   56.463"
      ]
     },
     "metadata": {},
     "output_type": "display_data"
    }
   ],
   "source": [
    "@chain leader_df begin\n",
    "    groupby(:success)\n",
    "    @combine begin\n",
    "        :polityBefore_mean = mean(:politybefore)\n",
    "        :age_mean = mean(:age)\n",
    "    end\n",
    "end"
   ]
  },
  {
   "cell_type": "code",
   "execution_count": 72,
   "metadata": {},
   "outputs": [
    {
     "data": {
      "text/html": [
       "<div class=\"data-frame\"><p>2 rows × 3 columns</p><table class=\"data-frame\"><thead><tr><th></th><th>civilwarbefore</th><th>polityBefore_mean</th><th>age_mean</th></tr><tr><th></th><th title=\"Int64\">Int64</th><th title=\"Float64\">Float64</th><th title=\"Float64\">Float64</th></tr></thead><tbody><tr><th>1</th><td>0</td><td>-1.51531</td><td>53.9592</td></tr><tr><th>2</th><td>1</td><td>-1.53086</td><td>51.9444</td></tr></tbody></table></div>"
      ],
      "text/latex": [
       "\\begin{tabular}{r|ccc}\n",
       "\t& civilwarbefore & polityBefore\\_mean & age\\_mean\\\\\n",
       "\t\\hline\n",
       "\t& Int64 & Float64 & Float64\\\\\n",
       "\t\\hline\n",
       "\t1 & 0 & -1.51531 & 53.9592 \\\\\n",
       "\t2 & 1 & -1.53086 & 51.9444 \\\\\n",
       "\\end{tabular}\n"
      ],
      "text/plain": [
       "\u001b[1m2×3 DataFrame\u001b[0m\n",
       "\u001b[1m Row \u001b[0m│\u001b[1m civilwarbefore \u001b[0m\u001b[1m polityBefore_mean \u001b[0m\u001b[1m age_mean \u001b[0m\n",
       "\u001b[1m     \u001b[0m│\u001b[90m Int64          \u001b[0m\u001b[90m Float64           \u001b[0m\u001b[90m Float64  \u001b[0m\n",
       "─────┼─────────────────────────────────────────────\n",
       "   1 │              0           -1.51531   53.9592\n",
       "   2 │              1           -1.53086   51.9444"
      ]
     },
     "metadata": {},
     "output_type": "display_data"
    }
   ],
   "source": [
    "@chain leader_df begin\n",
    "    groupby(:civilwarbefore)\n",
    "    @combine begin\n",
    "        :polityBefore_mean = mean(:politybefore)\n",
    "        :age_mean = mean(:age)\n",
    "    end\n",
    "end"
   ]
  },
  {
   "cell_type": "code",
   "execution_count": 73,
   "metadata": {},
   "outputs": [
    {
     "data": {
      "text/html": [
       "<div class=\"data-frame\"><p>2 rows × 3 columns</p><table class=\"data-frame\"><thead><tr><th></th><th>interwarbefore</th><th>polityBefore_mean</th><th>age_mean</th></tr><tr><th></th><th title=\"Int64\">Int64</th><th title=\"Float64\">Float64</th><th title=\"Float64\">Float64</th></tr></thead><tbody><tr><th>1</th><td>0</td><td>-1.66667</td><td>52.6946</td></tr><tr><th>2</th><td>1</td><td>-0.879433</td><td>57.1064</td></tr></tbody></table></div>"
      ],
      "text/latex": [
       "\\begin{tabular}{r|ccc}\n",
       "\t& interwarbefore & polityBefore\\_mean & age\\_mean\\\\\n",
       "\t\\hline\n",
       "\t& Int64 & Float64 & Float64\\\\\n",
       "\t\\hline\n",
       "\t1 & 0 & -1.66667 & 52.6946 \\\\\n",
       "\t2 & 1 & -0.879433 & 57.1064 \\\\\n",
       "\\end{tabular}\n"
      ],
      "text/plain": [
       "\u001b[1m2×3 DataFrame\u001b[0m\n",
       "\u001b[1m Row \u001b[0m│\u001b[1m interwarbefore \u001b[0m\u001b[1m polityBefore_mean \u001b[0m\u001b[1m age_mean \u001b[0m\n",
       "\u001b[1m     \u001b[0m│\u001b[90m Int64          \u001b[0m\u001b[90m Float64           \u001b[0m\u001b[90m Float64  \u001b[0m\n",
       "─────┼─────────────────────────────────────────────\n",
       "   1 │              0          -1.66667    52.6946\n",
       "   2 │              1          -0.879433   57.1064"
      ]
     },
     "metadata": {},
     "output_type": "display_data"
    }
   ],
   "source": [
    "@chain leader_df begin\n",
    "    groupby(:interwarbefore)\n",
    "    @combine begin\n",
    "        :polityBefore_mean = mean(:politybefore)\n",
    "        :age_mean = mean(:age)\n",
    "    end\n",
    "end"
   ]
  },
  {
   "cell_type": "code",
   "execution_count": 74,
   "metadata": {},
   "outputs": [
    {
     "data": {
      "text/html": [
       "<div class=\"data-frame\"><p>2 rows × 4 columns</p><table class=\"data-frame\"><thead><tr><th></th><th>success</th><th>polityAfter_mean</th><th>civilwarAfter_mean</th><th>interwarAfter_mean</th></tr><tr><th></th><th title=\"Int64\">Int64</th><th title=\"Float64\">Float64</th><th title=\"Float64\">Float64</th><th title=\"Float64\">Float64</th></tr></thead><tbody><tr><th>1</th><td>0</td><td>-1.89456</td><td>0.193878</td><td>0.168367</td></tr><tr><th>2</th><td>1</td><td>-0.762346</td><td>0.148148</td><td>0.0740741</td></tr></tbody></table></div>"
      ],
      "text/latex": [
       "\\begin{tabular}{r|cccc}\n",
       "\t& success & polityAfter\\_mean & civilwarAfter\\_mean & interwarAfter\\_mean\\\\\n",
       "\t\\hline\n",
       "\t& Int64 & Float64 & Float64 & Float64\\\\\n",
       "\t\\hline\n",
       "\t1 & 0 & -1.89456 & 0.193878 & 0.168367 \\\\\n",
       "\t2 & 1 & -0.762346 & 0.148148 & 0.0740741 \\\\\n",
       "\\end{tabular}\n"
      ],
      "text/plain": [
       "\u001b[1m2×4 DataFrame\u001b[0m\n",
       "\u001b[1m Row \u001b[0m│\u001b[1m success \u001b[0m\u001b[1m polityAfter_mean \u001b[0m\u001b[1m civilwarAfter_mean \u001b[0m\u001b[1m interwarAfter_mean \u001b[0m\n",
       "\u001b[1m     \u001b[0m│\u001b[90m Int64   \u001b[0m\u001b[90m Float64          \u001b[0m\u001b[90m Float64            \u001b[0m\u001b[90m Float64            \u001b[0m\n",
       "─────┼───────────────────────────────────────────────────────────────────\n",
       "   1 │       0         -1.89456             0.193878           0.168367\n",
       "   2 │       1         -0.762346            0.148148           0.0740741"
      ]
     },
     "metadata": {},
     "output_type": "display_data"
    }
   ],
   "source": [
    "@chain leader_df begin\n",
    "    groupby(:success)\n",
    "    @combine begin\n",
    "        :polityAfter_mean = mean(:polityafter)\n",
    "        :civilwarAfter_mean = mean(:civilwarafter)\n",
    "        :interwarAfter_mean = mean(:interwarafter)\n",
    "    end\n",
    "end"
   ]
  },
  {
   "cell_type": "code",
   "execution_count": null,
   "metadata": {},
   "outputs": [],
   "source": []
  }
 ],
 "metadata": {
  "kernelspec": {
   "display_name": "Julia 1.8.1",
   "language": "julia",
   "name": "julia-1.8"
  },
  "language_info": {
   "file_extension": ".jl",
   "mimetype": "application/julia",
   "name": "julia",
   "version": "1.8.1"
  },
  "orig_nbformat": 4
 },
 "nbformat": 4,
 "nbformat_minor": 2
}
