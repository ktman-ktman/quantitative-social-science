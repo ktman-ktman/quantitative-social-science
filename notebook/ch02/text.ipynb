{
 "cells": [
  {
   "cell_type": "markdown",
   "metadata": {},
   "source": [
    "## 第2章 因果関係"
   ]
  },
  {
   "cell_type": "code",
   "execution_count": 1,
   "metadata": {},
   "outputs": [
    {
     "data": {
      "text/plain": [
       "1000"
      ]
     },
     "metadata": {},
     "output_type": "display_data"
    }
   ],
   "source": [
    "ENV[\"LINES\"] = 10\n",
    "ENV[\"COLUMNS\"] = 1000"
   ]
  },
  {
   "cell_type": "code",
   "execution_count": 71,
   "metadata": {},
   "outputs": [],
   "source": [
    "using DataFrames, DataFramesMeta, CSV, CategoricalArrays, FreqTables, Statistics, StatsBase"
   ]
  },
  {
   "cell_type": "markdown",
   "metadata": {},
   "source": [
    "## 2.1 労働市場における人種差別"
   ]
  },
  {
   "cell_type": "code",
   "execution_count": 20,
   "metadata": {},
   "outputs": [
    {
     "data": {
      "text/html": [
       "<div class=\"data-frame\"><p>4,870 rows × 4 columns</p><table class=\"data-frame\"><thead><tr><th></th><th>firstname</th><th>sex</th><th>race</th><th>call</th></tr><tr><th></th><th title=\"String15\">String15</th><th title=\"String7\">String7</th><th title=\"String7\">String7</th><th title=\"Int64\">Int64</th></tr></thead><tbody><tr><th>1</th><td>Allison</td><td>female</td><td>white</td><td>0</td></tr><tr><th>2</th><td>Kristen</td><td>female</td><td>white</td><td>0</td></tr><tr><th>3</th><td>Lakisha</td><td>female</td><td>black</td><td>0</td></tr><tr><th>4</th><td>Latonya</td><td>female</td><td>black</td><td>0</td></tr><tr><th>5</th><td>Carrie</td><td>female</td><td>white</td><td>0</td></tr><tr><th>6</th><td>Jay</td><td>male</td><td>white</td><td>0</td></tr><tr><th>7</th><td>Jill</td><td>female</td><td>white</td><td>0</td></tr><tr><th>8</th><td>Kenya</td><td>female</td><td>black</td><td>0</td></tr><tr><th>9</th><td>Latonya</td><td>female</td><td>black</td><td>0</td></tr><tr><th>10</th><td>Tyrone</td><td>male</td><td>black</td><td>0</td></tr><tr><th>&vellip;</th><td>&vellip;</td><td>&vellip;</td><td>&vellip;</td><td>&vellip;</td></tr></tbody></table></div>"
      ],
      "text/latex": [
       "\\begin{tabular}{r|cccc}\n",
       "\t& firstname & sex & race & call\\\\\n",
       "\t\\hline\n",
       "\t& String15 & String7 & String7 & Int64\\\\\n",
       "\t\\hline\n",
       "\t1 & Allison & female & white & 0 \\\\\n",
       "\t2 & Kristen & female & white & 0 \\\\\n",
       "\t3 & Lakisha & female & black & 0 \\\\\n",
       "\t4 & Latonya & female & black & 0 \\\\\n",
       "\t5 & Carrie & female & white & 0 \\\\\n",
       "\t6 & Jay & male & white & 0 \\\\\n",
       "\t7 & Jill & female & white & 0 \\\\\n",
       "\t8 & Kenya & female & black & 0 \\\\\n",
       "\t9 & Latonya & female & black & 0 \\\\\n",
       "\t10 & Tyrone & male & black & 0 \\\\\n",
       "\t$\\dots$ & $\\dots$ & $\\dots$ & $\\dots$ & $\\dots$ \\\\\n",
       "\\end{tabular}\n"
      ],
      "text/plain": [
       "\u001b[1m4870×4 DataFrame\u001b[0m\n",
       "\u001b[1m  Row \u001b[0m│\u001b[1m firstname \u001b[0m\u001b[1m sex     \u001b[0m\u001b[1m race    \u001b[0m\u001b[1m call  \u001b[0m\n",
       "\u001b[1m      \u001b[0m│\u001b[90m String15  \u001b[0m\u001b[90m String7 \u001b[0m\u001b[90m String7 \u001b[0m\u001b[90m Int64 \u001b[0m\n",
       "──────┼────────────────────────────────────\n",
       "    1 │ Allison    female   white        0\n",
       "  ⋮   │     ⋮         ⋮        ⋮       ⋮\n",
       "\u001b[36m                          4869 rows omitted\u001b[0m"
      ]
     },
     "metadata": {},
     "output_type": "display_data"
    }
   ],
   "source": [
    "resume_df = CSV.read(\"../../data/CAUSALITY/resume.csv\", DataFrame, missingstring=[\"NA\"])"
   ]
  },
  {
   "cell_type": "code",
   "execution_count": 21,
   "metadata": {},
   "outputs": [
    {
     "data": {
      "text/html": [
       "<div class=\"data-frame\"><p>4 rows × 7 columns</p><table class=\"data-frame\"><thead><tr><th></th><th>variable</th><th>mean</th><th>min</th><th>median</th><th>max</th><th>nmissing</th><th>eltype</th></tr><tr><th></th><th title=\"Symbol\">Symbol</th><th title=\"Union{Nothing, Float64}\">Union…</th><th title=\"Any\">Any</th><th title=\"Union{Nothing, Float64}\">Union…</th><th title=\"Any\">Any</th><th title=\"Int64\">Int64</th><th title=\"DataType\">DataType</th></tr></thead><tbody><tr><th>1</th><td>firstname</td><td></td><td>Aisha</td><td></td><td>Tyrone</td><td>0</td><td>String15</td></tr><tr><th>2</th><td>sex</td><td></td><td>female</td><td></td><td>male</td><td>0</td><td>String7</td></tr><tr><th>3</th><td>race</td><td></td><td>black</td><td></td><td>white</td><td>0</td><td>String7</td></tr><tr><th>4</th><td>call</td><td>0.0804928</td><td>0</td><td>0.0</td><td>1</td><td>0</td><td>Int64</td></tr></tbody></table></div>"
      ],
      "text/latex": [
       "\\begin{tabular}{r|ccccccc}\n",
       "\t& variable & mean & min & median & max & nmissing & eltype\\\\\n",
       "\t\\hline\n",
       "\t& Symbol & Union… & Any & Union… & Any & Int64 & DataType\\\\\n",
       "\t\\hline\n",
       "\t1 & firstname &  & Aisha &  & Tyrone & 0 & String15 \\\\\n",
       "\t2 & sex &  & female &  & male & 0 & String7 \\\\\n",
       "\t3 & race &  & black &  & white & 0 & String7 \\\\\n",
       "\t4 & call & 0.0804928 & 0 & 0.0 & 1 & 0 & Int64 \\\\\n",
       "\\end{tabular}\n"
      ],
      "text/plain": [
       "\u001b[1m4×7 DataFrame\u001b[0m\n",
       "\u001b[1m Row \u001b[0m│\u001b[1m variable  \u001b[0m\u001b[1m mean      \u001b[0m\u001b[1m min    \u001b[0m\u001b[1m median \u001b[0m\u001b[1m max    \u001b[0m\u001b[1m nmissing \u001b[0m\u001b[1m eltype   \u001b[0m\n",
       "\u001b[1m     \u001b[0m│\u001b[90m Symbol    \u001b[0m\u001b[90m Union…    \u001b[0m\u001b[90m Any    \u001b[0m\u001b[90m Union… \u001b[0m\u001b[90m Any    \u001b[0m\u001b[90m Int64    \u001b[0m\u001b[90m DataType \u001b[0m\n",
       "─────┼──────────────────────────────────────────────────────────────────\n",
       "   1 │ firstname \u001b[90m           \u001b[0m Aisha  \u001b[90m        \u001b[0m Tyrone         0  String15\n",
       "  ⋮  │     ⋮          ⋮        ⋮       ⋮       ⋮        ⋮         ⋮\n",
       "\u001b[36m                                                          3 rows omitted\u001b[0m"
      ]
     },
     "metadata": {},
     "output_type": "display_data"
    }
   ],
   "source": [
    "describe(resume_df)"
   ]
  },
  {
   "cell_type": "code",
   "execution_count": 24,
   "metadata": {},
   "outputs": [
    {
     "data": {
      "text/html": [
       "<div class=\"data-frame\"><p>1 rows × 7 columns</p><table class=\"data-frame\"><thead><tr><th></th><th>variable</th><th>mean</th><th>min</th><th>median</th><th>max</th><th>nmissing</th><th>eltype</th></tr><tr><th></th><th title=\"Symbol\">Symbol</th><th title=\"Nothing\">Nothing</th><th title=\"CategoricalValue{String7, UInt8}\">Cat…</th><th title=\"Nothing\">Nothing</th><th title=\"CategoricalValue{String7, UInt8}\">Cat…</th><th title=\"Int64\">Int64</th><th title=\"DataType\">DataType</th></tr></thead><tbody><tr><th>1</th><td>race</td><td></td><td>black</td><td></td><td>white</td><td>0</td><td>CategoricalValue{String7, UInt8}</td></tr></tbody></table></div>"
      ],
      "text/latex": [
       "\\begin{tabular}{r|ccccccc}\n",
       "\t& variable & mean & min & median & max & nmissing & eltype\\\\\n",
       "\t\\hline\n",
       "\t& Symbol & Nothing & Cat… & Nothing & Cat… & Int64 & DataType\\\\\n",
       "\t\\hline\n",
       "\t1 & race &  & black &  & white & 0 & CategoricalValue\\{String7, UInt8\\} \\\\\n",
       "\\end{tabular}\n"
      ],
      "text/plain": [
       "\u001b[1m1×7 DataFrame\u001b[0m\n",
       "\u001b[1m Row \u001b[0m│\u001b[1m variable \u001b[0m\u001b[1m mean    \u001b[0m\u001b[1m min   \u001b[0m\u001b[1m median  \u001b[0m\u001b[1m max   \u001b[0m\u001b[1m nmissing \u001b[0m\u001b[1m eltype                           \u001b[0m\n",
       "\u001b[1m     \u001b[0m│\u001b[90m Symbol   \u001b[0m\u001b[90m Nothing \u001b[0m\u001b[90m Cat…  \u001b[0m\u001b[90m Nothing \u001b[0m\u001b[90m Cat…  \u001b[0m\u001b[90m Int64    \u001b[0m\u001b[90m DataType                         \u001b[0m\n",
       "─────┼──────────────────────────────────────────────────────────────────────────────────────\n",
       "   1 │ race     \u001b[90m         \u001b[0m black \u001b[90m         \u001b[0m white         0  CategoricalValue{String7, UInt8}"
      ]
     },
     "metadata": {},
     "output_type": "display_data"
    }
   ],
   "source": [
    "resume_df = @transform resume_df begin\n",
    "    :firstname = categorical(:firstname)\n",
    "    :sex = categorical(:sex, compress=true)\n",
    "    :race = categorical(:race, compress=true)\n",
    "end\n",
    "describe(resume_df)"
   ]
  },
  {
   "cell_type": "code",
   "execution_count": 26,
   "metadata": {},
   "outputs": [
    {
     "data": {
      "text/plain": [
       "2×2 Named Matrix{Int64}\n",
       "race ╲ call │    0     1\n",
       "────────────┼───────────\n",
       "\"black\"     │ 2278   157\n",
       "\"white\"     │ 2200   235"
      ]
     },
     "metadata": {},
     "output_type": "display_data"
    }
   ],
   "source": [
    "freqtable(resume_df, :race, :call)"
   ]
  },
  {
   "cell_type": "code",
   "execution_count": 32,
   "metadata": {},
   "outputs": [
    {
     "data": {
      "text/plain": [
       "2×2 Named Matrix{Float64}\n",
       "race ╲ call │         0          1\n",
       "────────────┼─────────────────────\n",
       "\"black\"     │  0.935524  0.0644764\n",
       "\"white\"     │  0.903491  0.0965092"
      ]
     },
     "metadata": {},
     "output_type": "display_data"
    }
   ],
   "source": [
    "prop(freqtable(resume_df, :race, :call), margins=1)"
   ]
  },
  {
   "cell_type": "code",
   "execution_count": 36,
   "metadata": {},
   "outputs": [
    {
     "data": {
      "text/html": [
       "<div class=\"data-frame\"><p>2 rows × 2 columns</p><table class=\"data-frame\"><thead><tr><th></th><th>race</th><th>call_r</th></tr><tr><th></th><th title=\"CategoricalValue{String7, UInt8}\">Cat…</th><th title=\"Float64\">Float64</th></tr></thead><tbody><tr><th>1</th><td>black</td><td>0.0644764</td></tr><tr><th>2</th><td>white</td><td>0.0965092</td></tr></tbody></table></div>"
      ],
      "text/latex": [
       "\\begin{tabular}{r|cc}\n",
       "\t& race & call\\_r\\\\\n",
       "\t\\hline\n",
       "\t& Cat… & Float64\\\\\n",
       "\t\\hline\n",
       "\t1 & black & 0.0644764 \\\\\n",
       "\t2 & white & 0.0965092 \\\\\n",
       "\\end{tabular}\n"
      ],
      "text/plain": [
       "\u001b[1m2×2 DataFrame\u001b[0m\n",
       "\u001b[1m Row \u001b[0m│\u001b[1m race  \u001b[0m\u001b[1m call_r    \u001b[0m\n",
       "\u001b[1m     \u001b[0m│\u001b[90m Cat…  \u001b[0m\u001b[90m Float64   \u001b[0m\n",
       "─────┼──────────────────\n",
       "   1 │ black  0.0644764\n",
       "   2 │ white  0.0965092"
      ]
     },
     "metadata": {},
     "output_type": "display_data"
    }
   ],
   "source": [
    "@combine(groupby(resume_df, :race), :call_r = mean(:call))"
   ]
  },
  {
   "cell_type": "markdown",
   "metadata": {},
   "source": [
    "## 2.2 Rでデータを部分集合化する"
   ]
  },
  {
   "cell_type": "code",
   "execution_count": 38,
   "metadata": {},
   "outputs": [
    {
     "data": {
      "text/plain": [
       "0.06447638603696099"
      ]
     },
     "metadata": {},
     "output_type": "display_data"
    }
   ],
   "source": [
    "mean(resume_df[resume_df.race .== \"black\", :call])"
   ]
  },
  {
   "cell_type": "code",
   "execution_count": 40,
   "metadata": {},
   "outputs": [
    {
     "data": {
      "text/html": [
       "<div class=\"data-frame\"><p>1,886 rows × 2 columns</p><table class=\"data-frame\"><thead><tr><th></th><th>call</th><th>firstname</th></tr><tr><th></th><th title=\"Int64\">Int64</th><th title=\"CategoricalValue{String15, UInt32}\">Cat…</th></tr></thead><tbody><tr><th>1</th><td>0</td><td>Lakisha</td></tr><tr><th>2</th><td>0</td><td>Latonya</td></tr><tr><th>3</th><td>0</td><td>Kenya</td></tr><tr><th>4</th><td>0</td><td>Latonya</td></tr><tr><th>5</th><td>0</td><td>Aisha</td></tr><tr><th>6</th><td>0</td><td>Aisha</td></tr><tr><th>7</th><td>0</td><td>Aisha</td></tr><tr><th>8</th><td>0</td><td>Tamika</td></tr><tr><th>9</th><td>0</td><td>Latonya</td></tr><tr><th>10</th><td>0</td><td>Keisha</td></tr><tr><th>&vellip;</th><td>&vellip;</td><td>&vellip;</td></tr></tbody></table></div>"
      ],
      "text/latex": [
       "\\begin{tabular}{r|cc}\n",
       "\t& call & firstname\\\\\n",
       "\t\\hline\n",
       "\t& Int64 & Cat…\\\\\n",
       "\t\\hline\n",
       "\t1 & 0 & Lakisha \\\\\n",
       "\t2 & 0 & Latonya \\\\\n",
       "\t3 & 0 & Kenya \\\\\n",
       "\t4 & 0 & Latonya \\\\\n",
       "\t5 & 0 & Aisha \\\\\n",
       "\t6 & 0 & Aisha \\\\\n",
       "\t7 & 0 & Aisha \\\\\n",
       "\t8 & 0 & Tamika \\\\\n",
       "\t9 & 0 & Latonya \\\\\n",
       "\t10 & 0 & Keisha \\\\\n",
       "\t$\\dots$ & $\\dots$ & $\\dots$ \\\\\n",
       "\\end{tabular}\n"
      ],
      "text/plain": [
       "\u001b[1m1886×2 DataFrame\u001b[0m\n",
       "\u001b[1m  Row \u001b[0m│\u001b[1m call  \u001b[0m\u001b[1m firstname \u001b[0m\n",
       "\u001b[1m      \u001b[0m│\u001b[90m Int64 \u001b[0m\u001b[90m Cat…      \u001b[0m\n",
       "──────┼──────────────────\n",
       "    1 │     0  Lakisha\n",
       "  ⋮   │   ⋮        ⋮\n",
       "\u001b[36m        1885 rows omitted\u001b[0m"
      ]
     },
     "metadata": {},
     "output_type": "display_data"
    }
   ],
   "source": [
    "resume_bf_df = @chain resume_df begin\n",
    "    @rsubset(:race == \"black\", :sex == \"female\")\n",
    "    @select(:call, :firstname)\n",
    "end"
   ]
  },
  {
   "cell_type": "code",
   "execution_count": 41,
   "metadata": {},
   "outputs": [
    {
     "data": {
      "text/html": [
       "<div class=\"data-frame\"><p>1,860 rows × 2 columns</p><table class=\"data-frame\"><thead><tr><th></th><th>call</th><th>firstname</th></tr><tr><th></th><th title=\"Int64\">Int64</th><th title=\"CategoricalValue{String15, UInt32}\">Cat…</th></tr></thead><tbody><tr><th>1</th><td>0</td><td>Allison</td></tr><tr><th>2</th><td>0</td><td>Kristen</td></tr><tr><th>3</th><td>0</td><td>Carrie</td></tr><tr><th>4</th><td>0</td><td>Jill</td></tr><tr><th>5</th><td>0</td><td>Allison</td></tr><tr><th>6</th><td>0</td><td>Carrie</td></tr><tr><th>7</th><td>0</td><td>Jill</td></tr><tr><th>8</th><td>0</td><td>Allison</td></tr><tr><th>9</th><td>0</td><td>Carrie</td></tr><tr><th>10</th><td>0</td><td>Kristen</td></tr><tr><th>&vellip;</th><td>&vellip;</td><td>&vellip;</td></tr></tbody></table></div>"
      ],
      "text/latex": [
       "\\begin{tabular}{r|cc}\n",
       "\t& call & firstname\\\\\n",
       "\t\\hline\n",
       "\t& Int64 & Cat…\\\\\n",
       "\t\\hline\n",
       "\t1 & 0 & Allison \\\\\n",
       "\t2 & 0 & Kristen \\\\\n",
       "\t3 & 0 & Carrie \\\\\n",
       "\t4 & 0 & Jill \\\\\n",
       "\t5 & 0 & Allison \\\\\n",
       "\t6 & 0 & Carrie \\\\\n",
       "\t7 & 0 & Jill \\\\\n",
       "\t8 & 0 & Allison \\\\\n",
       "\t9 & 0 & Carrie \\\\\n",
       "\t10 & 0 & Kristen \\\\\n",
       "\t$\\dots$ & $\\dots$ & $\\dots$ \\\\\n",
       "\\end{tabular}\n"
      ],
      "text/plain": [
       "\u001b[1m1860×2 DataFrame\u001b[0m\n",
       "\u001b[1m  Row \u001b[0m│\u001b[1m call  \u001b[0m\u001b[1m firstname \u001b[0m\n",
       "\u001b[1m      \u001b[0m│\u001b[90m Int64 \u001b[0m\u001b[90m Cat…      \u001b[0m\n",
       "──────┼──────────────────\n",
       "    1 │     0  Allison\n",
       "  ⋮   │   ⋮        ⋮\n",
       "\u001b[36m        1859 rows omitted\u001b[0m"
      ]
     },
     "metadata": {},
     "output_type": "display_data"
    }
   ],
   "source": [
    "resume_bm_df = @chain resume_df begin\n",
    "    @rsubset(:race == \"black\", :sex == \"male\")\n",
    "    @select(:call, :firstname)\n",
    "end\n",
    "\n",
    "resume_wm_df = @chain resume_df begin\n",
    "    @rsubset(:race == \"white\", :sex == \"male\")\n",
    "    @select(:call, :firstname)\n",
    "end\n",
    "\n",
    "resume_wf_df = @chain resume_df begin\n",
    "    @rsubset(:race == \"white\", :sex == \"female\")\n",
    "    @select(:call, :firstname)\n",
    "end"
   ]
  },
  {
   "cell_type": "code",
   "execution_count": 42,
   "metadata": {},
   "outputs": [
    {
     "data": {
      "text/plain": [
       "0.0326468944913853"
      ]
     },
     "metadata": {},
     "output_type": "display_data"
    }
   ],
   "source": [
    "mean(resume_wf_df.call) - mean(resume_bf_df.call)"
   ]
  },
  {
   "cell_type": "code",
   "execution_count": 43,
   "metadata": {},
   "outputs": [
    {
     "data": {
      "text/plain": [
       "0.03040785618119901"
      ]
     },
     "metadata": {},
     "output_type": "display_data"
    }
   ],
   "source": [
    "mean(resume_wm_df.call) - mean(resume_bm_df.call)"
   ]
  },
  {
   "cell_type": "code",
   "execution_count": 48,
   "metadata": {},
   "outputs": [
    {
     "data": {
      "text/html": [
       "<div class=\"data-frame\"><p>4,870 rows × 5 columns</p><table class=\"data-frame\"><thead><tr><th></th><th>firstname</th><th>sex</th><th>race</th><th>call</th><th>blackfemale</th></tr><tr><th></th><th title=\"CategoricalValue{String15, UInt32}\">Cat…</th><th title=\"CategoricalValue{String7, UInt8}\">Cat…</th><th title=\"CategoricalValue{String7, UInt8}\">Cat…</th><th title=\"Int64\">Int64</th><th title=\"Int64\">Int64</th></tr></thead><tbody><tr><th>1</th><td>Allison</td><td>female</td><td>white</td><td>0</td><td>0</td></tr><tr><th>2</th><td>Kristen</td><td>female</td><td>white</td><td>0</td><td>0</td></tr><tr><th>3</th><td>Lakisha</td><td>female</td><td>black</td><td>0</td><td>1</td></tr><tr><th>4</th><td>Latonya</td><td>female</td><td>black</td><td>0</td><td>1</td></tr><tr><th>5</th><td>Carrie</td><td>female</td><td>white</td><td>0</td><td>0</td></tr><tr><th>6</th><td>Jay</td><td>male</td><td>white</td><td>0</td><td>0</td></tr><tr><th>7</th><td>Jill</td><td>female</td><td>white</td><td>0</td><td>0</td></tr><tr><th>8</th><td>Kenya</td><td>female</td><td>black</td><td>0</td><td>1</td></tr><tr><th>9</th><td>Latonya</td><td>female</td><td>black</td><td>0</td><td>1</td></tr><tr><th>10</th><td>Tyrone</td><td>male</td><td>black</td><td>0</td><td>0</td></tr><tr><th>&vellip;</th><td>&vellip;</td><td>&vellip;</td><td>&vellip;</td><td>&vellip;</td><td>&vellip;</td></tr></tbody></table></div>"
      ],
      "text/latex": [
       "\\begin{tabular}{r|ccccc}\n",
       "\t& firstname & sex & race & call & blackfemale\\\\\n",
       "\t\\hline\n",
       "\t& Cat… & Cat… & Cat… & Int64 & Int64\\\\\n",
       "\t\\hline\n",
       "\t1 & Allison & female & white & 0 & 0 \\\\\n",
       "\t2 & Kristen & female & white & 0 & 0 \\\\\n",
       "\t3 & Lakisha & female & black & 0 & 1 \\\\\n",
       "\t4 & Latonya & female & black & 0 & 1 \\\\\n",
       "\t5 & Carrie & female & white & 0 & 0 \\\\\n",
       "\t6 & Jay & male & white & 0 & 0 \\\\\n",
       "\t7 & Jill & female & white & 0 & 0 \\\\\n",
       "\t8 & Kenya & female & black & 0 & 1 \\\\\n",
       "\t9 & Latonya & female & black & 0 & 1 \\\\\n",
       "\t10 & Tyrone & male & black & 0 & 0 \\\\\n",
       "\t$\\dots$ & $\\dots$ & $\\dots$ & $\\dots$ & $\\dots$ & $\\dots$ \\\\\n",
       "\\end{tabular}\n"
      ],
      "text/plain": [
       "\u001b[1m4870×5 DataFrame\u001b[0m\n",
       "\u001b[1m  Row \u001b[0m│\u001b[1m firstname \u001b[0m\u001b[1m sex    \u001b[0m\u001b[1m race  \u001b[0m\u001b[1m call  \u001b[0m\u001b[1m blackfemale \u001b[0m\n",
       "\u001b[1m      \u001b[0m│\u001b[90m Cat…      \u001b[0m\u001b[90m Cat…   \u001b[0m\u001b[90m Cat…  \u001b[0m\u001b[90m Int64 \u001b[0m\u001b[90m Int64       \u001b[0m\n",
       "──────┼──────────────────────────────────────────────\n",
       "    1 │ Allison    female  white      0            0\n",
       "  ⋮   │     ⋮        ⋮       ⋮      ⋮         ⋮\n",
       "\u001b[36m                                    4869 rows omitted\u001b[0m"
      ]
     },
     "metadata": {},
     "output_type": "display_data"
    }
   ],
   "source": [
    "resume_df = @chain resume_df begin\n",
    "    @rtransform begin\n",
    "        :blackfemale = ifelse(:race == \"black\" && :sex == \"female\", 1, 0)\n",
    "    end\n",
    "end"
   ]
  },
  {
   "cell_type": "code",
   "execution_count": 51,
   "metadata": {},
   "outputs": [
    {
     "name": "stdout",
     "output_type": "stream",
     "text": [
      "2×2×2 Named Array{Int64, 3}\n",
      "\n",
      "[:, :, blackfemale=0] =\n",
      "race ╲ sex │ \"female\"    \"male\"\n",
      "───────────┼───────────────────\n",
      "\"black\"    │        0       549\n",
      "\"white\"    │     1860       575\n",
      "\n",
      "[:, :, blackfemale=1] =\n",
      "race ╲ sex │ \"female\"    \"male\"\n",
      "───────────┼───────────────────\n",
      "\"black\"    │     1886         0\n",
      "\"white\"    │        0         0\n"
     ]
    }
   ],
   "source": [
    "println(freqtable(resume_df, :race, :sex, :blackfemale))"
   ]
  },
  {
   "cell_type": "code",
   "execution_count": 53,
   "metadata": {},
   "outputs": [
    {
     "data": {
      "text/plain": [
       "2-element Vector{String7}:\n",
       " \"black\"\n",
       " \"white\""
      ]
     },
     "metadata": {},
     "output_type": "display_data"
    }
   ],
   "source": [
    "levels(resume_df.race)"
   ]
  },
  {
   "cell_type": "code",
   "execution_count": 54,
   "metadata": {},
   "outputs": [
    {
     "data": {
      "text/plain": [
       "2-element Vector{String7}:\n",
       " \"female\"\n",
       " \"male\""
      ]
     },
     "metadata": {},
     "output_type": "display_data"
    }
   ],
   "source": [
    "levels(resume_df.sex)"
   ]
  },
  {
   "cell_type": "code",
   "execution_count": 55,
   "metadata": {},
   "outputs": [
    {
     "data": {
      "text/plain": [
       "36-element Vector{String15}:\n",
       " \"Aisha\"\n",
       " \"Allison\"\n",
       " \"Anne\"\n",
       " ⋮\n",
       " \"Tremayne\"\n",
       " \"Tyrone\""
      ]
     },
     "metadata": {},
     "output_type": "display_data"
    }
   ],
   "source": [
    "levels(resume_df.firstname)"
   ]
  },
  {
   "cell_type": "markdown",
   "metadata": {},
   "source": [
    "## 2.4 ランダム化比較実験"
   ]
  },
  {
   "cell_type": "code",
   "execution_count": 5,
   "metadata": {},
   "outputs": [
    {
     "data": {
      "text/html": [
       "<div class=\"data-frame\"><p>305,866 rows × 6 columns</p><table class=\"data-frame\"><thead><tr><th></th><th>sex</th><th>yearofbirth</th><th>primary2004</th><th>messages</th><th>primary2006</th><th>hhsize</th></tr><tr><th></th><th title=\"String7\">String7</th><th title=\"Int64\">Int64</th><th title=\"Int64\">Int64</th><th title=\"String15\">String15</th><th title=\"Int64\">Int64</th><th title=\"Int64\">Int64</th></tr></thead><tbody><tr><th>1</th><td>male</td><td>1941</td><td>0</td><td>Civic Duty</td><td>0</td><td>2</td></tr><tr><th>2</th><td>female</td><td>1947</td><td>0</td><td>Civic Duty</td><td>0</td><td>2</td></tr><tr><th>3</th><td>male</td><td>1951</td><td>0</td><td>Hawthorne</td><td>1</td><td>3</td></tr><tr><th>4</th><td>female</td><td>1950</td><td>0</td><td>Hawthorne</td><td>1</td><td>3</td></tr><tr><th>5</th><td>female</td><td>1982</td><td>0</td><td>Hawthorne</td><td>1</td><td>3</td></tr><tr><th>6</th><td>male</td><td>1981</td><td>0</td><td>Control</td><td>0</td><td>3</td></tr><tr><th>7</th><td>female</td><td>1959</td><td>0</td><td>Control</td><td>1</td><td>3</td></tr><tr><th>8</th><td>male</td><td>1956</td><td>0</td><td>Control</td><td>1</td><td>3</td></tr><tr><th>9</th><td>female</td><td>1968</td><td>0</td><td>Control</td><td>0</td><td>2</td></tr><tr><th>10</th><td>male</td><td>1967</td><td>0</td><td>Control</td><td>0</td><td>2</td></tr><tr><th>&vellip;</th><td>&vellip;</td><td>&vellip;</td><td>&vellip;</td><td>&vellip;</td><td>&vellip;</td><td>&vellip;</td></tr></tbody></table></div>"
      ],
      "text/latex": [
       "\\begin{tabular}{r|cccccc}\n",
       "\t& sex & yearofbirth & primary2004 & messages & primary2006 & hhsize\\\\\n",
       "\t\\hline\n",
       "\t& String7 & Int64 & Int64 & String15 & Int64 & Int64\\\\\n",
       "\t\\hline\n",
       "\t1 & male & 1941 & 0 & Civic Duty & 0 & 2 \\\\\n",
       "\t2 & female & 1947 & 0 & Civic Duty & 0 & 2 \\\\\n",
       "\t3 & male & 1951 & 0 & Hawthorne & 1 & 3 \\\\\n",
       "\t4 & female & 1950 & 0 & Hawthorne & 1 & 3 \\\\\n",
       "\t5 & female & 1982 & 0 & Hawthorne & 1 & 3 \\\\\n",
       "\t6 & male & 1981 & 0 & Control & 0 & 3 \\\\\n",
       "\t7 & female & 1959 & 0 & Control & 1 & 3 \\\\\n",
       "\t8 & male & 1956 & 0 & Control & 1 & 3 \\\\\n",
       "\t9 & female & 1968 & 0 & Control & 0 & 2 \\\\\n",
       "\t10 & male & 1967 & 0 & Control & 0 & 2 \\\\\n",
       "\t$\\dots$ & $\\dots$ & $\\dots$ & $\\dots$ & $\\dots$ & $\\dots$ & $\\dots$ \\\\\n",
       "\\end{tabular}\n"
      ],
      "text/plain": [
       "\u001b[1m305866×6 DataFrame\u001b[0m\n",
       "\u001b[1m    Row \u001b[0m│\u001b[1m sex     \u001b[0m\u001b[1m yearofbirth \u001b[0m\u001b[1m primary2004 \u001b[0m\u001b[1m messages   \u001b[0m\u001b[1m primary2006 \u001b[0m\u001b[1m hhsize \u001b[0m\n",
       "\u001b[1m        \u001b[0m│\u001b[90m String7 \u001b[0m\u001b[90m Int64       \u001b[0m\u001b[90m Int64       \u001b[0m\u001b[90m String15   \u001b[0m\u001b[90m Int64       \u001b[0m\u001b[90m Int64  \u001b[0m\n",
       "────────┼────────────────────────────────────────────────────────────────────\n",
       "      1 │ male            1941            0  Civic Duty            0       2\n",
       "   ⋮    │    ⋮          ⋮            ⋮           ⋮            ⋮         ⋮\n",
       "\u001b[36m                                                          305865 rows omitted\u001b[0m"
      ]
     },
     "metadata": {},
     "output_type": "display_data"
    }
   ],
   "source": [
    "social_df = CSV.read(\"../../data/CAUSALITY/social.csv\", DataFrame, missingstring=[\"NA\"])"
   ]
  },
  {
   "cell_type": "code",
   "execution_count": 6,
   "metadata": {},
   "outputs": [
    {
     "data": {
      "text/html": [
       "<div class=\"data-frame\"><p>6 rows × 7 columns</p><table class=\"data-frame\"><thead><tr><th></th><th>variable</th><th>mean</th><th>min</th><th>median</th><th>max</th><th>nmissing</th><th>eltype</th></tr><tr><th></th><th title=\"Symbol\">Symbol</th><th title=\"Union{Nothing, Float64}\">Union…</th><th title=\"Any\">Any</th><th title=\"Union{Nothing, Float64}\">Union…</th><th title=\"Any\">Any</th><th title=\"Int64\">Int64</th><th title=\"DataType\">DataType</th></tr></thead><tbody><tr><th>1</th><td>sex</td><td></td><td>female</td><td></td><td>male</td><td>0</td><td>String7</td></tr><tr><th>2</th><td>yearofbirth</td><td>1956.21</td><td>1900</td><td>1956.0</td><td>1986</td><td>0</td><td>Int64</td></tr><tr><th>3</th><td>primary2004</td><td>0.401378</td><td>0</td><td>0.0</td><td>1</td><td>0</td><td>Int64</td></tr><tr><th>4</th><td>messages</td><td></td><td>Civic Duty</td><td></td><td>Neighbors</td><td>0</td><td>String15</td></tr><tr><th>5</th><td>primary2006</td><td>0.312245</td><td>0</td><td>0.0</td><td>1</td><td>0</td><td>Int64</td></tr><tr><th>6</th><td>hhsize</td><td>2.18442</td><td>1</td><td>2.0</td><td>8</td><td>0</td><td>Int64</td></tr></tbody></table></div>"
      ],
      "text/latex": [
       "\\begin{tabular}{r|ccccccc}\n",
       "\t& variable & mean & min & median & max & nmissing & eltype\\\\\n",
       "\t\\hline\n",
       "\t& Symbol & Union… & Any & Union… & Any & Int64 & DataType\\\\\n",
       "\t\\hline\n",
       "\t1 & sex &  & female &  & male & 0 & String7 \\\\\n",
       "\t2 & yearofbirth & 1956.21 & 1900 & 1956.0 & 1986 & 0 & Int64 \\\\\n",
       "\t3 & primary2004 & 0.401378 & 0 & 0.0 & 1 & 0 & Int64 \\\\\n",
       "\t4 & messages &  & Civic Duty &  & Neighbors & 0 & String15 \\\\\n",
       "\t5 & primary2006 & 0.312245 & 0 & 0.0 & 1 & 0 & Int64 \\\\\n",
       "\t6 & hhsize & 2.18442 & 1 & 2.0 & 8 & 0 & Int64 \\\\\n",
       "\\end{tabular}\n"
      ],
      "text/plain": [
       "\u001b[1m6×7 DataFrame\u001b[0m\n",
       "\u001b[1m Row \u001b[0m│\u001b[1m variable    \u001b[0m\u001b[1m mean     \u001b[0m\u001b[1m min        \u001b[0m\u001b[1m median \u001b[0m\u001b[1m max       \u001b[0m\u001b[1m nmissing \u001b[0m\u001b[1m eltype   \u001b[0m\n",
       "\u001b[1m     \u001b[0m│\u001b[90m Symbol      \u001b[0m\u001b[90m Union…   \u001b[0m\u001b[90m Any        \u001b[0m\u001b[90m Union… \u001b[0m\u001b[90m Any       \u001b[0m\u001b[90m Int64    \u001b[0m\u001b[90m DataType \u001b[0m\n",
       "─────┼──────────────────────────────────────────────────────────────────────────\n",
       "   1 │ sex         \u001b[90m          \u001b[0m female     \u001b[90m        \u001b[0m male              0  String7\n",
       "  ⋮  │      ⋮          ⋮          ⋮         ⋮         ⋮         ⋮         ⋮\n",
       "\u001b[36m                                                                  5 rows omitted\u001b[0m"
      ]
     },
     "metadata": {},
     "output_type": "display_data"
    }
   ],
   "source": [
    "describe(social_df)"
   ]
  },
  {
   "cell_type": "code",
   "execution_count": 18,
   "metadata": {},
   "outputs": [
    {
     "data": {
      "text/html": [
       "<div class=\"data-frame\"><p>4 rows × 3 columns</p><table class=\"data-frame\"><thead><tr><th></th><th>messages</th><th>voting_ratio</th><th>excess_voting_ratio</th></tr><tr><th></th><th title=\"String15\">String15</th><th title=\"Float64\">Float64</th><th title=\"Float64\">Float64</th></tr></thead><tbody><tr><th>1</th><td>Civic Duty</td><td>0.314538</td><td>0.0178993</td></tr><tr><th>2</th><td>Hawthorne</td><td>0.322375</td><td>0.0257363</td></tr><tr><th>3</th><td>Control</td><td>0.296638</td><td>0.0</td></tr><tr><th>4</th><td>Neighbors</td><td>0.377948</td><td>0.0813099</td></tr></tbody></table></div>"
      ],
      "text/latex": [
       "\\begin{tabular}{r|ccc}\n",
       "\t& messages & voting\\_ratio & excess\\_voting\\_ratio\\\\\n",
       "\t\\hline\n",
       "\t& String15 & Float64 & Float64\\\\\n",
       "\t\\hline\n",
       "\t1 & Civic Duty & 0.314538 & 0.0178993 \\\\\n",
       "\t2 & Hawthorne & 0.322375 & 0.0257363 \\\\\n",
       "\t3 & Control & 0.296638 & 0.0 \\\\\n",
       "\t4 & Neighbors & 0.377948 & 0.0813099 \\\\\n",
       "\\end{tabular}\n"
      ],
      "text/plain": [
       "\u001b[1m4×3 DataFrame\u001b[0m\n",
       "\u001b[1m Row \u001b[0m│\u001b[1m messages   \u001b[0m\u001b[1m voting_ratio \u001b[0m\u001b[1m excess_voting_ratio \u001b[0m\n",
       "\u001b[1m     \u001b[0m│\u001b[90m String15   \u001b[0m\u001b[90m Float64      \u001b[0m\u001b[90m Float64             \u001b[0m\n",
       "─────┼───────────────────────────────────────────────\n",
       "   1 │ Civic Duty      0.314538            0.0178993\n",
       "  ⋮  │     ⋮            ⋮                 ⋮\n",
       "\u001b[36m                                       3 rows omitted\u001b[0m"
      ]
     },
     "metadata": {},
     "output_type": "display_data"
    }
   ],
   "source": [
    "voting_ratio_df = @chain social_df begin\n",
    "    groupby([:messages])\n",
    "    @combine(:voting_ratio = mean(:primary2006))\n",
    "end\n",
    "\n",
    "control_voting_ratio = @rsubset(voting_ratio_df, :messages == \"Control\").voting_ratio[1]\n",
    "@chain voting_ratio_df begin\n",
    "    @rtransform(:excess_voting_ratio = :voting_ratio - control_voting_ratio)\n",
    "end"
   ]
  },
  {
   "cell_type": "code",
   "execution_count": 17,
   "metadata": {},
   "outputs": [
    {
     "data": {
      "text/plain": [
       "0.2966383083302395"
      ]
     },
     "metadata": {},
     "output_type": "display_data"
    }
   ],
   "source": [
    "@rsubset(voting_ratio_df, :messages == \"Control\").voting_ratio[1]"
   ]
  },
  {
   "cell_type": "code",
   "execution_count": 21,
   "metadata": {},
   "outputs": [
    {
     "data": {
      "text/html": [
       "<div class=\"data-frame\"><p>4 rows × 3 columns</p><table class=\"data-frame\"><thead><tr><th></th><th>messages</th><th>mean_yearofbirth</th><th>mean_age</th></tr><tr><th></th><th title=\"String15\">String15</th><th title=\"Float64\">Float64</th><th title=\"Float64\">Float64</th></tr></thead><tbody><tr><th>1</th><td>Civic Duty</td><td>1956.34</td><td>49.659</td></tr><tr><th>2</th><td>Hawthorne</td><td>1956.3</td><td>49.7048</td></tr><tr><th>3</th><td>Control</td><td>1956.19</td><td>49.8135</td></tr><tr><th>4</th><td>Neighbors</td><td>1956.15</td><td>49.8529</td></tr></tbody></table></div>"
      ],
      "text/latex": [
       "\\begin{tabular}{r|ccc}\n",
       "\t& messages & mean\\_yearofbirth & mean\\_age\\\\\n",
       "\t\\hline\n",
       "\t& String15 & Float64 & Float64\\\\\n",
       "\t\\hline\n",
       "\t1 & Civic Duty & 1956.34 & 49.659 \\\\\n",
       "\t2 & Hawthorne & 1956.3 & 49.7048 \\\\\n",
       "\t3 & Control & 1956.19 & 49.8135 \\\\\n",
       "\t4 & Neighbors & 1956.15 & 49.8529 \\\\\n",
       "\\end{tabular}\n"
      ],
      "text/plain": [
       "\u001b[1m4×3 DataFrame\u001b[0m\n",
       "\u001b[1m Row \u001b[0m│\u001b[1m messages   \u001b[0m\u001b[1m mean_yearofbirth \u001b[0m\u001b[1m mean_age \u001b[0m\n",
       "\u001b[1m     \u001b[0m│\u001b[90m String15   \u001b[0m\u001b[90m Float64          \u001b[0m\u001b[90m Float64  \u001b[0m\n",
       "─────┼────────────────────────────────────────\n",
       "   1 │ Civic Duty           1956.34   49.659\n",
       "  ⋮  │     ⋮              ⋮             ⋮\n",
       "\u001b[36m                                3 rows omitted\u001b[0m"
      ]
     },
     "metadata": {},
     "output_type": "display_data"
    }
   ],
   "source": [
    "@chain social_df begin\n",
    "    groupby([:messages])\n",
    "    @combine begin\n",
    "        @astable begin\n",
    "            :mean_yearofbirth = mean(:yearofbirth)\n",
    "            :mean_age = 2006 .- :mean_yearofbirth\n",
    "        end\n",
    "    end\n",
    "end"
   ]
  },
  {
   "cell_type": "code",
   "execution_count": 22,
   "metadata": {},
   "outputs": [
    {
     "data": {
      "text/html": [
       "<div class=\"data-frame\"><p>4 rows × 3 columns</p><table class=\"data-frame\"><thead><tr><th></th><th>messages</th><th>mean_primary2004</th><th>mean_hhsize</th></tr><tr><th></th><th title=\"String15\">String15</th><th title=\"Float64\">Float64</th><th title=\"Float64\">Float64</th></tr></thead><tbody><tr><th>1</th><td>Civic Duty</td><td>0.399445</td><td>2.18913</td></tr><tr><th>2</th><td>Hawthorne</td><td>0.40323</td><td>2.18014</td></tr><tr><th>3</th><td>Control</td><td>0.400339</td><td>2.18367</td></tr><tr><th>4</th><td>Neighbors</td><td>0.406665</td><td>2.18777</td></tr></tbody></table></div>"
      ],
      "text/latex": [
       "\\begin{tabular}{r|ccc}\n",
       "\t& messages & mean\\_primary2004 & mean\\_hhsize\\\\\n",
       "\t\\hline\n",
       "\t& String15 & Float64 & Float64\\\\\n",
       "\t\\hline\n",
       "\t1 & Civic Duty & 0.399445 & 2.18913 \\\\\n",
       "\t2 & Hawthorne & 0.40323 & 2.18014 \\\\\n",
       "\t3 & Control & 0.400339 & 2.18367 \\\\\n",
       "\t4 & Neighbors & 0.406665 & 2.18777 \\\\\n",
       "\\end{tabular}\n"
      ],
      "text/plain": [
       "\u001b[1m4×3 DataFrame\u001b[0m\n",
       "\u001b[1m Row \u001b[0m│\u001b[1m messages   \u001b[0m\u001b[1m mean_primary2004 \u001b[0m\u001b[1m mean_hhsize \u001b[0m\n",
       "\u001b[1m     \u001b[0m│\u001b[90m String15   \u001b[0m\u001b[90m Float64          \u001b[0m\u001b[90m Float64     \u001b[0m\n",
       "─────┼───────────────────────────────────────────\n",
       "   1 │ Civic Duty          0.399445      2.18913\n",
       "  ⋮  │     ⋮              ⋮               ⋮\n",
       "\u001b[36m                                   3 rows omitted\u001b[0m"
      ]
     },
     "metadata": {},
     "output_type": "display_data"
    }
   ],
   "source": [
    "@chain social_df begin\n",
    "    groupby([:messages])\n",
    "    @combine begin\n",
    "        @astable begin\n",
    "            :mean_primary2004 = mean(:primary2004)\n",
    "            :mean_hhsize = mean(:hhsize)\n",
    "        end\n",
    "    end\n",
    "end"
   ]
  },
  {
   "cell_type": "markdown",
   "metadata": {},
   "source": [
    "## 2.5 観察研究"
   ]
  },
  {
   "cell_type": "code",
   "execution_count": 23,
   "metadata": {},
   "outputs": [
    {
     "data": {
      "text/html": [
       "<div class=\"data-frame\"><p>358 rows × 8 columns</p><table class=\"data-frame\"><thead><tr><th></th><th>chain</th><th>location</th><th>wageBefore</th><th>wageAfter</th><th>fullBefore</th><th>fullAfter</th><th>partBefore</th><th>partAfter</th></tr><tr><th></th><th title=\"String15\">String15</th><th title=\"String15\">String15</th><th title=\"Float64\">Float64</th><th title=\"Float64\">Float64</th><th title=\"Float64\">Float64</th><th title=\"Float64\">Float64</th><th title=\"Float64\">Float64</th><th title=\"Float64\">Float64</th></tr></thead><tbody><tr><th>1</th><td>wendys</td><td>PA</td><td>5.0</td><td>5.25</td><td>20.0</td><td>0.0</td><td>20.0</td><td>36.0</td></tr><tr><th>2</th><td>wendys</td><td>PA</td><td>5.5</td><td>4.75</td><td>6.0</td><td>28.0</td><td>26.0</td><td>3.0</td></tr><tr><th>3</th><td>burgerking</td><td>PA</td><td>5.0</td><td>4.75</td><td>50.0</td><td>15.0</td><td>35.0</td><td>18.0</td></tr><tr><th>4</th><td>burgerking</td><td>PA</td><td>5.0</td><td>5.0</td><td>10.0</td><td>26.0</td><td>17.0</td><td>9.0</td></tr><tr><th>5</th><td>kfc</td><td>PA</td><td>5.25</td><td>5.0</td><td>2.0</td><td>3.0</td><td>8.0</td><td>12.0</td></tr><tr><th>6</th><td>kfc</td><td>PA</td><td>5.0</td><td>5.0</td><td>2.0</td><td>2.0</td><td>10.0</td><td>9.0</td></tr><tr><th>7</th><td>roys</td><td>PA</td><td>5.0</td><td>4.75</td><td>2.5</td><td>1.0</td><td>20.0</td><td>25.0</td></tr><tr><th>8</th><td>burgerking</td><td>PA</td><td>5.0</td><td>5.0</td><td>40.0</td><td>9.0</td><td>30.0</td><td>32.0</td></tr><tr><th>9</th><td>burgerking</td><td>PA</td><td>5.0</td><td>4.5</td><td>8.0</td><td>7.0</td><td>27.0</td><td>39.0</td></tr><tr><th>10</th><td>burgerking</td><td>PA</td><td>5.5</td><td>4.75</td><td>10.5</td><td>18.0</td><td>30.0</td><td>10.0</td></tr><tr><th>&vellip;</th><td>&vellip;</td><td>&vellip;</td><td>&vellip;</td><td>&vellip;</td><td>&vellip;</td><td>&vellip;</td><td>&vellip;</td><td>&vellip;</td></tr></tbody></table></div>"
      ],
      "text/latex": [
       "\\begin{tabular}{r|cccccccc}\n",
       "\t& chain & location & wageBefore & wageAfter & fullBefore & fullAfter & partBefore & partAfter\\\\\n",
       "\t\\hline\n",
       "\t& String15 & String15 & Float64 & Float64 & Float64 & Float64 & Float64 & Float64\\\\\n",
       "\t\\hline\n",
       "\t1 & wendys & PA & 5.0 & 5.25 & 20.0 & 0.0 & 20.0 & 36.0 \\\\\n",
       "\t2 & wendys & PA & 5.5 & 4.75 & 6.0 & 28.0 & 26.0 & 3.0 \\\\\n",
       "\t3 & burgerking & PA & 5.0 & 4.75 & 50.0 & 15.0 & 35.0 & 18.0 \\\\\n",
       "\t4 & burgerking & PA & 5.0 & 5.0 & 10.0 & 26.0 & 17.0 & 9.0 \\\\\n",
       "\t5 & kfc & PA & 5.25 & 5.0 & 2.0 & 3.0 & 8.0 & 12.0 \\\\\n",
       "\t6 & kfc & PA & 5.0 & 5.0 & 2.0 & 2.0 & 10.0 & 9.0 \\\\\n",
       "\t7 & roys & PA & 5.0 & 4.75 & 2.5 & 1.0 & 20.0 & 25.0 \\\\\n",
       "\t8 & burgerking & PA & 5.0 & 5.0 & 40.0 & 9.0 & 30.0 & 32.0 \\\\\n",
       "\t9 & burgerking & PA & 5.0 & 4.5 & 8.0 & 7.0 & 27.0 & 39.0 \\\\\n",
       "\t10 & burgerking & PA & 5.5 & 4.75 & 10.5 & 18.0 & 30.0 & 10.0 \\\\\n",
       "\t$\\dots$ & $\\dots$ & $\\dots$ & $\\dots$ & $\\dots$ & $\\dots$ & $\\dots$ & $\\dots$ & $\\dots$ \\\\\n",
       "\\end{tabular}\n"
      ],
      "text/plain": [
       "\u001b[1m358×8 DataFrame\u001b[0m\n",
       "\u001b[1m Row \u001b[0m│\u001b[1m chain      \u001b[0m\u001b[1m location \u001b[0m\u001b[1m wageBefore \u001b[0m\u001b[1m wageAfter \u001b[0m\u001b[1m fullBefore \u001b[0m\u001b[1m fullAfter \u001b[0m\u001b[1m partBefore \u001b[0m\u001b[1m partAfter \u001b[0m\n",
       "\u001b[1m     \u001b[0m│\u001b[90m String15   \u001b[0m\u001b[90m String15 \u001b[0m\u001b[90m Float64    \u001b[0m\u001b[90m Float64   \u001b[0m\u001b[90m Float64    \u001b[0m\u001b[90m Float64   \u001b[0m\u001b[90m Float64    \u001b[0m\u001b[90m Float64   \u001b[0m\n",
       "─────┼───────────────────────────────────────────────────────────────────────────────────────────\n",
       "   1 │ wendys      PA              5.0        5.25        20.0        0.0        20.0       36.0\n",
       "  ⋮  │     ⋮          ⋮          ⋮           ⋮          ⋮           ⋮          ⋮           ⋮\n",
       "\u001b[36m                                                                                 357 rows omitted\u001b[0m"
      ]
     },
     "metadata": {},
     "output_type": "display_data"
    }
   ],
   "source": [
    "minwage_df = CSV.read(\"../../data/CAUSALITY/minwage.csv\", DataFrame, missingstring=[\"NA\"])"
   ]
  },
  {
   "cell_type": "code",
   "execution_count": 24,
   "metadata": {},
   "outputs": [
    {
     "data": {
      "text/html": [
       "<div class=\"data-frame\"><p>8 rows × 7 columns</p><table class=\"data-frame\"><thead><tr><th></th><th>variable</th><th>mean</th><th>min</th><th>median</th><th>max</th><th>nmissing</th><th>eltype</th></tr><tr><th></th><th title=\"Symbol\">Symbol</th><th title=\"Union{Nothing, Float64}\">Union…</th><th title=\"Any\">Any</th><th title=\"Union{Nothing, Float64}\">Union…</th><th title=\"Any\">Any</th><th title=\"Int64\">Int64</th><th title=\"DataType\">DataType</th></tr></thead><tbody><tr><th>1</th><td>chain</td><td></td><td>burgerking</td><td></td><td>wendys</td><td>0</td><td>String15</td></tr><tr><th>2</th><td>location</td><td></td><td>PA</td><td></td><td>southNJ</td><td>0</td><td>String15</td></tr><tr><th>3</th><td>wageBefore</td><td>4.61771</td><td>4.25</td><td>4.5</td><td>5.75</td><td>0</td><td>Float64</td></tr><tr><th>4</th><td>wageAfter</td><td>4.99385</td><td>4.25</td><td>5.05</td><td>6.25</td><td>0</td><td>Float64</td></tr><tr><th>5</th><td>fullBefore</td><td>8.47486</td><td>0.0</td><td>6.0</td><td>60.0</td><td>0</td><td>Float64</td></tr><tr><th>6</th><td>fullAfter</td><td>8.36173</td><td>0.0</td><td>6.0</td><td>40.0</td><td>0</td><td>Float64</td></tr><tr><th>7</th><td>partBefore</td><td>18.7542</td><td>0.0</td><td>16.25</td><td>60.0</td><td>0</td><td>Float64</td></tr><tr><th>8</th><td>partAfter</td><td>18.6885</td><td>0.0</td><td>17.0</td><td>60.0</td><td>0</td><td>Float64</td></tr></tbody></table></div>"
      ],
      "text/latex": [
       "\\begin{tabular}{r|ccccccc}\n",
       "\t& variable & mean & min & median & max & nmissing & eltype\\\\\n",
       "\t\\hline\n",
       "\t& Symbol & Union… & Any & Union… & Any & Int64 & DataType\\\\\n",
       "\t\\hline\n",
       "\t1 & chain &  & burgerking &  & wendys & 0 & String15 \\\\\n",
       "\t2 & location &  & PA &  & southNJ & 0 & String15 \\\\\n",
       "\t3 & wageBefore & 4.61771 & 4.25 & 4.5 & 5.75 & 0 & Float64 \\\\\n",
       "\t4 & wageAfter & 4.99385 & 4.25 & 5.05 & 6.25 & 0 & Float64 \\\\\n",
       "\t5 & fullBefore & 8.47486 & 0.0 & 6.0 & 60.0 & 0 & Float64 \\\\\n",
       "\t6 & fullAfter & 8.36173 & 0.0 & 6.0 & 40.0 & 0 & Float64 \\\\\n",
       "\t7 & partBefore & 18.7542 & 0.0 & 16.25 & 60.0 & 0 & Float64 \\\\\n",
       "\t8 & partAfter & 18.6885 & 0.0 & 17.0 & 60.0 & 0 & Float64 \\\\\n",
       "\\end{tabular}\n"
      ],
      "text/plain": [
       "\u001b[1m8×7 DataFrame\u001b[0m\n",
       "\u001b[1m Row \u001b[0m│\u001b[1m variable   \u001b[0m\u001b[1m mean    \u001b[0m\u001b[1m min        \u001b[0m\u001b[1m median \u001b[0m\u001b[1m max     \u001b[0m\u001b[1m nmissing \u001b[0m\u001b[1m eltype   \u001b[0m\n",
       "\u001b[1m     \u001b[0m│\u001b[90m Symbol     \u001b[0m\u001b[90m Union…  \u001b[0m\u001b[90m Any        \u001b[0m\u001b[90m Union… \u001b[0m\u001b[90m Any     \u001b[0m\u001b[90m Int64    \u001b[0m\u001b[90m DataType \u001b[0m\n",
       "─────┼──────────────────────────────────────────────────────────────────────\n",
       "   1 │ chain      \u001b[90m         \u001b[0m burgerking \u001b[90m        \u001b[0m wendys          0  String15\n",
       "  ⋮  │     ⋮          ⋮         ⋮         ⋮        ⋮        ⋮         ⋮\n",
       "\u001b[36m                                                              7 rows omitted\u001b[0m"
      ]
     },
     "metadata": {},
     "output_type": "display_data"
    }
   ],
   "source": [
    "describe(minwage_df)"
   ]
  },
  {
   "cell_type": "code",
   "execution_count": 31,
   "metadata": {},
   "outputs": [
    {
     "data": {
      "text/html": [
       "<div class=\"data-frame\"><p>2 rows × 5 columns</p><table class=\"data-frame\"><thead><tr><th></th><th>state</th><th>mean_wage_before</th><th>mean_wage_after</th><th>under_threshold_before</th><th>under_threshold_after</th></tr><tr><th></th><th title=\"String\">String</th><th title=\"Float64\">Float64</th><th title=\"Float64\">Float64</th><th title=\"Float64\">Float64</th><th title=\"Float64\">Float64</th></tr></thead><tbody><tr><th>1</th><td>PA</td><td>4.65134</td><td>4.61328</td><td>0.940299</td><td>0.955224</td></tr><tr><th>2</th><td>NJ</td><td>4.60997</td><td>5.08148</td><td>0.910653</td><td>0.00343643</td></tr></tbody></table></div>"
      ],
      "text/latex": [
       "\\begin{tabular}{r|ccccc}\n",
       "\t& state & mean\\_wage\\_before & mean\\_wage\\_after & under\\_threshold\\_before & under\\_threshold\\_after\\\\\n",
       "\t\\hline\n",
       "\t& String & Float64 & Float64 & Float64 & Float64\\\\\n",
       "\t\\hline\n",
       "\t1 & PA & 4.65134 & 4.61328 & 0.940299 & 0.955224 \\\\\n",
       "\t2 & NJ & 4.60997 & 5.08148 & 0.910653 & 0.00343643 \\\\\n",
       "\\end{tabular}\n"
      ],
      "text/plain": [
       "\u001b[1m2×5 DataFrame\u001b[0m\n",
       "\u001b[1m Row \u001b[0m│\u001b[1m state  \u001b[0m\u001b[1m mean_wage_before \u001b[0m\u001b[1m mean_wage_after \u001b[0m\u001b[1m under_threshold_before \u001b[0m\u001b[1m under_threshold_after \u001b[0m\n",
       "\u001b[1m     \u001b[0m│\u001b[90m String \u001b[0m\u001b[90m Float64          \u001b[0m\u001b[90m Float64         \u001b[0m\u001b[90m Float64                \u001b[0m\u001b[90m Float64               \u001b[0m\n",
       "─────┼──────────────────────────────────────────────────────────────────────────────────────────\n",
       "   1 │ PA               4.65134          4.61328                0.940299             0.955224\n",
       "   2 │ NJ               4.60997          5.08148                0.910653             0.00343643"
      ]
     },
     "metadata": {},
     "output_type": "display_data"
    }
   ],
   "source": [
    "@chain minwage_df begin\n",
    "    @rtransform(:state = :location == \"PA\" ? \"PA\" : \"NJ\")\n",
    "    groupby(:state)\n",
    "    @combine begin\n",
    "        :mean_wage_before = mean(:wageBefore)\n",
    "        :mean_wage_after = mean(:wageAfter)\n",
    "        :under_threshold_before = mean(:wageBefore .< 5.05)\n",
    "        :under_threshold_after = mean(:wageAfter .< 5.05)\n",
    "    end\n",
    "end"
   ]
  },
  {
   "cell_type": "code",
   "execution_count": 37,
   "metadata": {},
   "outputs": [
    {
     "data": {
      "text/plain": [
       "1-element Vector{Float64}:\n",
       " 0.04811886142291416"
      ]
     },
     "metadata": {},
     "output_type": "display_data"
    }
   ],
   "source": [
    "prop_df = @chain minwage_df begin\n",
    "    @rtransform begin\n",
    "        :state = :location == \"PA\" ? \"PA\" : \"NJ\"\n",
    "        :fulltime_ratio_before = :fullBefore / (:fullBefore + :partBefore)\n",
    "        :fulltime_ratio_after = :fullAfter / (:fullAfter + :partAfter)\n",
    "    end\n",
    "    groupby(:state)\n",
    "    @combine begin\n",
    "        :mean_fulltime_ratio_before = mean(:fulltime_ratio_before)\n",
    "        :mean_fulltime_ratio_after = mean(:fulltime_ratio_after)\n",
    "    end\n",
    "    @rtransform :diff_ratio = :mean_fulltime_ratio_after - :mean_fulltime_ratio_before\n",
    "end\n",
    "\n",
    "@rsubset(prop_df, :state == \"NJ\").mean_fulltime_ratio_after - @rsubset(prop_df, :state == \"PA\").mean_fulltime_ratio_after"
   ]
  },
  {
   "cell_type": "code",
   "execution_count": 53,
   "metadata": {},
   "outputs": [
    {
     "name": "stdout",
     "output_type": "stream",
     "text": [
      "4×2 Named Matrix{Float64}\n",
      "chain ╲ state │       NJ        PA\n",
      "──────────────┼───────────────────\n",
      "\"burgerking\"  │ 0.405498  0.462687\n",
      "\"kfc\"         │ 0.223368  0.149254\n",
      "\"roys\"        │ 0.250859  0.223881\n",
      "\"wendys\"      │ 0.120275  0.164179\n"
     ]
    }
   ],
   "source": [
    "prop(freqtable(@rtransform(minwage_df, :state = :location == \"PA\" ? \"PA\" : \"NJ\"), :chain, :state), margins=2) |> println"
   ]
  },
  {
   "cell_type": "code",
   "execution_count": 54,
   "metadata": {},
   "outputs": [
    {
     "data": {
      "text/plain": [
       "1-element Vector{Float64}:\n",
       " 0.03643933939149824"
      ]
     },
     "metadata": {},
     "output_type": "display_data"
    }
   ],
   "source": [
    "prop_df = @chain minwage_df begin\n",
    "    @rtransform begin\n",
    "        :state = :location == \"PA\" ? \"PA\" : \"NJ\"\n",
    "        :fulltime_ratio_before = :fullBefore / (:fullBefore + :partBefore)\n",
    "        :fulltime_ratio_after = :fullAfter / (:fullAfter + :partAfter)\n",
    "    end\n",
    "    @rsubset(:chain == \"burgerking\")\n",
    "    groupby(:state)\n",
    "    @combine begin\n",
    "        :mean_fulltime_ratio_before = mean(:fulltime_ratio_before)\n",
    "        :mean_fulltime_ratio_after = mean(:fulltime_ratio_after)\n",
    "    end\n",
    "    @rtransform :diff_ratio = :mean_fulltime_ratio_after - :mean_fulltime_ratio_before\n",
    "end\n",
    "\n",
    "@rsubset(prop_df, :state == \"NJ\").mean_fulltime_ratio_after - @rsubset(prop_df, :state == \"PA\").mean_fulltime_ratio_after"
   ]
  },
  {
   "cell_type": "code",
   "execution_count": 55,
   "metadata": {},
   "outputs": [
    {
     "data": {
      "text/plain": [
       "1-element Vector{Float64}:\n",
       " 0.031498534750908636"
      ]
     },
     "metadata": {},
     "output_type": "display_data"
    }
   ],
   "source": [
    "prop_df = @chain minwage_df begin\n",
    "    @rtransform begin\n",
    "        :state = :location == \"PA\" ? \"PA\" : \"NJ\"\n",
    "        :fulltime_ratio_before = :fullBefore / (:fullBefore + :partBefore)\n",
    "        :fulltime_ratio_after = :fullAfter / (:fullAfter + :partAfter)\n",
    "    end\n",
    "    @rsubset(:chain == \"burgerking\", :location in [\"PA\", \"northNJ\", \"southNJ\"])\n",
    "    groupby(:state)\n",
    "    @combine begin\n",
    "        :mean_fulltime_ratio_before = mean(:fulltime_ratio_before)\n",
    "        :mean_fulltime_ratio_after = mean(:fulltime_ratio_after)\n",
    "    end\n",
    "    @rtransform :diff_ratio = :mean_fulltime_ratio_after - :mean_fulltime_ratio_before\n",
    "end\n",
    "\n",
    "@rsubset(prop_df, :state == \"NJ\").mean_fulltime_ratio_after - @rsubset(prop_df, :state == \"PA\").mean_fulltime_ratio_after"
   ]
  },
  {
   "cell_type": "code",
   "execution_count": 56,
   "metadata": {},
   "outputs": [
    {
     "data": {
      "text/plain": [
       "1-element Vector{Float64}:\n",
       " 0.023874740213139733"
      ]
     },
     "metadata": {},
     "output_type": "display_data"
    }
   ],
   "source": [
    "prop_df = @chain minwage_df begin\n",
    "    @rtransform begin\n",
    "        :state = :location == \"PA\" ? \"PA\" : \"NJ\"\n",
    "        :fulltime_ratio_before = :fullBefore / (:fullBefore + :partBefore)\n",
    "        :fulltime_ratio_after = :fullAfter / (:fullAfter + :partAfter)\n",
    "    end\n",
    "    groupby(:state)\n",
    "    @combine begin\n",
    "        :mean_fulltime_ratio_before = mean(:fulltime_ratio_before)\n",
    "        :mean_fulltime_ratio_after = mean(:fulltime_ratio_after)\n",
    "    end\n",
    "    @rtransform :diff_ratio = :mean_fulltime_ratio_after - :mean_fulltime_ratio_before\n",
    "end\n",
    "\n",
    "@rsubset(prop_df, :state == \"NJ\").mean_fulltime_ratio_after - @rsubset(prop_df, :state == \"NJ\").mean_fulltime_ratio_before"
   ]
  },
  {
   "cell_type": "code",
   "execution_count": 58,
   "metadata": {},
   "outputs": [
    {
     "data": {
      "text/plain": [
       "1-element Vector{Float64}:\n",
       " 0.06155831231224701"
      ]
     },
     "metadata": {},
     "output_type": "display_data"
    }
   ],
   "source": [
    "prop_df = @chain minwage_df begin\n",
    "    @rtransform begin\n",
    "        :state = :location == \"PA\" ? \"PA\" : \"NJ\"\n",
    "        :fulltime_ratio_before = :fullBefore / (:fullBefore + :partBefore)\n",
    "        :fulltime_ratio_after = :fullAfter / (:fullAfter + :partAfter)\n",
    "    end\n",
    "    groupby(:state)\n",
    "    @combine begin\n",
    "        :mean_fulltime_ratio_before = mean(:fulltime_ratio_before)\n",
    "        :mean_fulltime_ratio_after = mean(:fulltime_ratio_after)\n",
    "    end\n",
    "    @rtransform :diff_ratio = :mean_fulltime_ratio_after - :mean_fulltime_ratio_before\n",
    "end\n",
    "\n",
    "@rsubset(prop_df, :state == \"NJ\").diff_ratio - @rsubset(prop_df, :state == \"PA\").diff_ratio"
   ]
  },
  {
   "cell_type": "markdown",
   "metadata": {},
   "source": [
    "## 1変数の記述統計量"
   ]
  },
  {
   "cell_type": "code",
   "execution_count": 62,
   "metadata": {},
   "outputs": [
    {
     "name": "stdout",
     "output_type": "stream",
     "text": [
      "[0.07291666666666669]\n"
     ]
    },
    {
     "name": "stdout",
     "output_type": "stream",
     "text": [
      "[0.025000000000000022]\n",
      "[0.037019230769230804]\n"
     ]
    }
   ],
   "source": [
    "prop_df = @chain minwage_df begin\n",
    "    @rtransform begin\n",
    "        :state = :location == \"PA\" ? \"PA\" : \"NJ\"\n",
    "        :fulltime_ratio_before = :fullBefore / (:fullBefore + :partBefore)\n",
    "        :fulltime_ratio_after = :fullAfter / (:fullAfter + :partAfter)\n",
    "    end\n",
    "    groupby(:state)\n",
    "    @combine begin\n",
    "        :median_fulltime_ratio_before = median(:fulltime_ratio_before)\n",
    "        :median_fulltime_ratio_after = median(:fulltime_ratio_after)\n",
    "    end\n",
    "    @rtransform :diff_ratio = :median_fulltime_ratio_after - :median_fulltime_ratio_before\n",
    "end\n",
    "\n",
    "@rsubset(prop_df, :state == \"NJ\").median_fulltime_ratio_after - @rsubset(prop_df, :state == \"PA\").median_fulltime_ratio_after |> println\n",
    "@rsubset(prop_df, :state == \"NJ\").median_fulltime_ratio_after - @rsubset(prop_df, :state == \"NJ\").median_fulltime_ratio_before |> println\n",
    "@rsubset(prop_df, :state == \"NJ\").diff_ratio - @rsubset(prop_df, :state == \"PA\").diff_ratio |> println"
   ]
  },
  {
   "cell_type": "code",
   "execution_count": 68,
   "metadata": {},
   "outputs": [
    {
     "data": {
      "text/html": [
       "<div class=\"data-frame\"><p>11 rows × 13 columns</p><table class=\"data-frame\"><thead><tr><th></th><th>variable</th><th>mean</th><th>std</th><th>min</th><th>q25</th><th>median</th><th>q75</th><th>max</th><th>nunique</th><th>nmissing</th><th>first</th><th>last</th><th>eltype</th></tr><tr><th></th><th title=\"Symbol\">Symbol</th><th title=\"Union{Nothing, Float64}\">Union…</th><th title=\"Union{Nothing, Float64}\">Union…</th><th title=\"Any\">Any</th><th title=\"Union{Nothing, Float64}\">Union…</th><th title=\"Union{Nothing, Float64}\">Union…</th><th title=\"Union{Nothing, Float64}\">Union…</th><th title=\"Any\">Any</th><th title=\"Union{Nothing, Int64}\">Union…</th><th title=\"Int64\">Int64</th><th title=\"Any\">Any</th><th title=\"Any\">Any</th><th title=\"DataType\">DataType</th></tr></thead><tbody><tr><th>1</th><td>chain</td><td></td><td></td><td>burgerking</td><td></td><td></td><td></td><td>wendys</td><td>4</td><td>0</td><td>roys</td><td>wendys</td><td>String15</td></tr><tr><th>2</th><td>location</td><td></td><td></td><td>centralNJ</td><td></td><td></td><td></td><td>southNJ</td><td>4</td><td>0</td><td>centralNJ</td><td>northNJ</td><td>String15</td></tr><tr><th>3</th><td>wageBefore</td><td>4.60997</td><td>0.34349</td><td>4.25</td><td>4.25</td><td>4.5</td><td>4.87</td><td>5.75</td><td></td><td>0</td><td>5.0</td><td>4.62</td><td>Float64</td></tr><tr><th>4</th><td>wageAfter</td><td>5.08148</td><td>0.105642</td><td>5.0</td><td>5.05</td><td>5.05</td><td>5.05</td><td>5.75</td><td></td><td>0</td><td>5.05</td><td>5.14</td><td>Float64</td></tr><tr><th>5</th><td>fullBefore</td><td>7.97079</td><td>7.98857</td><td>0.0</td><td>2.25</td><td>6.0</td><td>11.75</td><td>60.0</td><td></td><td>0</td><td>2.0</td><td>0.0</td><td>Float64</td></tr><tr><th>6</th><td>fullAfter</td><td>8.4055</td><td>7.57518</td><td>0.0</td><td>2.0</td><td>6.0</td><td>12.5</td><td>40.0</td><td></td><td>0</td><td>5.0</td><td>10.0</td><td>Float64</td></tr><tr><th>7</th><td>partBefore</td><td>18.6357</td><td>10.4403</td><td>0.0</td><td>10.0</td><td>16.0</td><td>25.0</td><td>60.0</td><td></td><td>0</td><td>2.0</td><td>33.0</td><td>Float64</td></tr><tr><th>8</th><td>partAfter</td><td>18.39</td><td>10.7214</td><td>0.0</td><td>10.5</td><td>15.0</td><td>25.0</td><td>60.0</td><td></td><td>0</td><td>2.0</td><td>24.0</td><td>Float64</td></tr><tr><th>9</th><td>state</td><td></td><td></td><td>NJ</td><td></td><td></td><td></td><td>NJ</td><td>1</td><td>0</td><td>NJ</td><td>NJ</td><td>String</td></tr><tr><th>10</th><td>fulltime_ratio_before</td><td>0.296526</td><td>0.230459</td><td>0.0</td><td>0.107143</td><td>0.266667</td><td>0.472136</td><td>1.0</td><td></td><td>0</td><td>0.5</td><td>0.0</td><td>Float64</td></tr><tr><th>&vellip;</th><td>&vellip;</td><td>&vellip;</td><td>&vellip;</td><td>&vellip;</td><td>&vellip;</td><td>&vellip;</td><td>&vellip;</td><td>&vellip;</td><td>&vellip;</td><td>&vellip;</td><td>&vellip;</td><td>&vellip;</td><td>&vellip;</td></tr></tbody></table></div>"
      ],
      "text/latex": [
       "\\begin{tabular}{r|ccccccccccccc}\n",
       "\t& variable & mean & std & min & q25 & median & q75 & max & nunique & nmissing & first & last & eltype\\\\\n",
       "\t\\hline\n",
       "\t& Symbol & Union… & Union… & Any & Union… & Union… & Union… & Any & Union… & Int64 & Any & Any & DataType\\\\\n",
       "\t\\hline\n",
       "\t1 & chain &  &  & burgerking &  &  &  & wendys & 4 & 0 & roys & wendys & String15 \\\\\n",
       "\t2 & location &  &  & centralNJ &  &  &  & southNJ & 4 & 0 & centralNJ & northNJ & String15 \\\\\n",
       "\t3 & wageBefore & 4.60997 & 0.34349 & 4.25 & 4.25 & 4.5 & 4.87 & 5.75 &  & 0 & 5.0 & 4.62 & Float64 \\\\\n",
       "\t4 & wageAfter & 5.08148 & 0.105642 & 5.0 & 5.05 & 5.05 & 5.05 & 5.75 &  & 0 & 5.05 & 5.14 & Float64 \\\\\n",
       "\t5 & fullBefore & 7.97079 & 7.98857 & 0.0 & 2.25 & 6.0 & 11.75 & 60.0 &  & 0 & 2.0 & 0.0 & Float64 \\\\\n",
       "\t6 & fullAfter & 8.4055 & 7.57518 & 0.0 & 2.0 & 6.0 & 12.5 & 40.0 &  & 0 & 5.0 & 10.0 & Float64 \\\\\n",
       "\t7 & partBefore & 18.6357 & 10.4403 & 0.0 & 10.0 & 16.0 & 25.0 & 60.0 &  & 0 & 2.0 & 33.0 & Float64 \\\\\n",
       "\t8 & partAfter & 18.39 & 10.7214 & 0.0 & 10.5 & 15.0 & 25.0 & 60.0 &  & 0 & 2.0 & 24.0 & Float64 \\\\\n",
       "\t9 & state &  &  & NJ &  &  &  & NJ & 1 & 0 & NJ & NJ & String \\\\\n",
       "\t10 & fulltime\\_ratio\\_before & 0.296526 & 0.230459 & 0.0 & 0.107143 & 0.266667 & 0.472136 & 1.0 &  & 0 & 0.5 & 0.0 & Float64 \\\\\n",
       "\t$\\dots$ & $\\dots$ & $\\dots$ & $\\dots$ & $\\dots$ & $\\dots$ & $\\dots$ & $\\dots$ & $\\dots$ & $\\dots$ & $\\dots$ & $\\dots$ & $\\dots$ & $\\dots$ \\\\\n",
       "\\end{tabular}\n"
      ],
      "text/plain": [
       "\u001b[1m11×13 DataFrame\u001b[0m\n",
       "\u001b[1m Row \u001b[0m│\u001b[1m variable              \u001b[0m\u001b[1m mean     \u001b[0m\u001b[1m std      \u001b[0m\u001b[1m min        \u001b[0m\u001b[1m q25      \u001b[0m\u001b[1m median   \u001b[0m\u001b[1m q75      \u001b[0m\u001b[1m max     \u001b[0m\u001b[1m nunique \u001b[0m\u001b[1m nmissing \u001b[0m\u001b[1m first     \u001b[0m\u001b[1m last     \u001b[0m\u001b[1m eltype   \u001b[0m\n",
       "\u001b[1m     \u001b[0m│\u001b[90m Symbol                \u001b[0m\u001b[90m Union…   \u001b[0m\u001b[90m Union…   \u001b[0m\u001b[90m Any        \u001b[0m\u001b[90m Union…   \u001b[0m\u001b[90m Union…   \u001b[0m\u001b[90m Union…   \u001b[0m\u001b[90m Any     \u001b[0m\u001b[90m Union…  \u001b[0m\u001b[90m Int64    \u001b[0m\u001b[90m Any       \u001b[0m\u001b[90m Any      \u001b[0m\u001b[90m DataType \u001b[0m\n",
       "─────┼────────────────────────────────────────────────────────────────────────────────────────────────────────────────────────────────────────────────\n",
       "   1 │ chain                 \u001b[90m          \u001b[0m\u001b[90m          \u001b[0m burgerking \u001b[90m          \u001b[0m\u001b[90m          \u001b[0m\u001b[90m          \u001b[0m wendys   4               0  roys       wendys    String15\n",
       "  ⋮  │           ⋮               ⋮         ⋮          ⋮          ⋮         ⋮         ⋮         ⋮        ⋮        ⋮          ⋮         ⋮         ⋮\n",
       "\u001b[36m                                                                                                                                       10 rows omitted\u001b[0m"
      ]
     },
     "metadata": {},
     "output_type": "display_data"
    }
   ],
   "source": [
    "prop_df = @chain minwage_df begin\n",
    "    @rtransform begin\n",
    "        :state = :location == \"PA\" ? \"PA\" : \"NJ\"\n",
    "        :fulltime_ratio_before = :fullBefore / (:fullBefore + :partBefore)\n",
    "        :fulltime_ratio_after = :fullAfter / (:fullAfter + :partAfter)\n",
    "    end\n",
    "    @rsubset(:state == \"NJ\")\n",
    "end\n",
    "describe(prop_df, :all)"
   ]
  },
  {
   "cell_type": "code",
   "execution_count": 72,
   "metadata": {},
   "outputs": [
    {
     "data": {
      "text/plain": [
       "0.6200000000000001"
      ]
     },
     "metadata": {},
     "output_type": "display_data"
    }
   ],
   "source": [
    "iqr(prop_df.wageBefore)"
   ]
  },
  {
   "cell_type": "code",
   "execution_count": 73,
   "metadata": {},
   "outputs": [
    {
     "data": {
      "text/plain": [
       "0.0"
      ]
     },
     "metadata": {},
     "output_type": "display_data"
    }
   ],
   "source": [
    "iqr(prop_df.wageAfter)"
   ]
  },
  {
   "cell_type": "code",
   "execution_count": 81,
   "metadata": {},
   "outputs": [
    {
     "data": {
      "text/plain": [
       "11-element Vector{Float64}:\n",
       " 4.25\n",
       " 4.25\n",
       " 4.25\n",
       " ⋮\n",
       " 5.0\n",
       " 5.75"
      ]
     },
     "metadata": {},
     "output_type": "display_data"
    }
   ],
   "source": [
    "quantile(prop_df.wageBefore, range(0, 1, step=0.1))"
   ]
  },
  {
   "cell_type": "code",
   "execution_count": 82,
   "metadata": {},
   "outputs": [
    {
     "data": {
      "text/plain": [
       "11-element Vector{Float64}:\n",
       " 5.0\n",
       " 5.05\n",
       " 5.05\n",
       " ⋮\n",
       " 5.150000000000003\n",
       " 5.75"
      ]
     },
     "metadata": {},
     "output_type": "display_data"
    }
   ],
   "source": [
    "quantile(prop_df.wageAfter, range(0, 1, step=0.1))"
   ]
  },
  {
   "cell_type": "code",
   "execution_count": 90,
   "metadata": {},
   "outputs": [
    {
     "data": {
      "text/plain": [
       "0.3014668578470611"
      ]
     },
     "metadata": {},
     "output_type": "display_data"
    }
   ],
   "source": [
    "sqrt(mean((prop_df.fulltime_ratio_after .- prop_df.fulltime_ratio_before) .^ 2))"
   ]
  },
  {
   "cell_type": "code",
   "execution_count": 92,
   "metadata": {},
   "outputs": [
    {
     "data": {
      "text/plain": [
       "0.02387474021313988"
      ]
     },
     "metadata": {},
     "output_type": "display_data"
    }
   ],
   "source": [
    "mean(prop_df.fulltime_ratio_after .- prop_df.fulltime_ratio_before)"
   ]
  },
  {
   "cell_type": "code",
   "execution_count": 93,
   "metadata": {},
   "outputs": [
    {
     "data": {
      "text/plain": [
       "0.23045922465419544"
      ]
     },
     "metadata": {},
     "output_type": "display_data"
    }
   ],
   "source": [
    "std(prop_df.fulltime_ratio_before)"
   ]
  },
  {
   "cell_type": "code",
   "execution_count": 94,
   "metadata": {},
   "outputs": [
    {
     "data": {
      "text/plain": [
       "0.25100159189283716"
      ]
     },
     "metadata": {},
     "output_type": "display_data"
    }
   ],
   "source": [
    "std(prop_df.fulltime_ratio_after)"
   ]
  },
  {
   "cell_type": "code",
   "execution_count": 95,
   "metadata": {},
   "outputs": [
    {
     "data": {
      "text/plain": [
       "0.053111454228212916"
      ]
     },
     "metadata": {},
     "output_type": "display_data"
    }
   ],
   "source": [
    "var(prop_df.fulltime_ratio_before)"
   ]
  },
  {
   "cell_type": "code",
   "execution_count": 96,
   "metadata": {},
   "outputs": [
    {
     "data": {
      "text/plain": [
       "0.06300179913273839"
      ]
     },
     "metadata": {},
     "output_type": "display_data"
    }
   ],
   "source": [
    "var(prop_df.fulltime_ratio_after)"
   ]
  },
  {
   "cell_type": "code",
   "execution_count": null,
   "metadata": {},
   "outputs": [],
   "source": []
  }
 ],
 "metadata": {
  "kernelspec": {
   "display_name": "Julia 1.8.1",
   "language": "julia",
   "name": "julia-1.8"
  },
  "language_info": {
   "file_extension": ".jl",
   "mimetype": "application/julia",
   "name": "julia",
   "version": "1.8.1"
  },
  "orig_nbformat": 4
 },
 "nbformat": 4,
 "nbformat_minor": 2
}
