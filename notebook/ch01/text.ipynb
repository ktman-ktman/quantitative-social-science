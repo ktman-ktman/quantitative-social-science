{
 "cells": [
  {
   "cell_type": "markdown",
   "metadata": {},
   "source": [
    "# 第1章 イントロダクション"
   ]
  },
  {
   "cell_type": "code",
   "execution_count": 1,
   "metadata": {},
   "outputs": [
    {
     "data": {
      "text/plain": [
       "100"
      ]
     },
     "metadata": {},
     "output_type": "display_data"
    }
   ],
   "source": [
    "ENV[\"LINES\"] = 10\n",
    "ENV[\"COLUMNS\"] = 100"
   ]
  },
  {
   "cell_type": "code",
   "execution_count": 56,
   "metadata": {},
   "outputs": [],
   "source": [
    "using DataFrames, Statistics"
   ]
  },
  {
   "cell_type": "code",
   "execution_count": 25,
   "metadata": {},
   "outputs": [
    {
     "data": {
      "text/plain": [
       "2-element Vector{Int64}:\n",
       " 20\n",
       " 22"
      ]
     },
     "metadata": {},
     "output_type": "display_data"
    }
   ],
   "source": [
    "# 1.3.3\n",
    "world_pop = [2525779, 3026003, 3691173, 4449049, 5320817, 6127700, 6916183]\n",
    "world_pop_million = world_pop / 1000\n",
    "world_pop_rate = world_pop / world_pop[1]\n",
    "world_pop_increase = (world_pop[begin+1:end] - world_pop[begin:end-1]) ./ world_pop[begin:end-1] * 100\n",
    "world_pop_increase[1:2] = [20, 22]"
   ]
  },
  {
   "cell_type": "code",
   "execution_count": 36,
   "metadata": {},
   "outputs": [
    {
     "data": {
      "text/plain": [
       "(sum = 55, lenght = 10, mean = 5.5)"
      ]
     },
     "metadata": {},
     "output_type": "display_data"
    }
   ],
   "source": [
    "# 1.3.4\n",
    "year = collect(range(1950, 2010, step = 10))\n",
    "df = DataFrame(\n",
    "    :year => year,\n",
    "    :pop => world_pop,\n",
    ")\n",
    "\n",
    "function my_summary(x)\n",
    "    s = sum(x)\n",
    "    l = length(x)\n",
    "    m = s / l\n",
    "    return (sum=s, lenght=l, mean=m)\n",
    "    # return (:sum=>s, :lenght=>l, :mean=>m)\n",
    "end\n",
    "\n",
    "my_summary(1:10)"
   ]
  },
  {
   "cell_type": "code",
   "execution_count": 58,
   "metadata": {},
   "outputs": [
    {
     "data": {
      "text/plain": [
       "4.579529142857143e6"
      ]
     },
     "metadata": {},
     "output_type": "display_data"
    }
   ],
   "source": [
    "# 1.3.5\n",
    "names(df)\n",
    "nrow(df)\n",
    "ncol(df)\n",
    "size(df)\n",
    "describe(df)\n",
    "\n",
    "world_pop = vcat(df.pop, missing)\n",
    "mean(world_pop)\n",
    "mean(skipmissing(world_pop))"
   ]
  },
  {
   "cell_type": "code",
   "execution_count": null,
   "metadata": {},
   "outputs": [],
   "source": []
  }
 ],
 "metadata": {
  "kernelspec": {
   "display_name": "Julia 1.8.1",
   "language": "julia",
   "name": "julia-1.8"
  },
  "language_info": {
   "file_extension": ".jl",
   "mimetype": "application/julia",
   "name": "julia",
   "version": "1.8.1"
  },
  "orig_nbformat": 4
 },
 "nbformat": 4,
 "nbformat_minor": 2
}
