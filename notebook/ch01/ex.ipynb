{
 "cells": [
  {
   "cell_type": "markdown",
   "metadata": {},
   "source": [
    "# 1.5 練習問題"
   ]
  },
  {
   "cell_type": "code",
   "execution_count": 1,
   "metadata": {},
   "outputs": [
    {
     "data": {
      "text/plain": [
       "1000"
      ]
     },
     "metadata": {},
     "output_type": "display_data"
    }
   ],
   "source": [
    "ENV[\"LINES\"] = 10\n",
    "ENV[\"COLUMNS\"] = 1000"
   ]
  },
  {
   "cell_type": "code",
   "execution_count": 38,
   "metadata": {},
   "outputs": [],
   "source": [
    "using DataFrames, DataFramesMeta, CSV, Statistics"
   ]
  },
  {
   "cell_type": "markdown",
   "metadata": {},
   "source": [
    "## 1.5.1"
   ]
  },
  {
   "cell_type": "code",
   "execution_count": 31,
   "metadata": {},
   "outputs": [
    {
     "data": {
      "text/html": [
       "<div class=\"data-frame\"><p>14 rows × 9 columns</p><table class=\"data-frame\"><thead><tr><th></th><th>year</th><th>VEP</th><th>VAP</th><th>total</th><th>ANES</th><th>felons</th><th>noncit</th><th>overseas</th><th>osvoters</th></tr><tr><th></th><th title=\"Int64\">Int64</th><th title=\"Int64\">Int64</th><th title=\"Int64\">Int64</th><th title=\"Int64\">Int64</th><th title=\"Int64\">Int64</th><th title=\"Int64\">Int64</th><th title=\"Int64\">Int64</th><th title=\"Int64\">Int64</th><th title=\"Union{Missing, Int64}\">Int64?</th></tr></thead><tbody><tr><th>1</th><td>1980</td><td>159635</td><td>164445</td><td>86515</td><td>71</td><td>802</td><td>5756</td><td>1803</td><td><em>missing</em></td></tr><tr><th>2</th><td>1982</td><td>160467</td><td>166028</td><td>67616</td><td>60</td><td>960</td><td>6641</td><td>1982</td><td><em>missing</em></td></tr><tr><th>3</th><td>1984</td><td>167702</td><td>173995</td><td>92653</td><td>74</td><td>1165</td><td>7482</td><td>2361</td><td><em>missing</em></td></tr><tr><th>4</th><td>1986</td><td>170396</td><td>177922</td><td>64991</td><td>53</td><td>1367</td><td>8362</td><td>2216</td><td><em>missing</em></td></tr><tr><th>5</th><td>1988</td><td>173579</td><td>181955</td><td>91595</td><td>70</td><td>1594</td><td>9280</td><td>2257</td><td><em>missing</em></td></tr><tr><th>6</th><td>1990</td><td>176629</td><td>186159</td><td>67859</td><td>47</td><td>1901</td><td>10239</td><td>2659</td><td><em>missing</em></td></tr><tr><th>7</th><td>1992</td><td>179656</td><td>190778</td><td>104405</td><td>75</td><td>2183</td><td>11447</td><td>2418</td><td><em>missing</em></td></tr><tr><th>8</th><td>1994</td><td>182623</td><td>195258</td><td>75106</td><td>56</td><td>2441</td><td>12497</td><td>2229</td><td><em>missing</em></td></tr><tr><th>9</th><td>1996</td><td>186347</td><td>200016</td><td>96263</td><td>73</td><td>2586</td><td>13601</td><td>2499</td><td><em>missing</em></td></tr><tr><th>10</th><td>1998</td><td>190420</td><td>205313</td><td>72537</td><td>52</td><td>2920</td><td>14988</td><td>2937</td><td><em>missing</em></td></tr><tr><th>&vellip;</th><td>&vellip;</td><td>&vellip;</td><td>&vellip;</td><td>&vellip;</td><td>&vellip;</td><td>&vellip;</td><td>&vellip;</td><td>&vellip;</td><td>&vellip;</td></tr></tbody></table></div>"
      ],
      "text/latex": [
       "\\begin{tabular}{r|ccccccccc}\n",
       "\t& year & VEP & VAP & total & ANES & felons & noncit & overseas & osvoters\\\\\n",
       "\t\\hline\n",
       "\t& Int64 & Int64 & Int64 & Int64 & Int64 & Int64 & Int64 & Int64 & Int64?\\\\\n",
       "\t\\hline\n",
       "\t1 & 1980 & 159635 & 164445 & 86515 & 71 & 802 & 5756 & 1803 & \\emph{missing} \\\\\n",
       "\t2 & 1982 & 160467 & 166028 & 67616 & 60 & 960 & 6641 & 1982 & \\emph{missing} \\\\\n",
       "\t3 & 1984 & 167702 & 173995 & 92653 & 74 & 1165 & 7482 & 2361 & \\emph{missing} \\\\\n",
       "\t4 & 1986 & 170396 & 177922 & 64991 & 53 & 1367 & 8362 & 2216 & \\emph{missing} \\\\\n",
       "\t5 & 1988 & 173579 & 181955 & 91595 & 70 & 1594 & 9280 & 2257 & \\emph{missing} \\\\\n",
       "\t6 & 1990 & 176629 & 186159 & 67859 & 47 & 1901 & 10239 & 2659 & \\emph{missing} \\\\\n",
       "\t7 & 1992 & 179656 & 190778 & 104405 & 75 & 2183 & 11447 & 2418 & \\emph{missing} \\\\\n",
       "\t8 & 1994 & 182623 & 195258 & 75106 & 56 & 2441 & 12497 & 2229 & \\emph{missing} \\\\\n",
       "\t9 & 1996 & 186347 & 200016 & 96263 & 73 & 2586 & 13601 & 2499 & \\emph{missing} \\\\\n",
       "\t10 & 1998 & 190420 & 205313 & 72537 & 52 & 2920 & 14988 & 2937 & \\emph{missing} \\\\\n",
       "\t$\\dots$ & $\\dots$ & $\\dots$ & $\\dots$ & $\\dots$ & $\\dots$ & $\\dots$ & $\\dots$ & $\\dots$ & $\\dots$ \\\\\n",
       "\\end{tabular}\n"
      ],
      "text/plain": [
       "\u001b[1m14×9 DataFrame\u001b[0m\n",
       "\u001b[1m Row \u001b[0m│\u001b[1m year  \u001b[0m\u001b[1m VEP    \u001b[0m\u001b[1m VAP    \u001b[0m\u001b[1m total  \u001b[0m\u001b[1m ANES  \u001b[0m\u001b[1m felons \u001b[0m\u001b[1m noncit \u001b[0m\u001b[1m overseas \u001b[0m\u001b[1m osvoters \u001b[0m\n",
       "\u001b[1m     \u001b[0m│\u001b[90m Int64 \u001b[0m\u001b[90m Int64  \u001b[0m\u001b[90m Int64  \u001b[0m\u001b[90m Int64  \u001b[0m\u001b[90m Int64 \u001b[0m\u001b[90m Int64  \u001b[0m\u001b[90m Int64  \u001b[0m\u001b[90m Int64    \u001b[0m\u001b[90m Int64?   \u001b[0m\n",
       "─────┼──────────────────────────────────────────────────────────────────────────\n",
       "   1 │  1980  159635  164445   86515     71     802    5756      1803 \u001b[90m  missing \u001b[0m\n",
       "  ⋮  │   ⋮      ⋮       ⋮       ⋮       ⋮      ⋮       ⋮        ⋮         ⋮\n",
       "\u001b[36m                                                                 13 rows omitted\u001b[0m"
      ]
     },
     "metadata": {},
     "output_type": "display_data"
    }
   ],
   "source": [
    "turnout_df = CSV.read(\"../../data/INTRO/bias-in-turnout/data/turnout.csv\", DataFrame, missingstring=[\"NA\"])"
   ]
  },
  {
   "cell_type": "code",
   "execution_count": 32,
   "metadata": {},
   "outputs": [
    {
     "data": {
      "text/html": [
       "<div class=\"data-frame\"><p>9 rows × 7 columns</p><table class=\"data-frame\"><thead><tr><th></th><th>variable</th><th>mean</th><th>min</th><th>median</th><th>max</th><th>nmissing</th><th>eltype</th></tr><tr><th></th><th title=\"Symbol\">Symbol</th><th title=\"Float64\">Float64</th><th title=\"Int64\">Int64</th><th title=\"Float64\">Float64</th><th title=\"Int64\">Int64</th><th title=\"Int64\">Int64</th><th title=\"Type\">Type</th></tr></thead><tbody><tr><th>1</th><td>year</td><td>1993.14</td><td>1980</td><td>1993.0</td><td>2008</td><td>0</td><td>Int64</td></tr><tr><th>2</th><td>VEP</td><td>1.8264e5</td><td>159635</td><td>1.8114e5</td><td>213314</td><td>0</td><td>Int64</td></tr><tr><th>3</th><td>VAP</td><td>1.94226e5</td><td>164445</td><td>193018.0</td><td>230872</td><td>0</td><td>Int64</td></tr><tr><th>4</th><td>total</td><td>89778.3</td><td>64991</td><td>89055.0</td><td>131304</td><td>0</td><td>Int64</td></tr><tr><th>5</th><td>ANES</td><td>65.7857</td><td>47</td><td>70.5</td><td>78</td><td>0</td><td>Int64</td></tr><tr><th>6</th><td>felons</td><td>2176.64</td><td>802</td><td>2312.0</td><td>3168</td><td>0</td><td>Int64</td></tr><tr><th>7</th><td>noncit</td><td>12229.1</td><td>5756</td><td>11972.0</td><td>19392</td><td>0</td><td>Int64</td></tr><tr><th>8</th><td>overseas</td><td>2745.71</td><td>1803</td><td>2458.5</td><td>4972</td><td>0</td><td>Int64</td></tr><tr><th>9</th><td>osvoters</td><td>263.0</td><td>263</td><td>263.0</td><td>263</td><td>13</td><td>Union{Missing, Int64}</td></tr></tbody></table></div>"
      ],
      "text/latex": [
       "\\begin{tabular}{r|ccccccc}\n",
       "\t& variable & mean & min & median & max & nmissing & eltype\\\\\n",
       "\t\\hline\n",
       "\t& Symbol & Float64 & Int64 & Float64 & Int64 & Int64 & Type\\\\\n",
       "\t\\hline\n",
       "\t1 & year & 1993.14 & 1980 & 1993.0 & 2008 & 0 & Int64 \\\\\n",
       "\t2 & VEP & 1.8264e5 & 159635 & 1.8114e5 & 213314 & 0 & Int64 \\\\\n",
       "\t3 & VAP & 1.94226e5 & 164445 & 193018.0 & 230872 & 0 & Int64 \\\\\n",
       "\t4 & total & 89778.3 & 64991 & 89055.0 & 131304 & 0 & Int64 \\\\\n",
       "\t5 & ANES & 65.7857 & 47 & 70.5 & 78 & 0 & Int64 \\\\\n",
       "\t6 & felons & 2176.64 & 802 & 2312.0 & 3168 & 0 & Int64 \\\\\n",
       "\t7 & noncit & 12229.1 & 5756 & 11972.0 & 19392 & 0 & Int64 \\\\\n",
       "\t8 & overseas & 2745.71 & 1803 & 2458.5 & 4972 & 0 & Int64 \\\\\n",
       "\t9 & osvoters & 263.0 & 263 & 263.0 & 263 & 13 & Union\\{Missing, Int64\\} \\\\\n",
       "\\end{tabular}\n"
      ],
      "text/plain": [
       "\u001b[1m9×7 DataFrame\u001b[0m\n",
       "\u001b[1m Row \u001b[0m│\u001b[1m variable \u001b[0m\u001b[1m mean          \u001b[0m\u001b[1m min    \u001b[0m\u001b[1m median        \u001b[0m\u001b[1m max    \u001b[0m\u001b[1m nmissing \u001b[0m\u001b[1m eltype                \u001b[0m\n",
       "\u001b[1m     \u001b[0m│\u001b[90m Symbol   \u001b[0m\u001b[90m Float64       \u001b[0m\u001b[90m Int64  \u001b[0m\u001b[90m Float64       \u001b[0m\u001b[90m Int64  \u001b[0m\u001b[90m Int64    \u001b[0m\u001b[90m Type                  \u001b[0m\n",
       "─────┼─────────────────────────────────────────────────────────────────────────────────────────\n",
       "   1 │ year       1993.14         1980    1993.0         2008         0  Int64\n",
       "  ⋮  │    ⋮            ⋮          ⋮           ⋮          ⋮        ⋮                ⋮\n",
       "\u001b[36m                                                                                 8 rows omitted\u001b[0m"
      ]
     },
     "metadata": {},
     "output_type": "display_data"
    }
   ],
   "source": [
    "describe(turnout_df)"
   ]
  },
  {
   "cell_type": "code",
   "execution_count": 33,
   "metadata": {},
   "outputs": [
    {
     "data": {
      "text/html": [
       "<div class=\"data-frame\"><p>14 rows × 11 columns</p><table class=\"data-frame\"><thead><tr><th></th><th>year</th><th>VEP</th><th>VAP</th><th>total</th><th>ANES</th><th>felons</th><th>noncit</th><th>overseas</th><th>osvoters</th><th>est_vote_VAP</th><th>est_vote_VEP</th></tr><tr><th></th><th title=\"Int64\">Int64</th><th title=\"Int64\">Int64</th><th title=\"Int64\">Int64</th><th title=\"Int64\">Int64</th><th title=\"Int64\">Int64</th><th title=\"Int64\">Int64</th><th title=\"Int64\">Int64</th><th title=\"Int64\">Int64</th><th title=\"Union{Missing, Int64}\">Int64?</th><th title=\"Float64\">Float64</th><th title=\"Float64\">Float64</th></tr></thead><tbody><tr><th>1</th><td>1980</td><td>159635</td><td>164445</td><td>86515</td><td>71</td><td>802</td><td>5756</td><td>1803</td><td><em>missing</em></td><td>54.1768</td><td>54.1955</td></tr><tr><th>2</th><td>1982</td><td>160467</td><td>166028</td><td>67616</td><td>60</td><td>960</td><td>6641</td><td>1982</td><td><em>missing</em></td><td>42.1522</td><td>42.137</td></tr><tr><th>3</th><td>1984</td><td>167702</td><td>173995</td><td>92653</td><td>74</td><td>1165</td><td>7482</td><td>2361</td><td><em>missing</em></td><td>55.2463</td><td>55.2486</td></tr><tr><th>4</th><td>1986</td><td>170396</td><td>177922</td><td>64991</td><td>53</td><td>1367</td><td>8362</td><td>2216</td><td><em>missing</em></td><td>38.1382</td><td>38.1412</td></tr><tr><th>5</th><td>1988</td><td>173579</td><td>181955</td><td>91595</td><td>70</td><td>1594</td><td>9280</td><td>2257</td><td><em>missing</em></td><td>52.8418</td><td>52.7685</td></tr><tr><th>6</th><td>1990</td><td>176629</td><td>186159</td><td>67859</td><td>47</td><td>1901</td><td>10239</td><td>2659</td><td><em>missing</em></td><td>38.4083</td><td>38.4189</td></tr><tr><th>7</th><td>1992</td><td>179656</td><td>190778</td><td>104405</td><td>75</td><td>2183</td><td>11447</td><td>2418</td><td><em>missing</em></td><td>58.143</td><td>58.1138</td></tr><tr><th>8</th><td>1994</td><td>182623</td><td>195258</td><td>75106</td><td>56</td><td>2441</td><td>12497</td><td>2229</td><td><em>missing</em></td><td>41.1429</td><td>41.1263</td></tr><tr><th>9</th><td>1996</td><td>186347</td><td>200016</td><td>96263</td><td>73</td><td>2586</td><td>13601</td><td>2499</td><td><em>missing</em></td><td>51.6632</td><td>51.6579</td></tr><tr><th>10</th><td>1998</td><td>190420</td><td>205313</td><td>72537</td><td>52</td><td>2920</td><td>14988</td><td>2937</td><td><em>missing</em></td><td>38.1088</td><td>38.0932</td></tr><tr><th>&vellip;</th><td>&vellip;</td><td>&vellip;</td><td>&vellip;</td><td>&vellip;</td><td>&vellip;</td><td>&vellip;</td><td>&vellip;</td><td>&vellip;</td><td>&vellip;</td><td>&vellip;</td><td>&vellip;</td></tr></tbody></table></div>"
      ],
      "text/latex": [
       "\\begin{tabular}{r|ccccccccccc}\n",
       "\t& year & VEP & VAP & total & ANES & felons & noncit & overseas & osvoters & est\\_vote\\_VAP & est\\_vote\\_VEP\\\\\n",
       "\t\\hline\n",
       "\t& Int64 & Int64 & Int64 & Int64 & Int64 & Int64 & Int64 & Int64 & Int64? & Float64 & Float64\\\\\n",
       "\t\\hline\n",
       "\t1 & 1980 & 159635 & 164445 & 86515 & 71 & 802 & 5756 & 1803 & \\emph{missing} & 54.1768 & 54.1955 \\\\\n",
       "\t2 & 1982 & 160467 & 166028 & 67616 & 60 & 960 & 6641 & 1982 & \\emph{missing} & 42.1522 & 42.137 \\\\\n",
       "\t3 & 1984 & 167702 & 173995 & 92653 & 74 & 1165 & 7482 & 2361 & \\emph{missing} & 55.2463 & 55.2486 \\\\\n",
       "\t4 & 1986 & 170396 & 177922 & 64991 & 53 & 1367 & 8362 & 2216 & \\emph{missing} & 38.1382 & 38.1412 \\\\\n",
       "\t5 & 1988 & 173579 & 181955 & 91595 & 70 & 1594 & 9280 & 2257 & \\emph{missing} & 52.8418 & 52.7685 \\\\\n",
       "\t6 & 1990 & 176629 & 186159 & 67859 & 47 & 1901 & 10239 & 2659 & \\emph{missing} & 38.4083 & 38.4189 \\\\\n",
       "\t7 & 1992 & 179656 & 190778 & 104405 & 75 & 2183 & 11447 & 2418 & \\emph{missing} & 58.143 & 58.1138 \\\\\n",
       "\t8 & 1994 & 182623 & 195258 & 75106 & 56 & 2441 & 12497 & 2229 & \\emph{missing} & 41.1429 & 41.1263 \\\\\n",
       "\t9 & 1996 & 186347 & 200016 & 96263 & 73 & 2586 & 13601 & 2499 & \\emph{missing} & 51.6632 & 51.6579 \\\\\n",
       "\t10 & 1998 & 190420 & 205313 & 72537 & 52 & 2920 & 14988 & 2937 & \\emph{missing} & 38.1088 & 38.0932 \\\\\n",
       "\t$\\dots$ & $\\dots$ & $\\dots$ & $\\dots$ & $\\dots$ & $\\dots$ & $\\dots$ & $\\dots$ & $\\dots$ & $\\dots$ & $\\dots$ & $\\dots$ \\\\\n",
       "\\end{tabular}\n"
      ],
      "text/plain": [
       "\u001b[1m14×11 DataFrame\u001b[0m\n",
       "\u001b[1m Row \u001b[0m│\u001b[1m year  \u001b[0m\u001b[1m VEP    \u001b[0m\u001b[1m VAP    \u001b[0m\u001b[1m total  \u001b[0m\u001b[1m ANES  \u001b[0m\u001b[1m felons \u001b[0m\u001b[1m noncit \u001b[0m\u001b[1m overseas \u001b[0m\u001b[1m osvoters \u001b[0m\u001b[1m est_vote_VAP \u001b[0m\u001b[1m est_vote_VEP \u001b[0m\n",
       "\u001b[1m     \u001b[0m│\u001b[90m Int64 \u001b[0m\u001b[90m Int64  \u001b[0m\u001b[90m Int64  \u001b[0m\u001b[90m Int64  \u001b[0m\u001b[90m Int64 \u001b[0m\u001b[90m Int64  \u001b[0m\u001b[90m Int64  \u001b[0m\u001b[90m Int64    \u001b[0m\u001b[90m Int64?   \u001b[0m\u001b[90m Float64      \u001b[0m\u001b[90m Float64      \u001b[0m\n",
       "─────┼──────────────────────────────────────────────────────────────────────────────────────────────────────\n",
       "   1 │  1980  159635  164445   86515     71     802    5756      1803 \u001b[90m  missing \u001b[0m      54.1768       54.1955\n",
       "  ⋮  │   ⋮      ⋮       ⋮       ⋮       ⋮      ⋮       ⋮        ⋮         ⋮           ⋮             ⋮\n",
       "\u001b[36m                                                                                             13 rows omitted\u001b[0m"
      ]
     },
     "metadata": {},
     "output_type": "display_data"
    }
   ],
   "source": [
    "turnout_df = @chain turnout_df begin\n",
    "    @rtransform begin\n",
    "        @astable begin\n",
    "            :est_vote_VAP = :total / (:VAP + :overseas - :felons - :noncit) * 100\n",
    "            :est_vote_VEP = :total / :VEP * 100\n",
    "        end\n",
    "    end\n",
    "end"
   ]
  },
  {
   "cell_type": "code",
   "execution_count": 34,
   "metadata": {},
   "outputs": [
    {
     "data": {
      "text/html": [
       "<div class=\"data-frame\"><p>2 rows × 7 columns</p><table class=\"data-frame\"><thead><tr><th></th><th>variable</th><th>mean</th><th>min</th><th>median</th><th>max</th><th>nmissing</th><th>eltype</th></tr><tr><th></th><th title=\"Symbol\">Symbol</th><th title=\"Float64\">Float64</th><th title=\"Float64\">Float64</th><th title=\"Float64\">Float64</th><th title=\"Float64\">Float64</th><th title=\"Int64\">Int64</th><th title=\"DataType\">DataType</th></tr></thead><tbody><tr><th>1</th><td>diff_vote_VAP</td><td>-16.8151</td><td>-22.486</td><td>-16.8401</td><td>-8.59171</td><td>0</td><td>Float64</td></tr><tr><th>2</th><td>diff_vote_VEP</td><td>-16.8363</td><td>-22.4894</td><td>-16.8927</td><td>-8.58105</td><td>0</td><td>Float64</td></tr></tbody></table></div>"
      ],
      "text/latex": [
       "\\begin{tabular}{r|ccccccc}\n",
       "\t& variable & mean & min & median & max & nmissing & eltype\\\\\n",
       "\t\\hline\n",
       "\t& Symbol & Float64 & Float64 & Float64 & Float64 & Int64 & DataType\\\\\n",
       "\t\\hline\n",
       "\t1 & diff\\_vote\\_VAP & -16.8151 & -22.486 & -16.8401 & -8.59171 & 0 & Float64 \\\\\n",
       "\t2 & diff\\_vote\\_VEP & -16.8363 & -22.4894 & -16.8927 & -8.58105 & 0 & Float64 \\\\\n",
       "\\end{tabular}\n"
      ],
      "text/plain": [
       "\u001b[1m2×7 DataFrame\u001b[0m\n",
       "\u001b[1m Row \u001b[0m│\u001b[1m variable      \u001b[0m\u001b[1m mean     \u001b[0m\u001b[1m min      \u001b[0m\u001b[1m median   \u001b[0m\u001b[1m max      \u001b[0m\u001b[1m nmissing \u001b[0m\u001b[1m eltype   \u001b[0m\n",
       "\u001b[1m     \u001b[0m│\u001b[90m Symbol        \u001b[0m\u001b[90m Float64  \u001b[0m\u001b[90m Float64  \u001b[0m\u001b[90m Float64  \u001b[0m\u001b[90m Float64  \u001b[0m\u001b[90m Int64    \u001b[0m\u001b[90m DataType \u001b[0m\n",
       "─────┼───────────────────────────────────────────────────────────────────────────\n",
       "   1 │ diff_vote_VAP  -16.8151  -22.486   -16.8401  -8.59171         0  Float64\n",
       "   2 │ diff_vote_VEP  -16.8363  -22.4894  -16.8927  -8.58105         0  Float64"
      ]
     },
     "metadata": {},
     "output_type": "display_data"
    }
   ],
   "source": [
    "@chain turnout_df begin\n",
    "    @rtransform begin\n",
    "        :diff_vote_VAP = :est_vote_VAP - :ANES\n",
    "        :diff_vote_VEP = :est_vote_VEP - :ANES\n",
    "    end\n",
    "    @select(:diff_vote_VAP, :diff_vote_VEP)\n",
    "    describe\n",
    "end"
   ]
  },
  {
   "cell_type": "code",
   "execution_count": 68,
   "metadata": {},
   "outputs": [
    {
     "data": {
      "text/html": [
       "<div class=\"data-frame\"><p>2 rows × 3 columns</p><table class=\"data-frame\"><thead><tr><th></th><th>is_president_voting</th><th>mean_diff_vote_VAP</th><th>mean_diff_vote_VEP</th></tr><tr><th></th><th title=\"Int64\">Int64</th><th title=\"Float64\">Float64</th><th title=\"Float64\">Float64</th></tr></thead><tbody><tr><th>1</th><td>0</td><td>-15.4226</td><td>-15.4288</td></tr><tr><th>2</th><td>1</td><td>-17.8595</td><td>-17.892</td></tr></tbody></table></div>"
      ],
      "text/latex": [
       "\\begin{tabular}{r|ccc}\n",
       "\t& is\\_president\\_voting & mean\\_diff\\_vote\\_VAP & mean\\_diff\\_vote\\_VEP\\\\\n",
       "\t\\hline\n",
       "\t& Int64 & Float64 & Float64\\\\\n",
       "\t\\hline\n",
       "\t1 & 0 & -15.4226 & -15.4288 \\\\\n",
       "\t2 & 1 & -17.8595 & -17.892 \\\\\n",
       "\\end{tabular}\n"
      ],
      "text/plain": [
       "\u001b[1m2×3 DataFrame\u001b[0m\n",
       "\u001b[1m Row \u001b[0m│\u001b[1m is_president_voting \u001b[0m\u001b[1m mean_diff_vote_VAP \u001b[0m\u001b[1m mean_diff_vote_VEP \u001b[0m\n",
       "\u001b[1m     \u001b[0m│\u001b[90m Int64               \u001b[0m\u001b[90m Float64            \u001b[0m\u001b[90m Float64            \u001b[0m\n",
       "─────┼─────────────────────────────────────────────────────────────\n",
       "   1 │                   0            -15.4226            -15.4288\n",
       "   2 │                   1            -17.8595            -17.892"
      ]
     },
     "metadata": {},
     "output_type": "display_data"
    }
   ],
   "source": [
    "@chain turnout_df begin\n",
    "    @rtransform begin\n",
    "        :diff_vote_VAP = :est_vote_VAP - :ANES\n",
    "        :diff_vote_VEP = :est_vote_VEP - :ANES\n",
    "        :is_president_voting = rem(:year, 4) == 0 ? 1 : 0\n",
    "    end\n",
    "    @select(:is_president_voting, :diff_vote_VAP, :diff_vote_VEP)\n",
    "    groupby(:is_president_voting)\n",
    "    @combine begin\n",
    "        :mean_diff_vote_VAP = mean(:diff_vote_VAP)\n",
    "        :mean_diff_vote_VEP = mean(:diff_vote_VEP)\n",
    "    end\n",
    "end"
   ]
  },
  {
   "cell_type": "code",
   "execution_count": 65,
   "metadata": {},
   "outputs": [
    {
     "data": {
      "text/html": [
       "<div class=\"data-frame\"><p>2 rows × 3 columns</p><table class=\"data-frame\"><thead><tr><th></th><th>is_first</th><th>mean_diff_vote_VAP</th><th>mean_diff_vote_VEP</th></tr><tr><th></th><th title=\"Int64\">Int64</th><th title=\"Float64\">Float64</th><th title=\"Float64\">Float64</th></tr></thead><tbody><tr><th>1</th><td>0</td><td>-17.7883</td><td>-17.8189</td></tr><tr><th>2</th><td>1</td><td>-15.8419</td><td>-15.8538</td></tr></tbody></table></div>"
      ],
      "text/latex": [
       "\\begin{tabular}{r|ccc}\n",
       "\t& is\\_first & mean\\_diff\\_vote\\_VAP & mean\\_diff\\_vote\\_VEP\\\\\n",
       "\t\\hline\n",
       "\t& Int64 & Float64 & Float64\\\\\n",
       "\t\\hline\n",
       "\t1 & 0 & -17.7883 & -17.8189 \\\\\n",
       "\t2 & 1 & -15.8419 & -15.8538 \\\\\n",
       "\\end{tabular}\n"
      ],
      "text/plain": [
       "\u001b[1m2×3 DataFrame\u001b[0m\n",
       "\u001b[1m Row \u001b[0m│\u001b[1m is_first \u001b[0m\u001b[1m mean_diff_vote_VAP \u001b[0m\u001b[1m mean_diff_vote_VEP \u001b[0m\n",
       "\u001b[1m     \u001b[0m│\u001b[90m Int64    \u001b[0m\u001b[90m Float64            \u001b[0m\u001b[90m Float64            \u001b[0m\n",
       "─────┼──────────────────────────────────────────────────\n",
       "   1 │        0            -17.7883            -17.8189\n",
       "   2 │        1            -15.8419            -15.8538"
      ]
     },
     "metadata": {},
     "output_type": "display_data"
    }
   ],
   "source": [
    "@chain turnout_df begin\n",
    "    @rtransform begin\n",
    "        :diff_vote_VAP = :est_vote_VAP - :ANES\n",
    "        :diff_vote_VEP = :est_vote_VEP - :ANES\n",
    "    end\n",
    "    @transform begin\n",
    "        :is_first = ifelse.(:year .<= mean(:year), 1, 0)\n",
    "    end\n",
    "    @select(:is_first, :diff_vote_VAP, :diff_vote_VEP)\n",
    "    groupby(:is_first)\n",
    "    @combine begin\n",
    "        :mean_diff_vote_VAP = mean(:diff_vote_VAP)\n",
    "        :mean_diff_vote_VEP = mean(:diff_vote_VEP)\n",
    "    end\n",
    "end"
   ]
  },
  {
   "cell_type": "code",
   "execution_count": 67,
   "metadata": {},
   "outputs": [
    {
     "data": {
      "text/html": [
       "<div class=\"data-frame\"><p>1 rows × 4 columns</p><table class=\"data-frame\"><thead><tr><th></th><th>ANES</th><th>vote_VAP</th><th>vote_VEP</th><th>vote_adj_VAP</th></tr><tr><th></th><th title=\"Int64\">Int64</th><th title=\"Float64\">Float64</th><th title=\"Float64\">Float64</th><th title=\"Float64\">Float64</th></tr></thead><tbody><tr><th>1</th><td>78</td><td>55.6741</td><td>61.5543</td><td>62.8992</td></tr></tbody></table></div>"
      ],
      "text/latex": [
       "\\begin{tabular}{r|cccc}\n",
       "\t& ANES & vote\\_VAP & vote\\_VEP & vote\\_adj\\_VAP\\\\\n",
       "\t\\hline\n",
       "\t& Int64 & Float64 & Float64 & Float64\\\\\n",
       "\t\\hline\n",
       "\t1 & 78 & 55.6741 & 61.5543 & 62.8992 \\\\\n",
       "\\end{tabular}\n"
      ],
      "text/plain": [
       "\u001b[1m1×4 DataFrame\u001b[0m\n",
       "\u001b[1m Row \u001b[0m│\u001b[1m ANES  \u001b[0m\u001b[1m vote_VAP \u001b[0m\u001b[1m vote_VEP \u001b[0m\u001b[1m vote_adj_VAP \u001b[0m\n",
       "\u001b[1m     \u001b[0m│\u001b[90m Int64 \u001b[0m\u001b[90m Float64  \u001b[0m\u001b[90m Float64  \u001b[0m\u001b[90m Float64      \u001b[0m\n",
       "─────┼─────────────────────────────────────────\n",
       "   1 │    78   55.6741   61.5543       62.8992"
      ]
     },
     "metadata": {},
     "output_type": "display_data"
    }
   ],
   "source": [
    "@chain turnout_df begin\n",
    "    @rsubset(:year == 2008)\n",
    "    @rtransform begin\n",
    "        :vote_VAP = :total / (:VAP + :overseas) * 100\n",
    "        :vote_VEP = :total / (:VEP) * 100\n",
    "        :vote_adj_VAP = (:total - :osvoters) / (:VAP - :felons - :noncit) * 100\n",
    "    end\n",
    "    @select(:ANES, :vote_VAP, :vote_VEP, :vote_adj_VAP)\n",
    "end"
   ]
  },
  {
   "cell_type": "markdown",
   "metadata": {},
   "source": [
    "## 1.5.2"
   ]
  },
  {
   "cell_type": "code",
   "execution_count": 69,
   "metadata": {},
   "outputs": [
    {
     "data": {
      "text/html": [
       "<div class=\"data-frame\"><p>30 rows × 7 columns</p><table class=\"data-frame\"><thead><tr><th></th><th>country</th><th>period</th><th>age</th><th>births</th><th>deaths</th><th>py.men</th><th>py.women</th></tr><tr><th></th><th title=\"String7\">String7</th><th title=\"String15\">String15</th><th title=\"String7\">String7</th><th title=\"Float64\">Float64</th><th title=\"Float64\">Float64</th><th title=\"Float64\">Float64</th><th title=\"Float64\">Float64</th></tr></thead><tbody><tr><th>1</th><td>WORLD</td><td>1950-1955</td><td>0-4</td><td>0.0</td><td>1.0109e5</td><td>9.46911e5</td><td>9.04909e5</td></tr><tr><th>2</th><td>WORLD</td><td>1950-1955</td><td>5-9</td><td>0.0</td><td>7960.86</td><td>7.26903e5</td><td>6.94575e5</td></tr><tr><th>3</th><td>WORLD</td><td>1950-1955</td><td>10-14</td><td>0.0</td><td>5550.18</td><td>6.66795e5</td><td>6.35492e5</td></tr><tr><th>4</th><td>WORLD</td><td>1950-1955</td><td>15-19</td><td>54238.3</td><td>5831.19</td><td>6.26191e5</td><td>6.00678e5</td></tr><tr><th>5</th><td>WORLD</td><td>1950-1955</td><td>20-24</td><td>1.31939e5</td><td>6649.43</td><td>5.73518e5</td><td>555221.0</td></tr><tr><th>6</th><td>WORLD</td><td>1950-1955</td><td>25-29</td><td>1.28063e5</td><td>6425.22</td><td>5.085e5</td><td>507277.0</td></tr><tr><th>7</th><td>WORLD</td><td>1950-1955</td><td>30-34</td><td>89246.6</td><td>6208.63</td><td>4.33338e5</td><td>4.37132e5</td></tr><tr><th>8</th><td>WORLD</td><td>1950-1955</td><td>35-39</td><td>56005.5</td><td>6877.15</td><td>4.00279e5</td><td>4.05528e5</td></tr><tr><th>9</th><td>WORLD</td><td>1950-1955</td><td>40-44</td><td>24326.6</td><td>7995.13</td><td>3.73771e5</td><td>3.82444e5</td></tr><tr><th>10</th><td>WORLD</td><td>1950-1955</td><td>45-49</td><td>5071.98</td><td>8885.74</td><td>3.26278e5</td><td>3.33889e5</td></tr><tr><th>&vellip;</th><td>&vellip;</td><td>&vellip;</td><td>&vellip;</td><td>&vellip;</td><td>&vellip;</td><td>&vellip;</td><td>&vellip;</td></tr></tbody></table></div>"
      ],
      "text/latex": [
       "\\begin{tabular}{r|ccccccc}\n",
       "\t& country & period & age & births & deaths & py.men & py.women\\\\\n",
       "\t\\hline\n",
       "\t& String7 & String15 & String7 & Float64 & Float64 & Float64 & Float64\\\\\n",
       "\t\\hline\n",
       "\t1 & WORLD & 1950-1955 & 0-4 & 0.0 & 1.0109e5 & 9.46911e5 & 9.04909e5 \\\\\n",
       "\t2 & WORLD & 1950-1955 & 5-9 & 0.0 & 7960.86 & 7.26903e5 & 6.94575e5 \\\\\n",
       "\t3 & WORLD & 1950-1955 & 10-14 & 0.0 & 5550.18 & 6.66795e5 & 6.35492e5 \\\\\n",
       "\t4 & WORLD & 1950-1955 & 15-19 & 54238.3 & 5831.19 & 6.26191e5 & 6.00678e5 \\\\\n",
       "\t5 & WORLD & 1950-1955 & 20-24 & 1.31939e5 & 6649.43 & 5.73518e5 & 555221.0 \\\\\n",
       "\t6 & WORLD & 1950-1955 & 25-29 & 1.28063e5 & 6425.22 & 5.085e5 & 507277.0 \\\\\n",
       "\t7 & WORLD & 1950-1955 & 30-34 & 89246.6 & 6208.63 & 4.33338e5 & 4.37132e5 \\\\\n",
       "\t8 & WORLD & 1950-1955 & 35-39 & 56005.5 & 6877.15 & 4.00279e5 & 4.05528e5 \\\\\n",
       "\t9 & WORLD & 1950-1955 & 40-44 & 24326.6 & 7995.13 & 3.73771e5 & 3.82444e5 \\\\\n",
       "\t10 & WORLD & 1950-1955 & 45-49 & 5071.98 & 8885.74 & 3.26278e5 & 3.33889e5 \\\\\n",
       "\t$\\dots$ & $\\dots$ & $\\dots$ & $\\dots$ & $\\dots$ & $\\dots$ & $\\dots$ & $\\dots$ \\\\\n",
       "\\end{tabular}\n"
      ],
      "text/plain": [
       "\u001b[1m30×7 DataFrame\u001b[0m\n",
       "\u001b[1m Row \u001b[0m│\u001b[1m country \u001b[0m\u001b[1m period    \u001b[0m\u001b[1m age     \u001b[0m\u001b[1m births  \u001b[0m\u001b[1m deaths       \u001b[0m\u001b[1m py.men    \u001b[0m\u001b[1m py.women  \u001b[0m\n",
       "\u001b[1m     \u001b[0m│\u001b[90m String7 \u001b[0m\u001b[90m String15  \u001b[0m\u001b[90m String7 \u001b[0m\u001b[90m Float64 \u001b[0m\u001b[90m Float64      \u001b[0m\u001b[90m Float64   \u001b[0m\u001b[90m Float64   \u001b[0m\n",
       "─────┼──────────────────────────────────────────────────────────────────────────\n",
       "   1 │ WORLD    1950-1955  0-4          0.0      1.0109e5  9.46911e5  9.04909e5\n",
       "  ⋮  │    ⋮         ⋮         ⋮        ⋮          ⋮            ⋮          ⋮\n",
       "\u001b[36m                                                                 29 rows omitted\u001b[0m"
      ]
     },
     "metadata": {},
     "output_type": "display_data"
    }
   ],
   "source": [
    "kenya_df = CSV.read(\"../../data/INTRO/population-dynamics/data/Kenya.csv\", DataFrame, missingstring=[\"NA\"])\n",
    "sweden_df = CSV.read(\"../../data/INTRO/population-dynamics/data/Sweden.csv\", DataFrame, missingstring=[\"NA\"])\n",
    "world_df = CSV.read(\"../../data/INTRO/population-dynamics/data/World.csv\", DataFrame, missingstring=[\"NA\"])"
   ]
  },
  {
   "cell_type": "code",
   "execution_count": 76,
   "metadata": {},
   "outputs": [
    {
     "name": "stdout",
     "output_type": "stream",
     "text": [
      "\u001b[1m2×4 DataFrame\u001b[0m\n",
      "\u001b[1m Row \u001b[0m│\u001b[1m period    \u001b[0m\u001b[1m births_total \u001b[0m\u001b[1m py_total      \u001b[0m\u001b[1m CBR       \u001b[0m\n",
      "\u001b[1m     \u001b[0m│\u001b[90m String15  \u001b[0m\u001b[90m Float64      \u001b[0m\u001b[90m Float64       \u001b[0m\u001b[90m Float64   \u001b[0m\n",
      "─────┼───────────────────────────────────────────────────\n",
      "   1 │ 1950-1955       1672.49  32104.7        0.0520949\n",
      "   2 │ 2005-2010       7275.25      1.88894e5  0.0385151\n",
      "\u001b[1m2×4 DataFrame\u001b[0m\n",
      "\u001b[1m Row \u001b[0m│\u001b[1m period    \u001b[0m\u001b[1m births_total \u001b[0m\u001b[1m py_total \u001b[0m\u001b[1m CBR       \u001b[0m\n",
      "\u001b[1m     \u001b[0m│\u001b[90m String15  \u001b[0m\u001b[90m Float64      \u001b[0m\u001b[90m Float64  \u001b[0m\u001b[90m Float64   \u001b[0m\n",
      "─────┼──────────────────────────────────────────────\n",
      "   1 │ 1950-1955       548.069   35597.8  0.0153961\n",
      "   2 │ 2005-2010       546.474   45823.9  0.0119255\n"
     ]
    },
    {
     "name": "stdout",
     "output_type": "stream",
     "text": [
      "\u001b[1m2×4 DataFrame\u001b[0m\n",
      "\u001b[1m Row \u001b[0m│\u001b[1m period    \u001b[0m\u001b[1m births_total \u001b[0m\u001b[1m py_total  \u001b[0m\u001b[1m CBR       \u001b[0m\n",
      "\u001b[1m     \u001b[0m│\u001b[90m String15  \u001b[0m\u001b[90m Float64      \u001b[0m\u001b[90m Float64   \u001b[0m\u001b[90m Float64   \u001b[0m\n",
      "─────┼───────────────────────────────────────────────\n",
      "   1 │ 1950-1955     4.88892e5  1.3097e7   0.0373286\n",
      "   2 │ 2005-2010     6.74581e5  3.33688e7  0.0202159\n"
     ]
    }
   ],
   "source": [
    "function calculate_CBR(df)::DataFrame\n",
    "    df = @chain df begin\n",
    "        rename(\"py.men\" => :py_men, \"py.women\" => :py_women)\n",
    "        @rtransform :py = :py_men + :py_women\n",
    "        groupby(:period)\n",
    "        @combine begin\n",
    "            :births_total = sum(:births)\n",
    "            :py_total = sum(:py)\n",
    "        end\n",
    "        @rtransform :CBR = :births_total / :py_total\n",
    "    end\n",
    "    return df\n",
    "end\n",
    "\n",
    "println(calculate_CBR(kenya_df))\n",
    "println(calculate_CBR(sweden_df))\n",
    "println(calculate_CBR(world_df))"
   ]
  },
  {
   "cell_type": "code",
   "execution_count": 90,
   "metadata": {},
   "outputs": [
    {
     "name": "stdout",
     "output_type": "stream",
     "text": [
      "\u001b[1m2×4 DataFrame\u001b[0m\n",
      "\u001b[1m Row \u001b[0m│\u001b[1m period    \u001b[0m\u001b[1m births_total \u001b[0m\u001b[1m py_women_total \u001b[0m\u001b[1m ASFR     \u001b[0m\n",
      "\u001b[1m     \u001b[0m│\u001b[90m String15  \u001b[0m\u001b[90m Float64      \u001b[0m\u001b[90m Float64        \u001b[0m\u001b[90m Float64  \u001b[0m\n",
      "─────┼───────────────────────────────────────────────────\n",
      "   1 │ 1950-1955       1672.49         7131.05  0.234537\n",
      "   2 │ 2005-2010       7275.25        45946.3   0.158342\n",
      "\u001b[1m2×4 DataFrame\u001b[0m\n",
      "\u001b[1m Row \u001b[0m│\u001b[1m period    \u001b[0m\u001b[1m births_total \u001b[0m\u001b[1m py_women_total \u001b[0m\u001b[1m ASFR      \u001b[0m\n",
      "\u001b[1m     \u001b[0m│\u001b[90m String15  \u001b[0m\u001b[90m Float64      \u001b[0m\u001b[90m Float64        \u001b[0m\u001b[90m Float64   \u001b[0m\n",
      "─────┼────────────────────────────────────────────────────\n",
      "   1 │ 1950-1955       548.069         8724.88  0.0628168\n",
      "   2 │ 2005-2010       546.474        10308.4   0.0530123\n",
      "\u001b[1m2×4 DataFrame\u001b[0m\n",
      "\u001b[1m Row \u001b[0m│\u001b[1m period    \u001b[0m\u001b[1m births_total \u001b[0m\u001b[1m py_women_total \u001b[0m\u001b[1m ASFR      \u001b[0m\n",
      "\u001b[1m     \u001b[0m│\u001b[90m String15  \u001b[0m\u001b[90m Float64      \u001b[0m\u001b[90m Float64        \u001b[0m\u001b[90m Float64   \u001b[0m\n",
      "─────┼────────────────────────────────────────────────────\n",
      "   1 │ 1950-1955     4.88892e5       3.22217e6  0.151728\n",
      "   2 │ 2005-2010     6.74581e5       8.68057e6  0.0777116\n"
     ]
    }
   ],
   "source": [
    "function calc_total_ASFR(df)::DataFrame\n",
    "    f(x) = 1 <= parse(Int64, split(replace(x, \"+\"=>\"-\"), \"-\")[1]) / 15 <= 3\n",
    "    df = @chain df begin\n",
    "        rename(\"py.men\" => :py_men, \"py.women\" => :py_women)\n",
    "        @rsubset(f(:age))\n",
    "        groupby(:period)\n",
    "        @combine begin\n",
    "            :births_total = sum(:births)\n",
    "            :py_women_total = sum(:py_women)\n",
    "        end\n",
    "        @rtransform :ASFR = :births_total / :py_women_total\n",
    "    end\n",
    "    return df\n",
    "end\n",
    "println(calc_total_ASFR(kenya_df))\n",
    "println(calc_total_ASFR(sweden_df))\n",
    "println(calc_total_ASFR(world_df))"
   ]
  },
  {
   "cell_type": "code",
   "execution_count": 93,
   "metadata": {},
   "outputs": [
    {
     "name": "stdout",
     "output_type": "stream",
     "text": [
      "\u001b[1m2×2 DataFrame\u001b[0m\n",
      "\u001b[1m Row \u001b[0m│\u001b[1m period    \u001b[0m\u001b[1m TFR     \u001b[0m\n",
      "\u001b[1m     \u001b[0m│\u001b[90m String15  \u001b[0m\u001b[90m Float64 \u001b[0m\n",
      "─────┼────────────────────\n",
      "   1 │ 1950-1955  7.59141\n",
      "   2 │ 2005-2010  4.87957\n",
      "\u001b[1m2×2 DataFrame\u001b[0m\n",
      "\u001b[1m Row \u001b[0m│\u001b[1m period    \u001b[0m\u001b[1m TFR     \u001b[0m\n",
      "\u001b[1m     \u001b[0m│\u001b[90m String15  \u001b[0m\u001b[90m Float64 \u001b[0m\n",
      "─────┼────────────────────\n",
      "   1 │ 1950-1955  2.22692\n",
      "   2 │ 2005-2010  1.90276\n",
      "\u001b[1m2×2 DataFrame\u001b[0m\n",
      "\u001b[1m Row \u001b[0m│\u001b[1m period    \u001b[0m\u001b[1m TFR     \u001b[0m\n",
      "\u001b[1m     \u001b[0m│\u001b[90m String15  \u001b[0m\u001b[90m Float64 \u001b[0m\n",
      "─────┼────────────────────\n",
      "   1 │ 1950-1955  5.00725\n",
      "   2 │ 2005-2010  2.54362\n"
     ]
    }
   ],
   "source": [
    "function calc_TFR(df)::DataFrame\n",
    "    f(x) = 1 <= parse(Int64, split(replace(x, \"+\"=>\"-\"), \"-\")[1]) / 15 <= 3\n",
    "    df = @chain df begin\n",
    "        rename(\"py.men\" => :py_men, \"py.women\" => :py_women)\n",
    "        @rsubset(f(:age))\n",
    "        groupby([:period, :age])\n",
    "        @combine begin\n",
    "            :births_total = sum(:births)\n",
    "            :py_women_total = sum(:py_women)\n",
    "        end\n",
    "        @rtransform :ASFR = :births_total / :py_women_total\n",
    "        groupby(:period)\n",
    "        @combine :TFR = sum(:ASFR * 5)\n",
    "    end\n",
    "    return df\n",
    "end\n",
    "# (calc_TFR(kenya_df))\n",
    "println(calc_TFR(kenya_df))\n",
    "println(calc_TFR(sweden_df))\n",
    "println(calc_TFR(world_df))"
   ]
  },
  {
   "cell_type": "code",
   "execution_count": 94,
   "metadata": {},
   "outputs": [
    {
     "name": "stdout",
     "output_type": "stream",
     "text": [
      "\u001b[1m2×4 DataFrame\u001b[0m\n",
      "\u001b[1m Row \u001b[0m│\u001b[1m period    \u001b[0m\u001b[1m deaths_total \u001b[0m\u001b[1m py_total      \u001b[0m\u001b[1m CDR       \u001b[0m\n",
      "\u001b[1m     \u001b[0m│\u001b[90m String15  \u001b[0m\u001b[90m Float64      \u001b[0m\u001b[90m Float64       \u001b[0m\u001b[90m Float64   \u001b[0m\n",
      "─────┼───────────────────────────────────────────────────\n",
      "   1 │ 1950-1955       769.311  32104.7        0.0239625\n",
      "   2 │ 2005-2010      1962.44       1.88894e5  0.0103891\n",
      "\u001b[1m2×4 DataFrame\u001b[0m\n",
      "\u001b[1m Row \u001b[0m│\u001b[1m period    \u001b[0m\u001b[1m deaths_total \u001b[0m\u001b[1m py_total \u001b[0m\u001b[1m CDR        \u001b[0m\n",
      "\u001b[1m     \u001b[0m│\u001b[90m String15  \u001b[0m\u001b[90m Float64      \u001b[0m\u001b[90m Float64  \u001b[0m\u001b[90m Float64    \u001b[0m\n",
      "─────┼───────────────────────────────────────────────\n",
      "   1 │ 1950-1955       350.455   35597.8  0.00984484\n",
      "   2 │ 2005-2010       456.793   45823.9  0.00996846\n",
      "\u001b[1m2×4 DataFrame\u001b[0m\n",
      "\u001b[1m Row \u001b[0m│\u001b[1m period    \u001b[0m\u001b[1m deaths_total \u001b[0m\u001b[1m py_total  \u001b[0m\u001b[1m CDR        \u001b[0m\n",
      "\u001b[1m     \u001b[0m│\u001b[90m String15  \u001b[0m\u001b[90m Float64      \u001b[0m\u001b[90m Float64   \u001b[0m\u001b[90m Float64    \u001b[0m\n",
      "─────┼────────────────────────────────────────────────\n",
      "   1 │ 1950-1955     2.53019e5  1.3097e7   0.0193189\n",
      "   2 │ 2005-2010     2.72492e5  3.33688e7  0.00816608\n"
     ]
    }
   ],
   "source": [
    "function calculate_CDR(df)::DataFrame\n",
    "    df = @chain df begin\n",
    "        rename(\"py.men\" => :py_men, \"py.women\" => :py_women)\n",
    "        @rtransform :py = :py_men + :py_women\n",
    "        groupby(:period)\n",
    "        @combine begin\n",
    "            :deaths_total = sum(:deaths)\n",
    "            :py_total = sum(:py)\n",
    "        end\n",
    "        @rtransform :CDR = :deaths_total / :py_total\n",
    "    end\n",
    "    return df\n",
    "end\n",
    "\n",
    "println(calculate_CDR(kenya_df))\n",
    "println(calculate_CDR(sweden_df))\n",
    "println(calculate_CDR(world_df))"
   ]
  },
  {
   "cell_type": "code",
   "execution_count": 95,
   "metadata": {},
   "outputs": [
    {
     "name": "stdout",
     "output_type": "stream",
     "text": [
      "\u001b[1m15×9 DataFrame\u001b[0m\n",
      "\u001b[1m Row \u001b[0m│\u001b[1m country \u001b[0m\u001b[1m period    \u001b[0m\u001b[1m age     \u001b[0m\u001b[1m births   \u001b[0m\u001b[1m deaths  \u001b[0m\u001b[1m py_men    \u001b[0m\u001b[1m py_women  \u001b[0m\u001b[1m l_x      \u001b[0m\u001b[1m ASDR       \u001b[0m\n",
      "\u001b[1m     \u001b[0m│\u001b[90m String3 \u001b[0m\u001b[90m String15  \u001b[0m\u001b[90m String7 \u001b[0m\u001b[90m Float64  \u001b[0m\u001b[90m Float64 \u001b[0m\u001b[90m Float64   \u001b[0m\u001b[90m Float64   \u001b[0m\u001b[90m Float64  \u001b[0m\u001b[90m Float64    \u001b[0m\n",
      "─────┼────────────────────────────────────────────────────────────────────────────────────────────\n",
      "   1 │ KEN      2005-2010  0-4         0.0    661.251  15932.6    15674.8    100000.0  0.0209208\n",
      "   2 │ KEN      2005-2010  5-9         0.0     76.725  13254.0    13100.1     90959.1  0.0029113\n",
      "   3 │ KEN      2005-2010  10-14       0.0     66.137  11380.9    11277.4     89360.4  0.00291889\n",
      "   4 │ KEN      2005-2010  15-19    1063.63    62.441  10641.0    10575.9     88101.9  0.00294299\n",
      "   5 │ KEN      2005-2010  20-24    2285.72    75.375   9707.67    9692.04    86830.0  0.00388537\n",
      "   6 │ KEN      2005-2010  25-29    1868.31   105.366   8046.14    8020.33    85158.5  0.00655813\n",
      "   7 │ KEN      2005-2010  30-34    1119.29   132.677   6324.06    6188.02    82430.7  0.0106039\n",
      "   8 │ KEN      2005-2010  35-39     611.44   131.216   4794.93    4657.95    78352.8  0.0138811\n",
      "   9 │ KEN      2005-2010  40-44     208.039   98.897   3641.84    3697.67    72998.7  0.0134746\n",
      "  10 │ KEN      2005-2010  45-49     118.814   67.807   2892.61    3114.36    68493.4  0.0112881\n",
      "  11 │ KEN      2005-2010  50-54       0.0     55.204   2353.85    2596.14    64781.9  0.0111523\n",
      "  12 │ KEN      2005-2010  55-59       0.0     52.216   1790.57    1966.43    61285.6  0.0138983\n",
      "  13 │ KEN      2005-2010  60-69       0.0    111.775   2076.31    2325.05    57288.7  0.0253955\n",
      "  14 │ KEN      2005-2010  70-79       0.0    149.509   1122.98    1317.52    44378.1  0.0612616\n",
      "  15 │ KEN      2005-2010  80+         0.0    115.845    329.133    401.195   23198.3  0.158621\n",
      "\u001b[1m15×9 DataFrame\u001b[0m\n",
      "\u001b[1m Row \u001b[0m│\u001b[1m country \u001b[0m\u001b[1m period    \u001b[0m\u001b[1m age     \u001b[0m\u001b[1m births  \u001b[0m\u001b[1m deaths  \u001b[0m\u001b[1m py_men   \u001b[0m\u001b[1m py_women \u001b[0m\u001b[1m l_x      \u001b[0m\u001b[1m ASDR        \u001b[0m\n",
      "\u001b[1m     \u001b[0m│\u001b[90m String3 \u001b[0m\u001b[90m String15  \u001b[0m\u001b[90m String7 \u001b[0m\u001b[90m Float64 \u001b[0m\u001b[90m Float64 \u001b[0m\u001b[90m Float64  \u001b[0m\u001b[90m Float64  \u001b[0m\u001b[90m Float64  \u001b[0m\u001b[90m Float64     \u001b[0m\n",
      "─────┼──────────────────────────────────────────────────────────────────────────────────────────\n",
      "   1 │ SWE      2005-2010  0-4        0.0      1.801  1361.94    1290.21  100000.0  0.000679071\n",
      "   2 │ SWE      2005-2010  5-9        0.0      0.191  1204.16    1142.83   99675.2  8.13809e-5\n",
      "   3 │ SWE      2005-2010  10-14      0.0      0.32   1445.9     1372.25   99631.1  0.00011355\n",
      "   4 │ SWE      2005-2010  15-19      9.0      0.832  1588.19    1507.31   99584.8  0.000268778\n",
      "   5 │ SWE      2005-2010  20-24     69.501    1.318  1435.88    1369.96   99440.6  0.000469734\n",
      "   6 │ SWE      2005-2010  25-29    155.772    1.354  1399.64    1340.45   99205.0  0.000494144\n",
      "   7 │ SWE      2005-2010  30-34    193.185    1.503  1511.59    1460.49   98966.0  0.000505707\n",
      "   8 │ SWE      2005-2010  35-39     98.987    2.155  1639.97    1581.45   98717.4  0.000668958\n",
      "   9 │ SWE      2005-2010  40-44     19.122    3.336  1637.46    1572.52   98386.3  0.00103926\n",
      "  10 │ SWE      2005-2010  45-49      0.907    5.31   1524.39    1476.25   97871.5  0.00176962\n",
      "  11 │ SWE      2005-2010  50-54      0.0      8.59   1450.93    1423.21   97027.0  0.00298871\n",
      "  12 │ SWE      2005-2010  55-59      0.0     14.466  1541.47    1529.92   95583.2  0.00470991\n",
      "  13 │ SWE      2005-2010  60-69      0.0     51.588  2612.88    2635.79   93349.5  0.00982877\n",
      "  14 │ SWE      2005-2010  70-79      0.0     92.385  1500.12    1794.68   84371.9  0.0280396\n",
      "  15 │ SWE      2005-2010  80+        0.0    271.644   904.764   1567.22   63683.5  0.109889\n",
      "\u001b[1m15×8 DataFrame\u001b[0m\n",
      "\u001b[1m Row \u001b[0m│\u001b[1m country \u001b[0m\u001b[1m period    \u001b[0m\u001b[1m age     \u001b[0m\u001b[1m births        \u001b[0m\u001b[1m deaths   \u001b[0m\u001b[1m py_men    \u001b[0m\u001b[1m py_women  \u001b[0m\u001b[1m ASDR       \u001b[0m\n",
      "\u001b[1m     \u001b[0m│\u001b[90m String7 \u001b[0m\u001b[90m String15  \u001b[0m\u001b[90m String7 \u001b[0m\u001b[90m Float64       \u001b[0m\u001b[90m Float64  \u001b[0m\u001b[90m Float64   \u001b[0m\u001b[90m Float64   \u001b[0m\u001b[90m Float64    \u001b[0m\n",
      "─────┼────────────────────────────────────────────────────────────────────────────────────────\n",
      "   1 │ WORLD    2005-2010  0-4          0.0        40098.4   1.6198e6   1.51227e6  0.0128025\n",
      "   2 │ WORLD    2005-2010  5-9          0.0         3757.2   1.54441e6  1.44485e6  0.0012569\n",
      "   3 │ WORLD    2005-2010  10-14        0.0         3247.76  1.55269e6  1.4571e6   0.00107907\n",
      "   4 │ WORLD    2005-2010  15-19    73194.7         4043.2   1.59394e6  1.50949e6  0.00130282\n",
      "   5 │ WORLD    2005-2010  20-24        2.19277e5   5399.35  1.50339e6  1.44289e6  0.0018326\n",
      "   6 │ WORLD    2005-2010  25-29        1.90319e5   5996.75  1.33703e6  1.29485e6  0.0022785\n",
      "   7 │ WORLD    2005-2010  30-34        1.14931e5   6519.38  1.25943e6  1.2251e6   0.00262398\n",
      "   8 │ WORLD    2005-2010  35-39    54975.8         7238.03  1.21008e6  1.17747e6  0.00303156\n",
      "   9 │ WORLD    2005-2010  40-44    17604.7         8212.6   1.10594e6  1.0821e6   0.0037534\n",
      "  10 │ WORLD    2005-2010  45-49     4278.73        9709.55  9.60561e5  9.48669e5  0.00508558\n",
      "  11 │ WORLD    2005-2010  50-54        0.0        11955.1   8.40308e5  8.37233e5  0.00712659\n",
      "  12 │ WORLD    2005-2010  55-59        0.0        14431.1   6.81102e5  6.96281e5  0.0104772\n",
      "  13 │ WORLD    2005-2010  60-69        0.0        38270.2   9.0866e5   9.82545e5  0.0202359\n",
      "  14 │ WORLD    2005-2010  70-79        0.0        54685.2   5.15933e5  6.36366e5  0.0474575\n",
      "  15 │ WORLD    2005-2010  80+          0.0        58928.5   1.80744e5  3.07562e5  0.120679\n"
     ]
    }
   ],
   "source": [
    "function calc_ASDR(df)::DataFrame\n",
    "    df = @chain df begin\n",
    "        rename(\"py.men\" => :py_men, \"py.women\" => :py_women)\n",
    "        @rsubset(:period == \"2005-2010\")\n",
    "        @rtransform begin\n",
    "            :ASDR = :deaths / (:py_men + :py_women)\n",
    "        end \n",
    "    end\n",
    "    return df\n",
    "end\n",
    "println(calc_ASDR(kenya_df))\n",
    "println(calc_ASDR(sweden_df))\n",
    "println(calc_ASDR(world_df))"
   ]
  },
  {
   "cell_type": "code",
   "execution_count": 101,
   "metadata": {},
   "outputs": [
    {
     "data": {
      "text/html": [
       "<div class=\"data-frame\"><p>1 rows × 1 columns</p><table class=\"data-frame\"><thead><tr><th></th><th>est_CDR</th></tr><tr><th></th><th title=\"Float64\">Float64</th></tr></thead><tbody><tr><th>1</th><td>0.0232165</td></tr></tbody></table></div>"
      ],
      "text/latex": [
       "\\begin{tabular}{r|c}\n",
       "\t& est\\_CDR\\\\\n",
       "\t\\hline\n",
       "\t& Float64\\\\\n",
       "\t\\hline\n",
       "\t1 & 0.0232165 \\\\\n",
       "\\end{tabular}\n"
      ],
      "text/plain": [
       "\u001b[1m1×1 DataFrame\u001b[0m\n",
       "\u001b[1m Row \u001b[0m│\u001b[1m est_CDR   \u001b[0m\n",
       "\u001b[1m     \u001b[0m│\u001b[90m Float64   \u001b[0m\n",
       "─────┼───────────\n",
       "   1 │ 0.0232165"
      ]
     },
     "metadata": {},
     "output_type": "display_data"
    }
   ],
   "source": [
    "kenya_asdr_df = @chain kenya_df begin\n",
    "    rename(\"py.men\" => :py_men, \"py.women\" => :py_women)\n",
    "    @rsubset(:period == \"2005-2010\")\n",
    "    @rtransform begin\n",
    "        :ASDR = :deaths / (:py_men + :py_women)\n",
    "    end\n",
    "    @select(:age, :ASDR)\n",
    "end\n",
    "\n",
    "sweden_pop_ratio_df = @chain sweden_df begin\n",
    "    rename(\"py.men\" => :py_men, \"py.women\" => :py_women)\n",
    "    @rsubset(:period == \"2005-2010\")\n",
    "    @transform begin\n",
    "        @astable begin\n",
    "            :py_total = :py_men .+ :py_women\n",
    "            :pop_ratio = :py_total ./ sum(:py_total)\n",
    "        end\n",
    "    end\n",
    "    @select(:age, :pop_ratio)\n",
    "end\n",
    "\n",
    "@chain kenya_asdr_df begin\n",
    "    innerjoin(sweden_pop_ratio_df, on = :age)\n",
    "    @rtransform :adj_ASDR = :ASDR * :pop_ratio\n",
    "    @combine(:est_CDR = sum(:adj_ASDR))\n",
    "end"
   ]
  },
  {
   "cell_type": "code",
   "execution_count": null,
   "metadata": {},
   "outputs": [],
   "source": []
  }
 ],
 "metadata": {
  "kernelspec": {
   "display_name": "Julia 1.8.1",
   "language": "julia",
   "name": "julia-1.8"
  },
  "language_info": {
   "file_extension": ".jl",
   "mimetype": "application/julia",
   "name": "julia",
   "version": "1.8.1"
  },
  "orig_nbformat": 4
 },
 "nbformat": 4,
 "nbformat_minor": 2
}
